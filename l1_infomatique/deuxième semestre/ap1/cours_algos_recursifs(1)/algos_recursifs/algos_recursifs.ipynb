{
 "cells": [
  {
   "cell_type": "markdown",
   "metadata": {},
   "source": [
    "**Algorithmes récursifs**\n",
    "\n",
    "[<img align=\"center\" width=\"25%\" src=\"1280px-Russian-Matroshka_no_bg.jpg\"/>](1280px-Russian-Matroshka_no_bg.jpg)\n",
    "\n",
    "\n",
    "\n",
    "**Objectifs**\n",
    "\n",
    "* Découvrir une autre forme d’expression d’algorithmes\n",
    "* Plusieurs types de récursivité\n",
    "* La récursivité en Python"
   ]
  },
  {
   "cell_type": "markdown",
   "metadata": {
    "toc-hr-collapsed": true
   },
   "source": [
    "# Quelques problèmes"
   ]
  },
  {
   "cell_type": "markdown",
   "metadata": {},
   "source": [
    "## Dériver une fonction "
   ]
  },
  {
   "cell_type": "markdown",
   "metadata": {},
   "source": [
    "Le calcul de l'expression de la fonction dérivée d'une fonction dérivable d'un intervalle $I$ dans $\\mathbb{R}$ s'effectue en connaissant par cœur les dérivées d'un certain nombre de fonctions de bases (puissances, fonctions trigonométriques, ...) et quelques règles de dérivation.\n",
    "\n",
    "Fonctions de base\n",
    "* $f(x) = x^n$, $n\\in\\mathbb{N}$ : $f'(x) = nx^{n-1}$\n",
    "* $f(x) = \\frac{1}{x}$ : $f'(x) = -\\frac{1}{x^2}$\n",
    "* $f(x) = \\sqrt{x}$ : $f'(x) = \\frac{1}{2\\sqrt{x}}$\n",
    "* $f(x) = \\ln{x}$ : $f'(x) = \\frac{1}{x}$\n",
    "* $f(x) = \\sin{x}$ : $f'(x) = \\cos{x}$\n",
    "* ...\n",
    "\n",
    "Règles de dérivation\n",
    "\n",
    "* somme : $(u + v)' = u' + v'$\n",
    "* produit par un scalaire : $(c.u)' = c.u'$\n",
    "* produit : $(u.v)' = u'.v + u.v'$\n",
    "* quotient : $(\\frac{u}{v})' = \\frac{u'.v - u.v'}{v^2}$\n",
    "* composition : $(v\\circ u)' = (v'\\circ u).u'$\n",
    "* ..."
   ]
  },
  {
   "cell_type": "markdown",
   "metadata": {},
   "source": [
    "Remarquons que les régles de récursivation s'expriment toutes sous la forme\n",
    "\n",
    "* si la fonction peut se décomposer de telle façon, alors combiner les dérivées des composantes de telle façon."
   ]
  },
  {
   "cell_type": "markdown",
   "metadata": {},
   "source": [
    "## Les tours de Hanoi"
   ]
  },
  {
   "cell_type": "markdown",
   "metadata": {},
   "source": [
    "Le problème mathématique des tours de Hanoï a été inventé par Édouard Lucas. Il est publié dans le tome 3 de ses *Récréations mathématiques*, parues à titre posthume en 1892. Il annonce que ce problème est dû à un de ses amis, N. Claus de Siam (anagramme de Lucas d'Amiens, Amiens étant sa ville de naissance), prétendument professeur au collège de Li-Sou-Stian (anagramme de Saint Louis, le lycée où Lucas enseignait).\n",
    "\n",
    "> Un de nos amis, le professeur N. Claus (de Siam), mandarin du collège Li-Sou-Stian, a publié à la fin de l’année dernière, \n",
    "> un jeu inédit qu’il a appelé la Tour d’Hanoï, véritable casse-tête annamite qu’il n’a pas rapporté du Tonkin, quoiqu’en dise \n",
    "> le prospectus. Cette tour se compose d’étages superposés et décroissants, en nombre variable, représentés par huit pions en \n",
    "> bois percés à leur centre, et enfilés dans l’un des trois clous fixés sur une tablette. Le jeu consiste à déplacer la tour \n",
    "> en enfilant les pions sur un des deux autres clous et en ne déplaçant qu’un seul étage à la fois, mais avec défense expresse \n",
    "> de poser un étage sur un autre plus petit.\n",
    "\n",
    "![Tours de Hanoi](tour_hanoi.png) \n",
    "(source texte cité et image : Récréations mathématiques, vol 3, Édouard Lucas)\n"
   ]
  },
  {
   "cell_type": "markdown",
   "metadata": {},
   "source": [
    "La figure ci-dessous montre les sept étapes permettant de résoudre le problème des tours de Hanoi à 3 disques.\n",
    "\n",
    "![Solution du problème des tours de Hanoi à 3 disques](hanoi3-sol.png)"
   ]
  },
  {
   "cell_type": "markdown",
   "metadata": {},
   "source": [
    "Et celle-ci donne les quinze étapes pour le problème à 4 disques.\n",
    "\n",
    "![Solution du problème des tours de Hanoi à 4 disques](hanoi4-sol.png)"
   ]
  },
  {
   "cell_type": "markdown",
   "metadata": {},
   "source": [
    "**Recherche d'un algorithme général de résolution**\n",
    "\n",
    "Pour résoudre le problème général à $n\\geq 1$ disques, il va être nécessaire de déplacer le plus grand des disques depuis la tour A vers la tour C. \n",
    "Pour cela, il faut mettre tous les disques de tailles plus petites sur la tour intermédiaire B tout en respectant les contraintes imposées par le jeu. Autrement dit il faut résoudre un problème analogue, avec un disque de moins, mais dans lequel la tour d'arrivée est la tour B.\n",
    "\n",
    "Supposons cela réalisé.\n",
    "\n",
    "![](hanoi10-511.png)\n",
    "\n",
    "On peut alors déplacer le plus grand des disques.\n",
    "\n",
    "![](hanoi10-512.png)\n",
    "\n",
    "Il ne reste plus qu'à déplacer les disques situés sur la tour B pour les amener sur la tour C au dessus du grand disque. Cette étape est encore un problème analogue au problème initial avec $n-1$ disques et la tour B comme tour de départ.\n",
    "\n",
    "![](hanoi10-1023.png)\n",
    "\n",
    "En désignant par `resoud_hanoi(n, depart, arrivee)` le problème des tours de Hanoi à $n$ disques situés sur la tour  `depart` devant être amenés sur la tour `arrivee`,\n",
    "nous pouvons donner une formulation *récursive* d'une résolution algorithmique de ce problème :\n",
    "\n",
    "     resoud_hanoi(n, depart, arrivee)\n",
    "         si n > 0\n",
    "            intermediaire = autre_tour(depart, arrivee)\n",
    "            resoud_hanoi(n - 1, depart, intermediaire)\n",
    "            déplacer le grand disque depuis depart jusque arrivee\n",
    "            resoud_hanoi(n - 1, intermediaire, arrivee)\n",
    "\n",
    "Dans cette formulation, la fonction `autre_tour` est chargée de déterminer la tour intermédiaire, c'est-à-dire la tour autre que celles désignées par `depart` et `arrivee`."
   ]
  },
  {
   "cell_type": "markdown",
   "metadata": {},
   "source": [
    "## Factorielle"
   ]
  },
  {
   "cell_type": "markdown",
   "metadata": {},
   "source": [
    "Terminons avec l'exemple classique du calcul de la factorielle d'un nombre entier naturel $n$. Rappelons que ce nombre, noté $n!$ est le produit de tous les entiers compris entre 1 et $n$.\n",
    "$$ n! = 1\\times 2\\times\\ldots\\times n.$$\n",
    "Pour $n=0$, on pose $0! = 1$."
   ]
  },
  {
   "cell_type": "markdown",
   "metadata": {},
   "source": [
    "Il est facile de vérifier que, pour un entier $n\\geq 1$ on a\n",
    "$$ n! = n\\times (n-1)!.$$\n",
    "Cette relation permet de calculer récursivement la factorielle de n'importe quel nombre."
   ]
  },
  {
   "cell_type": "markdown",
   "metadata": {},
   "source": [
    "Par exemple, avec $n=4$ on peut écrire\n",
    "$$ 4! = 4\\times 3!.$$\n",
    "Le calcul de $4!$ se ramène donc au calcul de $3!$. Mais on peut écrire\n",
    "$$ 3! = 3\\times 2!,$$\n",
    "et le calcul de $3!$ conduit à celui de $2!$.  Qui se poursuit de la même façon en écrivant\n",
    "\\begin{align*}\n",
    "  2! &= 2\\times 1!\\\\\n",
    "  1! &= 1\\times 0!.\n",
    "\\end{align*}\n",
    "On en est donc arrivé au calcul de $0!$. Mais nous savons que $0!=1$. On peut donc terminer le calcul en écrivant\n",
    "\\begin{align*}\n",
    "  1! &= 1\\times 0! = 1\\\\\n",
    "  2! &= 2\\times 1! = 2\\\\\n",
    "  3! &= 3\\times 2! = 6\\\\\n",
    "  4! &= 4\\times 3! = 24.\n",
    "\\end{align*}\n",
    "Ainsi $4!=24$."
   ]
  },
  {
   "cell_type": "markdown",
   "metadata": {},
   "source": [
    "Nous pouvons formuler récursivement l'algorithme de calcul de la factorielle d'un nombre $n$ par\n",
    "\n",
    "    fact(n)\n",
    "        si n=0 alors\n",
    "           n! = 1\n",
    "        sinon\n",
    "           n! = n * fact(n-1)"
   ]
  },
  {
   "cell_type": "markdown",
   "metadata": {
    "toc-hr-collapsed": false
   },
   "source": [
    "# Généralités sur les algorithmes récursifs"
   ]
  },
  {
   "cell_type": "markdown",
   "metadata": {},
   "source": [
    "## Définition"
   ]
  },
  {
   "cell_type": "markdown",
   "metadata": {},
   "source": [
    "Un algorithme de résolution d’un problème $P$ sur une donnée $a$ est dit *récursif* si parmi les opérations utilisées pour le résoudre, on trouve la résolution du même problème $P$ sur une donnée $b$. Dans un algorithme récursif, on nomme *appel récursif* toute étape de l’algorithme résolvant le même problème sur une autre donnée."
   ]
  },
  {
   "cell_type": "markdown",
   "metadata": {},
   "source": [
    "En Python, les algorithmes récursifs peuvent être tout simplement exprimés par des fonctions qui font appel à elle-même."
   ]
  },
  {
   "cell_type": "code",
   "execution_count": null,
   "metadata": {},
   "outputs": [],
   "source": [
    "def fact(n):\n",
    "    if n == 0:\n",
    "        res = 1\n",
    "    else:\n",
    "        res = n * fact(n-1)\n",
    "    return res"
   ]
  },
  {
   "cell_type": "code",
   "execution_count": 2,
   "metadata": {},
   "outputs": [
    {
     "data": {
      "text/plain": [
       "[1, 1, 2, 6, 24, 120, 720, 5040, 40320, 362880]"
      ]
     },
     "execution_count": 2,
     "metadata": {},
     "output_type": "execute_result"
    }
   ],
   "source": [
    "[fact(n) for n in range(10)]"
   ]
  },
  {
   "cell_type": "markdown",
   "metadata": {},
   "source": [
    "Dans la fonction `fact` ci-dessus, il y a un *appel récursif* à `fact` : `fact(n-1)`."
   ]
  },
  {
   "cell_type": "markdown",
   "metadata": {},
   "source": [
    "## Principes de conception"
   ]
  },
  {
   "cell_type": "code",
   "execution_count": 3,
   "metadata": {},
   "outputs": [],
   "source": [
    "def fact_mauvais1(n):\n",
    "    return n * fact_mauvais1(n-1)"
   ]
  },
  {
   "cell_type": "code",
   "execution_count": 4,
   "metadata": {},
   "outputs": [
    {
     "ename": "RecursionError",
     "evalue": "maximum recursion depth exceeded",
     "output_type": "error",
     "traceback": [
      "\u001b[0;31m---------------------------------------------------------------------------\u001b[0m",
      "\u001b[0;31mRecursionError\u001b[0m                            Traceback (most recent call last)",
      "\u001b[0;32m<ipython-input-4-c395be5a42a1>\u001b[0m in \u001b[0;36m<module>\u001b[0;34m()\u001b[0m\n\u001b[0;32m----> 1\u001b[0;31m \u001b[0mfact_mauvais1\u001b[0m\u001b[0;34m(\u001b[0m\u001b[0;36m4\u001b[0m\u001b[0;34m)\u001b[0m\u001b[0;34m\u001b[0m\u001b[0m\n\u001b[0m",
      "\u001b[0;32m<ipython-input-3-65e8a0e8b2ba>\u001b[0m in \u001b[0;36mfact_mauvais1\u001b[0;34m(n)\u001b[0m\n\u001b[1;32m      1\u001b[0m \u001b[0;32mdef\u001b[0m \u001b[0mfact_mauvais1\u001b[0m\u001b[0;34m(\u001b[0m\u001b[0mn\u001b[0m\u001b[0;34m)\u001b[0m\u001b[0;34m:\u001b[0m\u001b[0;34m\u001b[0m\u001b[0m\n\u001b[0;32m----> 2\u001b[0;31m     \u001b[0;32mreturn\u001b[0m \u001b[0mn\u001b[0m \u001b[0;34m*\u001b[0m \u001b[0mfact_mauvais1\u001b[0m\u001b[0;34m(\u001b[0m\u001b[0mn\u001b[0m\u001b[0;34m-\u001b[0m\u001b[0;36m1\u001b[0m\u001b[0;34m)\u001b[0m\u001b[0;34m\u001b[0m\u001b[0m\n\u001b[0m",
      "... last 1 frames repeated, from the frame below ...\n",
      "\u001b[0;32m<ipython-input-3-65e8a0e8b2ba>\u001b[0m in \u001b[0;36mfact_mauvais1\u001b[0;34m(n)\u001b[0m\n\u001b[1;32m      1\u001b[0m \u001b[0;32mdef\u001b[0m \u001b[0mfact_mauvais1\u001b[0m\u001b[0;34m(\u001b[0m\u001b[0mn\u001b[0m\u001b[0;34m)\u001b[0m\u001b[0;34m:\u001b[0m\u001b[0;34m\u001b[0m\u001b[0m\n\u001b[0;32m----> 2\u001b[0;31m     \u001b[0;32mreturn\u001b[0m \u001b[0mn\u001b[0m \u001b[0;34m*\u001b[0m \u001b[0mfact_mauvais1\u001b[0m\u001b[0;34m(\u001b[0m\u001b[0mn\u001b[0m\u001b[0;34m-\u001b[0m\u001b[0;36m1\u001b[0m\u001b[0;34m)\u001b[0m\u001b[0;34m\u001b[0m\u001b[0m\n\u001b[0m",
      "\u001b[0;31mRecursionError\u001b[0m: maximum recursion depth exceeded"
     ]
    }
   ],
   "source": [
    "fact_mauvais1(4)"
   ]
  },
  {
   "cell_type": "markdown",
   "metadata": {},
   "source": [
    "**Règle 1 :**\n",
    "\n",
    "> Tout algorithme récursif doit distinguer plusieurs cas dont l’un au moins ne doit pas contenir \n",
    "> d’appels récursifs. sinon il y a risque de cercle vicieux et de calcul infini."
   ]
  },
  {
   "cell_type": "markdown",
   "metadata": {},
   "source": [
    "Une conséquence de cette règle est que beaucoup d'algorithme récursif s'expriment sous forme d'une instruction conditionnelle."
   ]
  },
  {
   "cell_type": "code",
   "execution_count": 5,
   "metadata": {},
   "outputs": [],
   "source": [
    "def fact_mauvais2(n):\n",
    "    if n == 0:\n",
    "        res = 1\n",
    "    else:\n",
    "        res = fact_mauvais2(n+1) // (n+1)\n",
    "    return res"
   ]
  },
  {
   "cell_type": "code",
   "execution_count": 6,
   "metadata": {},
   "outputs": [
    {
     "ename": "RecursionError",
     "evalue": "maximum recursion depth exceeded in comparison",
     "output_type": "error",
     "traceback": [
      "\u001b[0;31m---------------------------------------------------------------------------\u001b[0m",
      "\u001b[0;31mRecursionError\u001b[0m                            Traceback (most recent call last)",
      "\u001b[0;32m<ipython-input-6-d6660093cbd4>\u001b[0m in \u001b[0;36m<module>\u001b[0;34m()\u001b[0m\n\u001b[0;32m----> 1\u001b[0;31m \u001b[0mfact_mauvais2\u001b[0m\u001b[0;34m(\u001b[0m\u001b[0;36m4\u001b[0m\u001b[0;34m)\u001b[0m\u001b[0;34m\u001b[0m\u001b[0m\n\u001b[0m",
      "\u001b[0;32m<ipython-input-5-d6106edc874e>\u001b[0m in \u001b[0;36mfact_mauvais2\u001b[0;34m(n)\u001b[0m\n\u001b[1;32m      3\u001b[0m         \u001b[0mres\u001b[0m \u001b[0;34m=\u001b[0m \u001b[0;36m1\u001b[0m\u001b[0;34m\u001b[0m\u001b[0m\n\u001b[1;32m      4\u001b[0m     \u001b[0;32melse\u001b[0m\u001b[0;34m:\u001b[0m\u001b[0;34m\u001b[0m\u001b[0m\n\u001b[0;32m----> 5\u001b[0;31m         \u001b[0mres\u001b[0m \u001b[0;34m=\u001b[0m \u001b[0mfact_mauvais2\u001b[0m\u001b[0;34m(\u001b[0m\u001b[0mn\u001b[0m\u001b[0;34m+\u001b[0m\u001b[0;36m1\u001b[0m\u001b[0;34m)\u001b[0m \u001b[0;34m//\u001b[0m \u001b[0;34m(\u001b[0m\u001b[0mn\u001b[0m\u001b[0;34m+\u001b[0m\u001b[0;36m1\u001b[0m\u001b[0;34m)\u001b[0m\u001b[0;34m\u001b[0m\u001b[0m\n\u001b[0m\u001b[1;32m      6\u001b[0m     \u001b[0;32mreturn\u001b[0m \u001b[0mres\u001b[0m\u001b[0;34m\u001b[0m\u001b[0m\n",
      "... last 1 frames repeated, from the frame below ...\n",
      "\u001b[0;32m<ipython-input-5-d6106edc874e>\u001b[0m in \u001b[0;36mfact_mauvais2\u001b[0;34m(n)\u001b[0m\n\u001b[1;32m      3\u001b[0m         \u001b[0mres\u001b[0m \u001b[0;34m=\u001b[0m \u001b[0;36m1\u001b[0m\u001b[0;34m\u001b[0m\u001b[0m\n\u001b[1;32m      4\u001b[0m     \u001b[0;32melse\u001b[0m\u001b[0;34m:\u001b[0m\u001b[0;34m\u001b[0m\u001b[0m\n\u001b[0;32m----> 5\u001b[0;31m         \u001b[0mres\u001b[0m \u001b[0;34m=\u001b[0m \u001b[0mfact_mauvais2\u001b[0m\u001b[0;34m(\u001b[0m\u001b[0mn\u001b[0m\u001b[0;34m+\u001b[0m\u001b[0;36m1\u001b[0m\u001b[0;34m)\u001b[0m \u001b[0;34m//\u001b[0m \u001b[0;34m(\u001b[0m\u001b[0mn\u001b[0m\u001b[0;34m+\u001b[0m\u001b[0;36m1\u001b[0m\u001b[0;34m)\u001b[0m\u001b[0;34m\u001b[0m\u001b[0m\n\u001b[0m\u001b[1;32m      6\u001b[0m     \u001b[0;32mreturn\u001b[0m \u001b[0mres\u001b[0m\u001b[0;34m\u001b[0m\u001b[0m\n",
      "\u001b[0;31mRecursionError\u001b[0m: maximum recursion depth exceeded in comparison"
     ]
    }
   ],
   "source": [
    "fact_mauvais2(4)"
   ]
  },
  {
   "cell_type": "markdown",
   "metadata": {},
   "source": [
    "**Règle 2 :**\n",
    "\n",
    "> Tout appel récursif doit se faire avec des données « plus proches » de données satisfaisant \n",
    "> les conditions de terminaison."
   ]
  },
  {
   "cell_type": "markdown",
   "metadata": {},
   "source": [
    "Dans le cas de la fonction `fact`, le cas de base est $n=0$, et l'appel récursif pour un entier $n>0$ se fait sur la donnée $n-1$ qui est plus proche de 0 que $n$."
   ]
  },
  {
   "cell_type": "code",
   "execution_count": 7,
   "metadata": {},
   "outputs": [],
   "source": [
    "def syracuse(n):\n",
    "    if n <= 1:\n",
    "        res = 1\n",
    "    elif n % 2 == 0:\n",
    "        res = syracuse(n // 2)\n",
    "    else:\n",
    "        res = syracuse(3*n + 1)\n",
    "    return res"
   ]
  },
  {
   "cell_type": "code",
   "execution_count": 8,
   "metadata": {},
   "outputs": [
    {
     "data": {
      "text/plain": [
       "[1, 1, 1, 1, 1, 1, 1, 1, 1, 1, 1, 1, 1, 1, 1, 1, 1, 1, 1, 1]"
      ]
     },
     "execution_count": 8,
     "metadata": {},
     "output_type": "execute_result"
    }
   ],
   "source": [
    "[syracuse(n) for n in range(20)]"
   ]
  },
  {
   "cell_type": "markdown",
   "metadata": {},
   "source": [
    "Apparemment cette fonction est constante égale à 1. Une analyse facile du code permet de se convaincre que si le calcul récursif s'arrête alors la valeur renvoyée ne peut être que 1.\n",
    "\n",
    "Mais à ce jour, personne n'est parvenu à prouver que le calcul de `syracuse(n)` s'arrête pour tout entière $n$, ni n'a pu exhiber un entier $n$ pour lequel ce calcul est infini. [Pour en savoir plus](https://fr.wikipedia.org/wiki/Conjecture_de_Syracuse)."
   ]
  },
  {
   "cell_type": "markdown",
   "metadata": {},
   "source": [
    "## Typologie"
   ]
  },
  {
   "cell_type": "markdown",
   "metadata": {},
   "source": [
    "### Récursivité multiple"
   ]
  },
  {
   "cell_type": "code",
   "execution_count": 9,
   "metadata": {},
   "outputs": [],
   "source": [
    "from hanoi import OTHER, move_disc\n",
    "def resoud_hanoi(n, dep, arr):\n",
    "    if n > 0:\n",
    "        intermediaire = OTHER[(dep, arr)]\n",
    "        resoud_hanoi(n - 1, dep, intermediaire)\n",
    "        move_disc(dep, arr)\n",
    "        resoud_hanoi(n - 1, intermediaire, arr)"
   ]
  },
  {
   "cell_type": "code",
   "execution_count": 10,
   "metadata": {},
   "outputs": [
    {
     "name": "stdout",
     "output_type": "stream",
     "text": [
      "A -> C\n",
      "A -> B\n",
      "C -> B\n",
      "A -> C\n",
      "B -> A\n",
      "B -> C\n",
      "A -> C\n"
     ]
    }
   ],
   "source": [
    "resoud_hanoi(3, 'A', 'C')"
   ]
  },
  {
   "cell_type": "markdown",
   "metadata": {},
   "source": [
    "Dans la fonction `resoud_hanoi`, il y a deux appels récursifs."
   ]
  },
  {
   "cell_type": "markdown",
   "metadata": {},
   "source": [
    "La suite $(F_n)_{n\\in\\mathbb{N}}$ des nombres de Fibonacci est définie par ses deux premiers termes $F_0=0$ et $F_1=1$, et pour tout entier $n\\geq 0$ par la relation de récurrence :\n",
    "\n",
    "$$ F_{n+2} = F_{n+1} + F_n.$$\n",
    "\n",
    "Ainsi les premiers termes de cette suite sont\n",
    "\n",
    "|$n$ | $F_n$ |\n",
    "|----|-------|\n",
    "|0   | 0 |\n",
    "|1   | 1 |\n",
    "|2   | 1 |\n",
    "|3   | 2 |\n",
    "|4   | 3 |\n",
    "|5   | 5 |\n",
    "|6   | 8 |\n",
    "|7   | 13 |\n",
    "|8   | 21 |\n"
   ]
  },
  {
   "cell_type": "code",
   "execution_count": 11,
   "metadata": {},
   "outputs": [],
   "source": [
    "def fibonacci(n):\n",
    "    '''\n",
    "    :param n: (int) l'indice du terme souhaité\n",
    "    :return: (int) le terme F_n de la suite de Fibonacci\n",
    "    :CU: n >= 0\n",
    "    '''\n",
    "    if n <= 1:\n",
    "        res = n\n",
    "    else:\n",
    "        res = fibonacci(n - 1) + fibonacci(n - 2)\n",
    "    return res"
   ]
  },
  {
   "cell_type": "code",
   "execution_count": 12,
   "metadata": {},
   "outputs": [
    {
     "data": {
      "text/plain": [
       "[0, 1, 1, 2, 3, 5, 8, 13, 21, 34]"
      ]
     },
     "execution_count": 12,
     "metadata": {},
     "output_type": "execute_result"
    }
   ],
   "source": [
    "[fibonacci(n) for n in range(10)]"
   ]
  },
  {
   "cell_type": "markdown",
   "metadata": {},
   "source": [
    "### Récursivité mutuelle"
   ]
  },
  {
   "cell_type": "code",
   "execution_count": 13,
   "metadata": {},
   "outputs": [],
   "source": [
    "def est_pair(n):\n",
    "    '''\n",
    "    :param n: (int)\n",
    "    :return: (bool)\n",
    "       - True si n est pair\n",
    "       - False sinon\n",
    "    :CU: n >= 0\n",
    "    '''\n",
    "    if n == 0:\n",
    "        res = True\n",
    "    else:\n",
    "        res = est_impair(n - 1)\n",
    "    return res\n",
    "\n",
    "def est_impair(n):\n",
    "    '''\n",
    "    :param n: (int)\n",
    "    :return: (bool)\n",
    "       - True si n est impair\n",
    "       - False sinon\n",
    "    :CU: n >= 0\n",
    "    '''\n",
    "    if n == 0:\n",
    "        res = False\n",
    "    else:\n",
    "        res = est_pair(n - 1)\n",
    "    return res"
   ]
  },
  {
   "cell_type": "code",
   "execution_count": 14,
   "metadata": {},
   "outputs": [
    {
     "data": {
      "text/plain": [
       "[(True, False),\n",
       " (False, True),\n",
       " (True, False),\n",
       " (False, True),\n",
       " (True, False),\n",
       " (False, True),\n",
       " (True, False),\n",
       " (False, True),\n",
       " (True, False),\n",
       " (False, True)]"
      ]
     },
     "execution_count": 14,
     "metadata": {},
     "output_type": "execute_result"
    }
   ],
   "source": [
    "[(est_pair(n), est_impair(n)) for n in range(10)]"
   ]
  },
  {
   "cell_type": "markdown",
   "metadata": {},
   "source": [
    "Aucune des deux fonctions n'est directement récursive. Mais `est_pair` fait appel à `est_impair` et réciproquement. Ainsi indirectement `est_pair` fait récursivement appel à elle-même par l'intermédiaire de `est_impair`. On parle alors de *récursivité mutuelle*."
   ]
  },
  {
   "cell_type": "markdown",
   "metadata": {},
   "source": [
    "### Récursivité terminale"
   ]
  },
  {
   "cell_type": "code",
   "execution_count": 15,
   "metadata": {},
   "outputs": [],
   "source": [
    "def est_divisible_par(a, b):\n",
    "    '''\n",
    "    :param a, b: (int)\n",
    "    :return: (bool)\n",
    "      - True si a est divisible par b\n",
    "      - False sinon.\n",
    "    :CU: a >= 0 et b > 0\n",
    "    '''\n",
    "    if a < b:\n",
    "        res = a == 0\n",
    "    else:\n",
    "        res = est_divisible_par(a - b, b)\n",
    "    return res"
   ]
  },
  {
   "cell_type": "code",
   "execution_count": 16,
   "metadata": {},
   "outputs": [
    {
     "data": {
      "text/plain": [
       "[True, False, False, True, False, False, True, False, False, True]"
      ]
     },
     "execution_count": 16,
     "metadata": {},
     "output_type": "execute_result"
    }
   ],
   "source": [
    "[est_divisible_par(a, 3) for a in range(10)]"
   ]
  },
  {
   "cell_type": "markdown",
   "metadata": {},
   "source": [
    "Dans la fonction `est_divisible_par` il n'y a qu'un seul appel récursif : `est_divisible_par(a - b, b)`. Et lorsque cet appel est effectué, il n'y a plus aucun traitement à effectuer. On dit qu'il s'agit d'un algorithme *récursif terminal*."
   ]
  },
  {
   "cell_type": "markdown",
   "metadata": {},
   "source": [
    "Parmi les fonctions précédentes, seules les fonctions `syracuse` et les deux fonctions `est_pair` et `est_impair`sont aussi récursives terminales : \n",
    "* pour `syracuse` après chacun des deux appels récursifs, plus aucun traitement n'est nécessaire (à part le `return`).\n",
    "* pour `est_pair` et `est_impair`, aucun traitement après chacun des appels à l'autre fonction (à part le `return`).\n",
    "\n",
    "En revanche, les autres fonctions ne sont pas récursives terminales :\n",
    "* pour `fact` : après l'appel récursif (`fact(n-1)`) il reste encore un traitement à effectuer : une multiplication par `n`.\n",
    "* pour `resoud_hanoi` : après le premier appel récursif (`resoud_hanoi(n - 1, dep, intermediaire)`) il reste encore un traitement à effectuer : un déplacement de disque puis un autre appel récursif (`resoud_hanoi(n - 1, intermediaire, arr)`).\n",
    "* pour `fibonacci` : après le premier appel récursif (`fibonacci(n - 1)`), il reste encore le second appel récursif (`fibonacci(n - 1)`) puis une somme à calculer.\n"
   ]
  },
  {
   "cell_type": "markdown",
   "metadata": {},
   "source": [
    "Pourquoi s'intéresser à cette propriété d'être terminale que peuvent avoir ou non les algorithmes récursifs ?\n",
    "\n",
    "Les compilateurs de certains langages de programmation transforment automatiquement les algorithmes récursifs terminaux en algorithmes itératifs. Cette transformation permet d'éviter le problème de limitation d'espace mémoire occupé par l'empilement des appels récursifs (cf section suivante).\n",
    "\n",
    "Le langage Python n'effectue pas cete transformation."
   ]
  },
  {
   "cell_type": "markdown",
   "metadata": {},
   "source": [
    "## Limitations"
   ]
  },
  {
   "cell_type": "markdown",
   "metadata": {},
   "source": [
    "### Limitation de l'empilement des appels récursifs"
   ]
  },
  {
   "cell_type": "code",
   "execution_count": 17,
   "metadata": {},
   "outputs": [
    {
     "ename": "RecursionError",
     "evalue": "maximum recursion depth exceeded in comparison",
     "output_type": "error",
     "traceback": [
      "\u001b[0;31m---------------------------------------------------------------------------\u001b[0m",
      "\u001b[0;31mRecursionError\u001b[0m                            Traceback (most recent call last)",
      "\u001b[0;32m<ipython-input-17-bbfb53bbd29e>\u001b[0m in \u001b[0;36m<module>\u001b[0;34m()\u001b[0m\n\u001b[0;32m----> 1\u001b[0;31m \u001b[0mfact\u001b[0m\u001b[0;34m(\u001b[0m\u001b[0;36m3000\u001b[0m\u001b[0;34m)\u001b[0m\u001b[0;34m\u001b[0m\u001b[0m\n\u001b[0m",
      "\u001b[0;32m<ipython-input-1-d2d929b363af>\u001b[0m in \u001b[0;36mfact\u001b[0;34m(n)\u001b[0m\n\u001b[1;32m      3\u001b[0m         \u001b[0mres\u001b[0m \u001b[0;34m=\u001b[0m \u001b[0;36m1\u001b[0m\u001b[0;34m\u001b[0m\u001b[0m\n\u001b[1;32m      4\u001b[0m     \u001b[0;32melse\u001b[0m\u001b[0;34m:\u001b[0m\u001b[0;34m\u001b[0m\u001b[0m\n\u001b[0;32m----> 5\u001b[0;31m         \u001b[0mres\u001b[0m \u001b[0;34m=\u001b[0m \u001b[0mn\u001b[0m \u001b[0;34m*\u001b[0m \u001b[0mfact\u001b[0m\u001b[0;34m(\u001b[0m\u001b[0mn\u001b[0m\u001b[0;34m-\u001b[0m\u001b[0;36m1\u001b[0m\u001b[0;34m)\u001b[0m\u001b[0;34m\u001b[0m\u001b[0m\n\u001b[0m\u001b[1;32m      6\u001b[0m     \u001b[0;32mreturn\u001b[0m \u001b[0mres\u001b[0m\u001b[0;34m\u001b[0m\u001b[0m\n",
      "... last 1 frames repeated, from the frame below ...\n",
      "\u001b[0;32m<ipython-input-1-d2d929b363af>\u001b[0m in \u001b[0;36mfact\u001b[0;34m(n)\u001b[0m\n\u001b[1;32m      3\u001b[0m         \u001b[0mres\u001b[0m \u001b[0;34m=\u001b[0m \u001b[0;36m1\u001b[0m\u001b[0;34m\u001b[0m\u001b[0m\n\u001b[1;32m      4\u001b[0m     \u001b[0;32melse\u001b[0m\u001b[0;34m:\u001b[0m\u001b[0;34m\u001b[0m\u001b[0m\n\u001b[0;32m----> 5\u001b[0;31m         \u001b[0mres\u001b[0m \u001b[0;34m=\u001b[0m \u001b[0mn\u001b[0m \u001b[0;34m*\u001b[0m \u001b[0mfact\u001b[0m\u001b[0;34m(\u001b[0m\u001b[0mn\u001b[0m\u001b[0;34m-\u001b[0m\u001b[0;36m1\u001b[0m\u001b[0;34m)\u001b[0m\u001b[0;34m\u001b[0m\u001b[0m\n\u001b[0m\u001b[1;32m      6\u001b[0m     \u001b[0;32mreturn\u001b[0m \u001b[0mres\u001b[0m\u001b[0;34m\u001b[0m\u001b[0m\n",
      "\u001b[0;31mRecursionError\u001b[0m: maximum recursion depth exceeded in comparison"
     ]
    }
   ],
   "source": [
    "fact(3000)"
   ]
  },
  {
   "cell_type": "markdown",
   "metadata": {},
   "source": [
    "L'exception `RecursionError` intervient ici parce que Python limite le nombre d'appels récursifs (on dit l'*empilement* des appels). "
   ]
  },
  {
   "cell_type": "markdown",
   "metadata": {},
   "source": [
    "La fonction `getrecursionlimit` du module `sys` permet de connaître le nombre d'appels de fonction maximal."
   ]
  },
  {
   "cell_type": "code",
   "execution_count": 18,
   "metadata": {},
   "outputs": [
    {
     "data": {
      "text/plain": [
       "3000"
      ]
     },
     "execution_count": 18,
     "metadata": {},
     "output_type": "execute_result"
    }
   ],
   "source": [
    "import sys\n",
    "sys.getrecursionlimit()"
   ]
  },
  {
   "cell_type": "markdown",
   "metadata": {},
   "source": [
    "La fonction `setrecursionlimit` permet de modifier cette limite."
   ]
  },
  {
   "cell_type": "code",
   "execution_count": 19,
   "metadata": {},
   "outputs": [],
   "source": [
    "sys.setrecursionlimit(4000)"
   ]
  },
  {
   "cell_type": "code",
   "execution_count": 20,
   "metadata": {},
   "outputs": [],
   "source": [
    "_ = fact(3000)"
   ]
  },
  {
   "cell_type": "markdown",
   "metadata": {},
   "source": [
    "### Limitation par répétition de calculs"
   ]
  },
  {
   "cell_type": "markdown",
   "metadata": {},
   "source": [
    "L'expression récursive peut conduire parfois à des calculs « maladroits »."
   ]
  },
  {
   "cell_type": "code",
   "execution_count": 21,
   "metadata": {},
   "outputs": [
    {
     "data": {
      "text/plain": [
       "9227465"
      ]
     },
     "execution_count": 21,
     "metadata": {},
     "output_type": "execute_result"
    }
   ],
   "source": [
    "fibonacci(35)"
   ]
  },
  {
   "cell_type": "markdown",
   "metadata": {},
   "source": [
    "Le temps de calcul du nombre de Fibonacci d'indice 35 est sensiblement long."
   ]
  },
  {
   "cell_type": "markdown",
   "metadata": {},
   "source": [
    "L'utilisation du décorateur `count` va permettre de connaître le nombre d'appels à la fonction `fibonacci`."
   ]
  },
  {
   "cell_type": "code",
   "execution_count": 22,
   "metadata": {},
   "outputs": [],
   "source": [
    "from ap2_decorators import count"
   ]
  },
  {
   "cell_type": "code",
   "execution_count": 23,
   "metadata": {},
   "outputs": [],
   "source": [
    "@count\n",
    "def fibo2(n):\n",
    "    if n <= 1:\n",
    "        res = n\n",
    "    else:\n",
    "        res = fibo2(n - 1) + fibo2(n - 2)\n",
    "    return res"
   ]
  },
  {
   "cell_type": "code",
   "execution_count": 24,
   "metadata": {},
   "outputs": [
    {
     "name": "stdout",
     "output_type": "stream",
     "text": [
      " n :     F_n    :   nbre appels\n",
      " 0 :          0 :          1 \n",
      " 1 :          1 :          1 \n",
      " 2 :          1 :          3 \n",
      " 3 :          2 :          5 \n",
      " 4 :          3 :          9 \n",
      " 5 :          5 :         15 \n",
      " 6 :          8 :         25 \n",
      " 7 :         13 :         41 \n",
      " 8 :         21 :         67 \n",
      " 9 :         34 :        109 \n"
     ]
    }
   ],
   "source": [
    "print(' n :     F_n    :   nbre appels')\n",
    "for n in range(10):\n",
    "    fibo2.counter = 0\n",
    "    fn = fibo2(n)\n",
    "    print('{:2d} : {:10d} : {:10d} '.format(n, fn, fibo2.counter))"
   ]
  },
  {
   "cell_type": "markdown",
   "metadata": {},
   "source": [
    "Le tableau ci-dessus montre la croissance importante de ce nombre d'appels (colonne de droite).\n",
    "\n",
    "Voyons ce qu'il en est pour $F_{35}$."
   ]
  },
  {
   "cell_type": "code",
   "execution_count": 25,
   "metadata": {},
   "outputs": [
    {
     "data": {
      "text/plain": [
       "29860703"
      ]
     },
     "execution_count": 25,
     "metadata": {},
     "output_type": "execute_result"
    }
   ],
   "source": [
    "fibo2.counter = 0\n",
    "_ = fibo2(35)\n",
    "fibo2.counter"
   ]
  },
  {
   "cell_type": "markdown",
   "metadata": {},
   "source": [
    "Presque 30 millions d'appels à `fibonacci` pour calculer $F_{35}$ !\n",
    "\n",
    "La section qui suit montre la cause de ce nombre important."
   ]
  },
  {
   "cell_type": "markdown",
   "metadata": {},
   "source": [
    "## Tracer une fonction"
   ]
  },
  {
   "cell_type": "markdown",
   "metadata": {},
   "source": [
    "Le décorateur `trace` permet de suivre à la trace les différents appels à la fonction qu'il trace."
   ]
  },
  {
   "cell_type": "code",
   "execution_count": 26,
   "metadata": {},
   "outputs": [],
   "source": [
    "from ap2_decorators import trace"
   ]
  },
  {
   "cell_type": "code",
   "execution_count": 27,
   "metadata": {},
   "outputs": [],
   "source": [
    "@trace\n",
    "def fibo3(n):\n",
    "    if n <= 1:\n",
    "        res = n\n",
    "    else:\n",
    "        res = fibo3(n - 1) + fibo3(n - 2)\n",
    "    return res"
   ]
  },
  {
   "cell_type": "code",
   "execution_count": 28,
   "metadata": {},
   "outputs": [
    {
     "name": "stdout",
     "output_type": "stream",
     "text": [
      " -> fibo3((5,), {})\n",
      "... -> fibo3((4,), {})\n",
      "...... -> fibo3((3,), {})\n",
      "......... -> fibo3((2,), {})\n",
      "............ -> fibo3((1,), {})\n",
      "............ <- 1\n",
      "............ -> fibo3((0,), {})\n",
      "............ <- 0\n",
      "......... <- 1\n",
      "......... -> fibo3((1,), {})\n",
      "......... <- 1\n",
      "...... <- 2\n",
      "...... -> fibo3((2,), {})\n",
      "......... -> fibo3((1,), {})\n",
      "......... <- 1\n",
      "......... -> fibo3((0,), {})\n",
      "......... <- 0\n",
      "...... <- 1\n",
      "... <- 3\n",
      "... -> fibo3((3,), {})\n",
      "...... -> fibo3((2,), {})\n",
      "......... -> fibo3((1,), {})\n",
      "......... <- 1\n",
      "......... -> fibo3((0,), {})\n",
      "......... <- 0\n",
      "...... <- 1\n",
      "...... -> fibo3((1,), {})\n",
      "...... <- 1\n",
      "... <- 2\n",
      " <- 5\n"
     ]
    },
    {
     "data": {
      "text/plain": [
       "5"
      ]
     },
     "execution_count": 28,
     "metadata": {},
     "output_type": "execute_result"
    }
   ],
   "source": [
    "fibo3(5)"
   ]
  },
  {
   "cell_type": "markdown",
   "metadata": {},
   "source": [
    "On peut remarquer dans la trace du calcul de $F_5$ ci-dessus que :\n",
    "* le calcul de $F_4$ est effectué une fois : ligne marquée `fibo3((4,), {})` ;\n",
    "* le calcul de $F_3$ est effectué deux fois : lignes marquées `fibo3((3,), {})` ; \n",
    "* le calcul de $F_2$ est effectué trois fois : lignes marquées `fibo3((2,), {})` ;\n",
    "* le calcul de $F_1$ est effectué cinq fois : lignes marquées `fibo3((1,), {})` ;\n",
    "* et enfin le calcul de $F_0$ est effectué trois fois : lignes marquées `fibo3((0,), {})`.\n",
    "En comptant l'appel initial, on retrouve les $1 + 1 + 2 + 3 + 5 + 3 = 15$ appels à la fonction `fibonacci` pour le calcul de $F_5$.\n",
    "\n",
    "On se rend aussi compte que de nombreux calculs sont maladroitement et inutilement répétés."
   ]
  },
  {
   "cell_type": "markdown",
   "metadata": {
    "toc-hr-collapsed": false
   },
   "source": [
    "# Quelques algorithmes récursifs"
   ]
  },
  {
   "cell_type": "markdown",
   "metadata": {},
   "source": [
    "## Retour sur la recherche dichotomique"
   ]
  },
  {
   "cell_type": "markdown",
   "metadata": {},
   "source": [
    "Rappelons l'idée assez simple d'une recherche dichotomique à effectuer dans une\n",
    "tranche de séquence triée et délimitée par deux indices $a$ (inclus) et $b$ (exclu).  \n",
    "\n",
    "On détermine l'indice  médian $m$.  On compare l'élément  de la séquence\n",
    "situé à  l'indice $m$  et l'élément recherché.  Selon le  résultat, cela\n",
    "permet de  se rendre  compte qu'il  n'est pas  nécessaire de  faire la\n",
    "recherche d'un des deux cotés de  cet indice. Dans la partie restante,\n",
    "on se  retrouve à devoir faire  une recherche dans une  séquence triée,\n",
    "mais sur  une tranche deux fois moins longue.\n",
    "\n",
    "\n",
    "<img src=\"rech_dicho_rec.svg.png\"/>"
   ]
  },
  {
   "cell_type": "code",
   "execution_count": 29,
   "metadata": {},
   "outputs": [],
   "source": [
    "from compare import compare"
   ]
  },
  {
   "cell_type": "code",
   "execution_count": 30,
   "metadata": {},
   "outputs": [],
   "source": [
    "def recherche_dicho(elt, sequence, a=0, b=None, comp=compare):\n",
    "    ''' pour la spécification voir cours sur les algos recheche'''\n",
    "    if b is None:\n",
    "        b = len(sequence)\n",
    "    if b <= a:\n",
    "        res = False\n",
    "    elif b == a + 1:\n",
    "        res = comp(elt, sequence[a]) == 0\n",
    "    else:\n",
    "        m = (a + b - 1) // 2 \n",
    "        if comp(elt, sequence[m]) == 1:\n",
    "            res = recherche_dicho(elt, sequence, m + 1, b, comp)\n",
    "        else:\n",
    "            res = recherche_dicho(elt, sequence, a, m + 1, comp)\n",
    "    return res"
   ]
  },
  {
   "cell_type": "code",
   "execution_count": 31,
   "metadata": {},
   "outputs": [
    {
     "data": {
      "text/plain": [
       "True"
      ]
     },
     "execution_count": 31,
     "metadata": {},
     "output_type": "execute_result"
    }
   ],
   "source": [
    "import random\n",
    "l = [2 * k for k in range (100)]\n",
    "recherche_dicho(2 * random.randrange(100), l)"
   ]
  },
  {
   "cell_type": "code",
   "execution_count": 32,
   "metadata": {},
   "outputs": [
    {
     "data": {
      "text/plain": [
       "False"
      ]
     },
     "execution_count": 32,
     "metadata": {},
     "output_type": "execute_result"
    }
   ],
   "source": [
    "recherche_dicho(2 * random.randrange(100) + 1, l)"
   ]
  },
  {
   "cell_type": "markdown",
   "metadata": {
    "toc-hr-collapsed": true
   },
   "source": [
    "## Un tri récursif"
   ]
  },
  {
   "cell_type": "markdown",
   "metadata": {},
   "source": [
    "Trier une liste de longueur $n$ demande $\\frac{n(n-1)}{2}\\sim \\frac{n^2}{2}$ comparaisons avec l'algorithme du tri par sélection. Si on partage la liste en deux parties de longueur $\\frac{n}{2}$ le tri de chacune d'elles demandera en tout environ $2\\times\\frac{n^2}{8} = \\frac{n^2}{4}$. Si on parvient à fusionner ces deux parties triées sans effectuer trop de comparaisons, on peut espérer avoir trier la liste de longueur $n$ avec environ deux fois moins de comparaisons que le tri par sélection. \n",
    "\n",
    "La figure ci-dessous illuste cette idée :\n",
    "* on partage la liste $\\ell$ à trier en deux sous-listes $\\ell_1$ et $\\ell_2$ ;\n",
    "* on trie séparément chacune de ces deux sous-listes. On obtient deux listes triées $\\ell_1'$ et $\\ell_2'$ ;\n",
    "* on fusionne ces deux triées pour obtenir la liste triée $\\ell'$ souhaitée.  \n",
    "\n",
    "![](tri_separe.png)"
   ]
  },
  {
   "cell_type": "markdown",
   "metadata": {},
   "source": [
    "### Fusionner deux listes triées"
   ]
  },
  {
   "cell_type": "markdown",
   "metadata": {},
   "source": [
    "Fusionner deux listes triées pour obtenir une liste triée contenant la réunion des éléments de ces deux listes peut s'obtenir de façon récursive.\n",
    "\n",
    "Il suffit de constater que le premier élément de la liste résultante est le plus petit des deux premiers éléments des deux listes. Autrement dit,\n",
    "\n",
    "$$     \\mathrm{fusion}([x_1, ...], [x_2, ...]) = [x_1] + \\mathrm{fusion}([...], [x_2, ...]) \\mbox{ si }  x_1 \\leq x_2,$$\n",
    "et\n",
    "$$     \\mathrm{fusion}([x_1, ...], [x_2, ...]) = [x_2] + \\mathrm{fusion}([x_1, ...], [...]) \\mbox{ si }  x_1 > x_2.$$\n",
    "\n",
    "Bien entendu ces deux cas ne sont envisageables que si chacune des deux listes à fusionner n'est pas vide. Lorsque l'une des deux listes est vide, la liste résultant de la fusion est l'autre.\n",
    "$$ \\mathrm{fusion}([], \\ell_2) = \\ell_2,$$\n",
    "et \n",
    "$$ \\mathrm{fusion}(\\ell_1, []) = \\ell_1.$$\n",
    "\n",
    "\n",
    "Ce qui peut amène à l'algorithme récursif :\n",
    "\n",
    "    fusion(l1, l2) \n",
    "        si l1 est vide alors\n",
    "           res <- l2\n",
    "        sinon si l2 est vide alors\n",
    "           res <- l1\n",
    "        sinon si l1[0] <= l2[0] alors\n",
    "           res <- [x_1] + fusion(l1[1:], l2)\n",
    "        sinon\n",
    "           res <- [x_2] + fusion(l1, l2[1:])\n",
    "        finsi\n",
    "\n",
    "Cet algorithme est une étude de quatre cas dont deux sont récursifs et deux ne le sont pas. Il respecte donc la règle 1.\n",
    "\n",
    "Par ailleurs, les appels récursifs se font sur deux listes dont l'une a un élément de moins. À chaque appel récursif l'une des listes a une longueur qui diminue. La somme des longueurs diminue strictement à chaque appel récursif. La règle 2 est respectée qui assure la terminaison du calcul. "
   ]
  },
  {
   "cell_type": "code",
   "execution_count": 33,
   "metadata": {},
   "outputs": [],
   "source": [
    "def fusion(l1, l2, comp=compare):\n",
    "    '''\n",
    "    :param l1, l2: (list) deux listes triées\n",
    "    :return: (list) une liste triée contenant tous les éléments de l1 et l2 \n",
    "            (et rien qu'eux)\n",
    "    :CU: l1 et l2 doivent être triées selon comp pour garantir d'avoir une liste \n",
    "         triée en résultat\n",
    "    '''\n",
    "    if l1 == []:\n",
    "        res = l2\n",
    "    elif l2 == []:\n",
    "        res = l1\n",
    "    elif comp(l1[0], l2[0]) <= 0:\n",
    "        res = [l1[0]] + fusion(l1[1:], l2, comp)\n",
    "    else:\n",
    "        res = [l2[0]] + fusion(l1, l2[1:], comp)\n",
    "    return res"
   ]
  },
  {
   "cell_type": "code",
   "execution_count": 34,
   "metadata": {},
   "outputs": [],
   "source": [
    "l = [3, 1, 4, 1, 5, 9, 2]\n",
    "l1, l2 = l[:len(l)//2], l[len(l)//2:]"
   ]
  },
  {
   "cell_type": "code",
   "execution_count": 35,
   "metadata": {},
   "outputs": [
    {
     "data": {
      "text/plain": [
       "([3, 1, 4], [1, 5, 9, 2])"
      ]
     },
     "execution_count": 35,
     "metadata": {},
     "output_type": "execute_result"
    }
   ],
   "source": [
    "l1, l2"
   ]
  },
  {
   "cell_type": "code",
   "execution_count": 36,
   "metadata": {},
   "outputs": [],
   "source": [
    "l1.sort()\n",
    "l2.sort()"
   ]
  },
  {
   "cell_type": "code",
   "execution_count": 37,
   "metadata": {},
   "outputs": [
    {
     "data": {
      "text/plain": [
       "[1, 1, 2, 3, 4, 5, 9]"
      ]
     },
     "execution_count": 37,
     "metadata": {},
     "output_type": "execute_result"
    }
   ],
   "source": [
    "fusion(l1, l2)"
   ]
  },
  {
   "cell_type": "markdown",
   "metadata": {},
   "source": [
    "### Analyse de la fusion"
   ]
  },
  {
   "cell_type": "markdown",
   "metadata": {},
   "source": [
    "Une analyse de l'algorithme de la fusion de deux listes triées montre\n",
    "* qu'il n'y a aucune comparaison d'éléments de liste effectuées lorsque l'une des deux listes est vide ;\n",
    "* et qu'il y a une seule comparaison par appels récursifs pour lorsque les deux listes sont non vides.\n",
    "De plus les appels récursifs s'effectuent sur deux listes dont le nombre total d'éléments diminue de un.\n",
    "\n",
    "En nommant $n_1$ et $n_2$ les longueurs des listes $\\ell_1$ et $\\ell_2$, le nombre total de comparaisons est donc au mieux égal à $\\mathrm{min}(n_1, n_2)$  et au plus égal à $n_1 + n_2 - 1$.\n",
    "\n",
    "$$\\mathrm{min}(n_1, n_2)\\leq c_{\\mathrm{fusion}}(n_1, n_2) \\leq n_1 + n_2 - 1.$$"
   ]
  },
  {
   "cell_type": "markdown",
   "metadata": {},
   "source": [
    "Cela justifie donc l'intérêt de l'idée envisagée de partager la liste en deux, trier chacune des deux parties, puis fusionner ces parties triées."
   ]
  },
  {
   "cell_type": "markdown",
   "metadata": {},
   "source": [
    "### Tri fusion"
   ]
  },
  {
   "cell_type": "markdown",
   "metadata": {},
   "source": [
    "L'idée de découpage de la liste en deux parties égales peut être reconduite dans le tri des deux sous-listes. L'idée est alors illustrée par la figure suivante :\n",
    "\n",
    "![](tri_fusion-3.png)"
   ]
  },
  {
   "cell_type": "markdown",
   "metadata": {},
   "source": [
    "La grande « boîte rouge » contient deux petites « boîtes rouges » identiques en tout point à la grande. C'est une « poupée russe » qui laisse entrevoir un algorithme récursif pour le tri."
   ]
  },
  {
   "cell_type": "markdown",
   "metadata": {},
   "source": [
    "Nous avons le cas récursif que nous pouvons résumer par\n",
    "\n",
    "    tri_fusion(l)\n",
    "        l1, l2 <- partager(l)\n",
    "        tri_fusion(l1)\n",
    "        tri_fusion(l2)\n",
    "        l' = fusion(l1, l2)\n",
    "        \n",
    "Pour respecter la règle 1 de conception des algorithmes récursifs, il nous faut chercher le ou les cas de base (non récursifs). "
   ]
  },
  {
   "cell_type": "markdown",
   "metadata": {},
   "source": [
    "Le cas récursif est correct pour toute liste. Mais si nous l'appliquons à la liste vide ou à une liste de longueur 1, alors la règle 2 est violée, puisqu'au moins l'un des deux appels récursifs se fait sur une liste identique à la liste de départ. On entre alors dans un calcul infini. L'algorithme ne se termine pas.\n",
    "\n",
    "Il faut donc distinguer le cas des listes de longueur inférieure ou égale à 1. Et ce cas est trivial, puisque de telles listes sont triées et il n'y a alors rien à faire.\n",
    "\n",
    "Voici un algorithme de tri connu sous le nom de *tri fusion* :\n",
    "\n",
    "    tri_fusion(l)\n",
    "        si longueur de l > 1 \n",
    "           l1, l2 <- partager(l)\n",
    "           tri_fusion(l1)\n",
    "           tri_fusion(l2)\n",
    "           l' = fusion(l1, l2)\n",
    " "
   ]
  },
  {
   "cell_type": "code",
   "execution_count": 38,
   "metadata": {},
   "outputs": [],
   "source": [
    "def tri_fusion(liste, comp=compare):\n",
    "    '''\n",
    "    :param liste: (list) la liste à trier\n",
    "    :param comp: (function) fonction de comparaison trivaluée\n",
    "    :return: (NoneType) aucune valeur renvoyée\n",
    "    :effet de bord: l'ordre des éléments de la liste passée en\n",
    "             paramètre est modifié de sorte qu'ils soient rangés\n",
    "             dans l'ordre croissant selon comp.\n",
    "    :CU: les éléments de liste doivent être comparables avec comp\n",
    "    '''\n",
    "    n = len(liste)\n",
    "    if n > 1:\n",
    "        l1, l2 = liste[:n//2], liste[n//2:]\n",
    "        tri_fusion(l1, comp)\n",
    "        tri_fusion(l2, comp)\n",
    "        lp = fusion(l1, l2, comp)\n",
    "        for i in range(n):\n",
    "            liste[i] = lp[i]"
   ]
  },
  {
   "cell_type": "code",
   "execution_count": 39,
   "metadata": {},
   "outputs": [
    {
     "data": {
      "text/plain": [
       "[1, 1, 2, 3, 4, 5, 9]"
      ]
     },
     "execution_count": 39,
     "metadata": {},
     "output_type": "execute_result"
    }
   ],
   "source": [
    "l = [3, 1, 4, 1, 5, 9, 2]\n",
    "tri_fusion(l)\n",
    "l"
   ]
  },
  {
   "cell_type": "code",
   "execution_count": 40,
   "metadata": {},
   "outputs": [
    {
     "data": {
      "text/plain": [
       "True"
      ]
     },
     "execution_count": 40,
     "metadata": {},
     "output_type": "execute_result"
    }
   ],
   "source": [
    "import random\n",
    "n = random.randrange(1000)\n",
    "l1 = list(range(n))\n",
    "l2 = l1.copy()\n",
    "random.shuffle(l2)\n",
    "tri_fusion(l2)\n",
    "l2 == l1"
   ]
  },
  {
   "cell_type": "markdown",
   "metadata": {},
   "source": [
    "### Analyse expérimentale du tri fusion"
   ]
  },
  {
   "cell_type": "code",
   "execution_count": 41,
   "metadata": {},
   "outputs": [],
   "source": [
    "compare2 = count(compare)"
   ]
  },
  {
   "cell_type": "code",
   "execution_count": 42,
   "metadata": {},
   "outputs": [],
   "source": [
    "LONGUEURS = range(100)\n",
    "NBRE_EXPERIENCES = 50\n",
    "nbre_comp_tri_fusion = []\n",
    "for n in LONGUEURS:\n",
    "    compare2.counter = 0\n",
    "    l = list(range(n))\n",
    "    for _ in range(NBRE_EXPERIENCES):\n",
    "        random.shuffle\n",
    "        tri_fusion(l, comp=compare2)\n",
    "    nbre_comp_tri_fusion.append(compare2.counter / NBRE_EXPERIENCES)"
   ]
  },
  {
   "cell_type": "code",
   "execution_count": 43,
   "metadata": {},
   "outputs": [
    {
     "data": {
      "text/plain": [
       "<Figure size 640x480 with 1 Axes>"
      ]
     },
     "metadata": {},
     "output_type": "display_data"
    }
   ],
   "source": [
    "import pylab\n",
    "pylab.plot(LONGUEURS, nbre_comp_tri_fusion, '.')\n",
    "pylab.xlabel('Longueurs des listes')\n",
    "pylab.ylabel('Nbre de comparaisons')\n",
    "pylab.title('Nbres moyens de comparaisons pour le tri par FUSION')\n",
    "pylab.show()"
   ]
  },
  {
   "cell_type": "code",
   "execution_count": 44,
   "metadata": {},
   "outputs": [
    {
     "data": {
      "image/png": "[encoded data removed]",
      "text/plain": [
       "<Figure size 432x288 with 1 Axes>"
      ]
     },
     "metadata": {
      "needs_background": "light"
     },
     "output_type": "display_data"
    }
   ],
   "source": [
    "pylab.plot(LONGUEURS, nbre_comp_tri_fusion, '.',\n",
    "           LONGUEURS, [n*(n-1)/2 for n in LONGUEURS], '-')\n",
    "pylab.xlabel('Longueurs des listes')\n",
    "pylab.ylabel('Nbre de comparaisons')\n",
    "pylab.title('Nbre de comparaisons  tri par fusion % tri sélection')\n",
    "pylab.legend(['Tri fusion', 'tri sélection'])\n",
    "pylab.show()"
   ]
  },
  {
   "cell_type": "markdown",
   "metadata": {},
   "source": [
    "Avec un peu d'analyse mathématique, on peut montrer que le nombre de comparaisons $c_{\\mathrm{tri\\_fusion}}(n)$ pour trier une liste de longueur $n$ est de la forme\n",
    "\n",
    "$$ C_1n\\log_{2}(n) \\leq c_{tri\\_fusion}(n) \\leq C_2n\\log_{2}n,$$\n",
    "avec $C_1$ et $C_2$ deux constantes positives ne dépendant pas de $n$.\n",
    "\n",
    "Le tri fusion est donc bien meilleur (en nombre de comparaisons) que le tri sélection dans tous les cas,  et que le tri insertion en moyenne et dans le pire des cas."
   ]
  },
  {
   "cell_type": "markdown",
   "metadata": {},
   "source": [
    "## Liste de tous les mots d'une longueur donnée"
   ]
  },
  {
   "cell_type": "markdown",
   "metadata": {},
   "source": [
    "Le problème que l'on cherche à résoudre ici est la construction de la liste de tous les mots d'une longueur donnée réalisables avec les lettres d'un alphabet lui aussi donné.\n",
    "\n",
    "**Exemples**\n",
    "\n",
    "* avec l'alphabet binaire $\\{0, 1\\}$, les mots de longueur 3 sont au nombre de huit et sont les mots suivants :\n",
    "\n",
    "     000, 001, 010, 011, 100, 101, 110, 111.\n",
    "* avec l'alphabet de trois lettres $\\{a, b, c\\}$, les mots de longueur 2 sont au nombre de neuf et sont les suivants :\n",
    "     \n",
    "     aa, ab, ac, ba, bb, bc, ca, cb, cc.\n",
    "     \n",
    "Plus généralement, avec un alphabet possédant $q$ lettres, il y a $q^n$ mots de longueur $n$."
   ]
  },
  {
   "cell_type": "markdown",
   "metadata": {},
   "source": [
    "On note $A$ l'alphabet et $A^n$ l'ensemble de tous les mots de longueur $n$ réalisables avec les lettres de $A$.\n",
    "\n",
    "Notons au passage que \n",
    "\n",
    "* $A^1 = A$ : les mots de longueur 1 sont les mots d'une seule lettre.\n",
    "* $A^0$, ensemble des mots de longueur 0, ne contient qu'un seul mot : le mot vide."
   ]
  },
  {
   "cell_type": "markdown",
   "metadata": {},
   "source": [
    "Considérons $A^{n+1}$ l'ensemble des mots de longueur $n+1$, $n$ étant un entier naturel quelconque.\n",
    "\n",
    "Tout mot $u\\in A^{n+1}$ peut s'écrire de façon unique sous la forme\n",
    "\n",
    "$$ u = x.u',$$\n",
    "où $x\\in A$ (i.e. $x$ est une lettre de $A$) et $u'\\in A^n$ (i.e. $u'$ est un mot de longueur $n$).\n",
    "\n",
    "Si nous connaissons $A^n$, l'ensemble des mots de longueur $n$, alors on peut construire $A^{n+1}$ en rajoutant en tête de tous les mots de $A^n$ toutes les lettres de $A$.\n",
    "\n",
    "Ainsi la construction de l'ensemble des mots de longueur $n+1$ est-elle facilement accessible à partir de celle des mots de longueur $n$.\n",
    "\n",
    "En ajoutant le cas des mots de longueur 0, nous avons l'algorithme récursif :\n",
    "\n",
    "    ens_mots(n, A)\n",
    "       si n = 0 alors\n",
    "          res <- {''}\n",
    "       sinon\n",
    "          res <- {x.u' | x dans A et u' dans A^n}\n",
    "       finsi"
   ]
  },
  {
   "cell_type": "code",
   "execution_count": 45,
   "metadata": {},
   "outputs": [],
   "source": [
    "def ens_mots(long, alphabet):\n",
    "    '''\n",
    "    :param long: (int) longueur des mots souhaités\n",
    "    :param alphabet: (iterable) l'alphabet utilisé\n",
    "    :return: (set) ensemble contenant tous les mots de longueur long\n",
    "    :CU: long >= 0, alphabet ne contient que des caractères\n",
    "    :Exemples:\n",
    "    \n",
    "    >>> ens_mots(0, {'0', '1'})\n",
    "    {''}\n",
    "    >>> ens_mots(3, {'0', '1'}) == {'000', '001', '010', '011',\n",
    "                                    '100', '101', '110', '111'}\n",
    "    >>> len(ens_mots(10, {'0', '1'})) == 1024\n",
    "    '''\n",
    "    if long == 0:\n",
    "        res = {''}\n",
    "    else:\n",
    "        intermediaire = ens_mots(long - 1, alphabet)\n",
    "        res = set(c + mot for c in alphabet for mot in intermediaire)\n",
    "    return res"
   ]
  },
  {
   "cell_type": "code",
   "execution_count": 46,
   "metadata": {},
   "outputs": [
    {
     "data": {
      "text/plain": [
       "{'000', '001', '010', '011', '100', '101', '110', '111'}"
      ]
     },
     "execution_count": 46,
     "metadata": {},
     "output_type": "execute_result"
    }
   ],
   "source": [
    "ens_mots(3, {'0', '1'})"
   ]
  },
  {
   "cell_type": "code",
   "execution_count": 47,
   "metadata": {},
   "outputs": [
    {
     "data": {
      "text/plain": [
       "1024"
      ]
     },
     "execution_count": 47,
     "metadata": {},
     "output_type": "execute_result"
    }
   ],
   "source": [
    "len(ens_mots(10, {'0', '1'}))"
   ]
  },
  {
   "cell_type": "markdown",
   "metadata": {},
   "source": [
    "## Permutations"
   ]
  },
  {
   "cell_type": "markdown",
   "metadata": {},
   "source": [
    "On appelle permutation des éléments d'un ensemble fini, tout arrangement en séquence sans répétition de tous ces éléments.\n",
    "\n",
    "Par exemple, si l'ensemble considéré est constitué de trois éléments $a$, $b$ et $c$, il y a $3!=6$ permutations de ces éléments :\n",
    "\n",
    "$$ (a, b, c),\\ (a, c, b),\\ (b, a, c),\\ (b, c, a),\\ (c, a, b),\\ (c, b, a).$$\n",
    "\n",
    "De manière générale, pour un ensemble à $n$ éléments, il y a $n!$ permutations de ces éléments."
   ]
  },
  {
   "cell_type": "markdown",
   "metadata": {},
   "source": [
    "Comment construire l'ensemble de toutes les permutations des éléments d'un ensemble donné ?\n",
    "\n",
    "Là encore une solution récursive est relativement simple à mettre en œuvre si on réalise que si on est parvenu à construire les permutations de tous les éléments sauf un préalablement sélectionné noté $x$ dans la suite, alors on obtient les permutations de la totalité des éléments en insérant $x$ à toutes les positions de toutes les permutations des autres éléments.\n",
    "\n",
    "Par exemple avec notre ensemble à trois éléments $a$, $b$, $c$, si on a l'ensemble des permutations de $b$ et $c$ : $\\{(b, c), (c, b)\\}$, alors on obtient les permutations des trois éléments \n",
    "* en insérant $a$ aux trois positions de la permutation $(b,c)$, pour obtenir les permutations $(a, b, c)$, $(b, a, c)$, $(b,c,a)$, \n",
    "* et en insérant $a$ aux trois positions de la permutation $(c,b)$, pour obtenir les permutations $(a, c, b)$, $(c, a, b)$, $(c,b,a)$.\n",
    "\n",
    "Il reste à prendre en compte le cas de l'ensemble vide comme cas de base : il n'y a qu'une seule permutation $()$."
   ]
  },
  {
   "cell_type": "code",
   "execution_count": 48,
   "metadata": {},
   "outputs": [],
   "source": [
    "def permutations(seq):\n",
    "    '''\n",
    "    :param seq: (str ou tuple ou list)\n",
    "    :return: (set) ensemble de toutes les permutations des éléments de seq\n",
    "    :CU: aucune\n",
    "    :Exemples:\n",
    "    \n",
    "    >>> permutations(())\n",
    "    {()}\n",
    "    >>> permutations('abc') == {('a', 'b', 'c'), ('a', 'c', 'b'), \n",
    "                                ('b', 'a', 'c'), ('b', 'c', 'a'),\n",
    "                                ('c', 'a', 'b'), ('c', 'b', 'a')}\n",
    "    >>> len(permutations([1, 2, 3, 4])) == 24\n",
    "    True\n",
    "    '''\n",
    "    n = len(seq)\n",
    "    if n == 0:\n",
    "        return {()}\n",
    "    else:\n",
    "        intermediaire = permutations(seq[1:])\n",
    "        res = set()\n",
    "        for i in range(n):\n",
    "            res = res.union(set(perm[:i] + (seq[0],) + perm[i:] \n",
    "                                for perm in intermediaire))\n",
    "    return res"
   ]
  },
  {
   "cell_type": "code",
   "execution_count": 49,
   "metadata": {},
   "outputs": [
    {
     "data": {
      "text/plain": [
       "{()}"
      ]
     },
     "execution_count": 49,
     "metadata": {},
     "output_type": "execute_result"
    }
   ],
   "source": [
    "permutations('')"
   ]
  },
  {
   "cell_type": "code",
   "execution_count": 50,
   "metadata": {},
   "outputs": [
    {
     "data": {
      "text/plain": [
       "{('a', 'b', 'c'),\n",
       " ('a', 'c', 'b'),\n",
       " ('b', 'a', 'c'),\n",
       " ('b', 'c', 'a'),\n",
       " ('c', 'a', 'b'),\n",
       " ('c', 'b', 'a')}"
      ]
     },
     "execution_count": 50,
     "metadata": {},
     "output_type": "execute_result"
    }
   ],
   "source": [
    "permutations('abc')"
   ]
  },
  {
   "cell_type": "code",
   "execution_count": 51,
   "metadata": {},
   "outputs": [
    {
     "data": {
      "text/plain": [
       "24"
      ]
     },
     "execution_count": 51,
     "metadata": {},
     "output_type": "execute_result"
    }
   ],
   "source": [
    "len(permutations([1, 2, 3, 4]))"
   ]
  }
 ],
 "metadata": {
  "kernelspec": {
   "display_name": "Python 3",
   "language": "python",
   "name": "python3"
  },
  "language_info": {
   "codemirror_mode": {
    "name": "ipython",
    "version": 3
   },
   "file_extension": ".py",
   "mimetype": "text/x-python",
   "name": "python",
   "nbconvert_exporter": "python",
   "pygments_lexer": "ipython3",
   "version": "3.5.3"
  },
  "toc-autonumbering": true,
  "widgets": {
   "application/vnd.jupyter.widget-state+json": {
    "state": {},
    "version_major": 2,
    "version_minor": 0
   }
  }
 },
 "nbformat": 4,
 "nbformat_minor": 4
}
