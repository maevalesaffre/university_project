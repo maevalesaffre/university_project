{
 "cells": [
  {
   "cell_type": "markdown",
   "metadata": {},
   "source": [
    "**Lecture écriture dans des fichiers**\n",
    "\n",
    "<img src=\"fichiers.png\" width=\"50%\"/>\n",
    "\n",
    "**Objectifs**\n",
    "\n",
    "* savoir lire des données dans un fichier texte\n",
    "* savoir écrire des données dans un fichier texte\n",
    "* prendre conscience des dangers des données lues\n",
    "* découvrir le traitement d’exception."
   ]
  },
  {
   "cell_type": "markdown",
   "metadata": {},
   "source": [
    "# Pourquoi des fichiers ?"
   ]
  },
  {
   "cell_type": "markdown",
   "metadata": {},
   "source": [
    "Chaque jour, nous consultons et créons de très nombreux fichiers :\n",
    "\n",
    "* consultation de bases de données,\n",
    "* photographies, vidéos, musique,\n",
    "* programmes Python,\n",
    "* …\n",
    "\n",
    "Les fichiers sont utilisés pour assurer la pesistance et le partage des données.\n",
    "\n",
    "Lorsqu’avec votre appareil photo numérique vous prenez le portrait de votre grand-mère, le signal lumineux capté est transformé en signal numérique, puis sauvegardé dans un fichier, fichier que vous pouvez ensuite partager avec votre entourage en l’envoyant en pièce jointe d’un courrier électronique ou d’un SMS."
   ]
  },
  {
   "cell_type": "markdown",
   "metadata": {},
   "source": [
    "# Qu'est-ce qu'un fichier ?"
   ]
  },
  {
   "cell_type": "markdown",
   "metadata": {},
   "source": [
    "Voici ce qu'on peut lire sur [Wikipedia](https://fr.wikipedia.org/wiki/Fichier_informatique)\n",
    "\n",
    "> Un fichier informatique est au sens commun, une collection, un ensemble de données numériques réunies sous un même nom, enregistrées sur un support de stockage permanent, appelé mémoire de masse, tel qu'un disque dur, un cédérom, une mémoire flash ou une bande magnétique, et manipulées comme une unité.\n",
    "\n",
    "> Techniquement un fichier est une information numérique constituée d'une séquence d'octets, c'est-à-dire d'une séquence de nombres, permettant des usages divers.\n",
    "\n",
    "> En vue de faciliter leur organisation, les fichiers sont disposés dans des systèmes de fichiers qui permettent de placer les fichiers dans des emplacements appelés répertoires ou dossiers eux-mêmes organisés selon le même principe de manière à former une hiérarchie arborescente. "
   ]
  },
  {
   "cell_type": "markdown",
   "metadata": {},
   "source": [
    "Comme il a été dit tout fichier n'est finalement qu'une séquence d'octets. Qu'un fichier représente une image, une vidéo, un son, un texte ou un programme exécutable, du point de vue du système ce n'est qu'une suite de nombres qui codent l'information représentée. \n",
    "\n",
    "C'est la différence d'interprétation de ces nombres qu'effectuent les différents logiciels adéquats qui font qu'on peut voir sur nos écrans une image ou une vidéo ou un texte, ou bien écouter une musique ou bien exécuter un programme."
   ]
  },
  {
   "cell_type": "markdown",
   "metadata": {},
   "source": [
    "**Remarque :** les fichiers ont des noms souvent accompagnés d'une extension de quelques caractères. Ces extensions permettent de distinguer différents « formats » de fichiers. Voici quelques extensions courantes :\n",
    "\n",
    "* `bmp`, `jpg`, `png`, `gif` ... pour des images\n",
    "* `wav`, `mp3`, `flac` ... pour les sons\n",
    "* `txt` pour les textes ordinaires\n",
    "* `html`, `py`, `java` ... pour des textes exprimés dans des langages informatiques\n",
    "\n",
    "Mais ce ne sont jamais les extensions qui définissent le format. Même si ce n'est pas très utile ni conseillé, on peut très bien donner l'extension `html` à un fichier image. "
   ]
  },
  {
   "cell_type": "markdown",
   "metadata": {},
   "source": [
    "# Qu'est-ce qu'un fichier texte ?"
   ]
  },
  {
   "cell_type": "markdown",
   "metadata": {},
   "source": [
    "Comme tout fichier, un fichier texte est une séquence de nombres. Mais dans ces fichiers, ces nombres sont interprétés comme des codes de caractères, et on peut ainsi considérer qu'un fichier texte est une suite de caractères.  C'est ce que montrent tous les éditeurs de texte."
   ]
  },
  {
   "cell_type": "markdown",
   "metadata": {},
   "source": [
    "Les deux commandes qui suivent illustrent ce point. Ces deux commandes `xxd` et `cat` sont des commandes qu'on trouve usuellement sur les systèmes Unix. (Pour les systèmes Windows, la commande `cat` peut être remplacée par la commande `type`, mais il n'y a pas, par défaut, d'équivalent de la commande `xxd`).\n",
    "\n",
    "* La commande `xxd` permet de visualiser le contenu numérique d'un fichier. Les nombres sont exprimés en [hexadécimal](https://fr.wikipedia.org/wiki/Syst%C3%A8me_hexad%C3%A9cimal).\n",
    "* La commande `cat` permet de visualiser le contenu d'un fichier interprété comme du texte. Cela suppose que le fichier est bien un fichier texte."
   ]
  },
  {
   "cell_type": "code",
   "execution_count": 1,
   "metadata": {},
   "outputs": [
    {
     "name": "stdout",
     "output_type": "stream",
     "text": [
      "00000000: 4c 61 20 43 69 67 61 6c 65 20 65 74 20 6c 61 20  La Cigale et la \n",
      "00000010: 46 6f 75 72 6d 69 0a 0a 4c 61 20 43 69 67 61 6c  Fourmi..La Cigal\n",
      "00000020: 65 2c 20 61 79 61 6e 74 20 63 68 61 6e 74 c3 a9  e, ayant chant..\n",
      "00000030: 0a 54 6f 75 74 20 6c 27 c3 a9 74 c3 a9 2c 0a 53  .Tout l'..t..,.S\n",
      "00000040: 65 20 74 72 6f 75 76 61 20 66 6f 72 74 20 64 c3  e trouva fort d.\n",
      "00000050: a9 70 6f 75 72 76 75 65 0a 51 75 61 6e 64 20 6c  .pourvue.Quand l\n",
      "00000060: 61 20 62 69 73 65 20 66 75 74 20 76 65 6e 75 65  a bise fut venue\n",
      "00000070: 20 3a 0a 50 61 73 20 75 6e 20 73 65 75 6c 20 70   :.Pas un seul p\n",
      "00000080: 65 74 69 74 20 6d 6f 72 63 65 61 75 0a 44 65 20  etit morceau.De \n",
      "00000090: 6d 6f 75 63 68 65 20 6f 75 20 64 65 20 76 65 72  mouche ou de ver\n",
      "000000a0: 6d 69 73 73 65 61 75 2e 0a 45 6c 6c 65 20 61 6c  misseau..Elle al\n",
      "000000b0: 6c 61 20 63 72 69 65 72 20 66 61 6d 69 6e 65 0a  la crier famine.\n",
      "000000c0: 43 68 65 7a 20 6c 61 20 46 6f 75 72 6d 69 20 73  Chez la Fourmi s\n",
      "000000d0: 61 20 76 6f 69 73 69 6e 65 2c 0a 4c 61 20 70 72  a voisine,.La pr\n",
      "000000e0: 69 61 6e 74 20 64 65 20 6c 75 69 20 70 72 c3 aa  iant de lui pr..\n",
      "000000f0: 74 65 72 0a 51 75 65 6c 71 75 65 20 67 72 61 69  ter.Quelque grai\n",
      "00000100: 6e 20 70 6f 75 72 20 73 75 62 73 69 73 74 65 72  n pour subsister\n",
      "00000110: 0a 4a 75 73 71 75 27 c3 a0 20 6c 61 20 73 61 69  .Jusqu'.. la sai\n",
      "00000120: 73 6f 6e 20 6e 6f 75 76 65 6c 6c 65 2e 0a 4a 65  son nouvelle..Je\n",
      "00000130: 20 76 6f 75 73 20 70 61 69 65 72 61 69 2c 20 6c   vous paierai, l\n",
      "00000140: 75 69 20 64 69 74 2d 65 6c 6c 65 2c 0a 41 76 61  ui dit-elle,.Ava\n",
      "00000150: 6e 74 20 6c 27 4f c3 bb 74 2c 20 66 6f 69 20 64  nt l'O..t, foi d\n",
      "00000160: 27 61 6e 69 6d 61 6c 2c 0a 49 6e 74 c3 a9 72 c3  'animal,.Int..r.\n",
      "00000170: aa 74 20 65 74 20 70 72 69 6e 63 69 70 61 6c 2e  .t et principal.\n",
      "00000180: 20 0a 4c 61 20 46 6f 75 72 6d 69 20 6e 27 65 73   .La Fourmi n'es\n",
      "00000190: 74 20 70 61 73 20 70 72 c3 aa 74 65 75 73 65 20  t pas pr..teuse \n",
      "000001a0: 3a 0a 43 27 65 73 74 20 6c c3 a0 20 73 6f 6e 20  :.C'est l.. son \n",
      "000001b0: 6d 6f 69 6e 64 72 65 20 64 c3 a9 66 61 75 74 2e  moindre d..faut.\n",
      "000001c0: 0a 51 75 65 20 66 61 69 73 69 65 7a 2d 76 6f 75  .Que faisiez-vou\n",
      "000001d0: 73 20 61 75 20 74 65 6d 70 73 20 63 68 61 75 64  s au temps chaud\n",
      "000001e0: 20 3f 0a 44 69 74 2d 65 6c 6c 65 20 c3 a0 20 63   ?.Dit-elle .. c\n",
      "000001f0: 65 74 74 65 20 65 6d 70 72 75 6e 74 65 75 73 65  ette emprunteuse\n",
      "00000200: 2e 0a 4e 75 69 74 20 65 74 20 6a 6f 75 72 20 c3  ..Nuit et jour .\n",
      "00000210: a0 20 74 6f 75 74 20 76 65 6e 61 6e 74 0a 4a 65  . tout venant.Je\n",
      "00000220: 20 63 68 61 6e 74 61 69 73 2c 20 6e 65 20 76 6f   chantais, ne vo\n",
      "00000230: 75 73 20 64 c3 a9 70 6c 61 69 73 65 2e 0a 56 6f  us d..plaise..Vo\n",
      "00000240: 75 73 20 63 68 61 6e 74 69 65 7a 20 3f 20 6a 27  us chantiez ? j'\n",
      "00000250: 65 6e 20 73 75 69 73 20 66 6f 72 74 20 61 69 73  en suis fort ais\n",
      "00000260: 65 2e 0a 45 68 20 62 69 65 6e 21 20 64 61 6e 73  e..Eh bien! dans\n",
      "00000270: 65 7a 20 6d 61 69 6e 74 65 6e 61 6e 74 2e 0a     ez maintenant..\n"
     ]
    }
   ],
   "source": [
    "%%bash \n",
    "xxd -g 1 cigaleUTF8.txt"
   ]
  },
  {
   "cell_type": "code",
   "execution_count": 2,
   "metadata": {},
   "outputs": [
    {
     "name": "stdout",
     "output_type": "stream",
     "text": [
      "La Cigale et la Fourmi\n",
      "\n",
      "La Cigale, ayant chanté\n",
      "Tout l'été,\n",
      "Se trouva fort dépourvue\n",
      "Quand la bise fut venue :\n",
      "Pas un seul petit morceau\n",
      "De mouche ou de vermisseau.\n",
      "Elle alla crier famine\n",
      "Chez la Fourmi sa voisine,\n",
      "La priant de lui prêter\n",
      "Quelque grain pour subsister\n",
      "Jusqu'à la saison nouvelle.\n",
      "Je vous paierai, lui dit-elle,\n",
      "Avant l'Oût, foi d'animal,\n",
      "Intérêt et principal. \n",
      "La Fourmi n'est pas prêteuse :\n",
      "C'est là son moindre défaut.\n",
      "Que faisiez-vous au temps chaud ?\n",
      "Dit-elle à cette emprunteuse.\n",
      "Nuit et jour à tout venant\n",
      "Je chantais, ne vous déplaise.\n",
      "Vous chantiez ? j'en suis fort aise.\n",
      "Eh bien! dansez maintenant.\n"
     ]
    }
   ],
   "source": [
    "%%bash\n",
    "cat cigaleUTF8.txt"
   ]
  },
  {
   "cell_type": "markdown",
   "metadata": {},
   "source": [
    "Les textes sont le plus souvent constitués de lignes. Les différentes lignes d'un fichier sont repérées par un marqueur de fin de ligne qui est constitué d'un caractère de code 10 (`0a` en hexadécimal) ou de deux caractères de codes 10 et 13 pour les systèmes Windows."
   ]
  },
  {
   "cell_type": "markdown",
   "metadata": {
    "toc-hr-collapsed": true
   },
   "source": [
    "# Comment lire le contenu d'un fichier texte avec Python ?"
   ]
  },
  {
   "cell_type": "markdown",
   "metadata": {},
   "source": [
    "## Ouverture d'un canal de lecture"
   ]
  },
  {
   "cell_type": "markdown",
   "metadata": {},
   "source": [
    "Avant de pouvoir lire le contenu d'un fichier texte, il est nécessaire d'établir une connexion entre le programme Python et le fichier texte. \n",
    "\n",
    "Techniquement, il s'agit d'*ouvrir un canal de communication en lecture*, et en Python c'est la fonction `open` qui le permet.\n",
    "\n",
    "~~~python\n",
    "open(chemin_acces_fichier, 'rt')\n",
    "~~~\n",
    "\n",
    "où \n",
    "* `chemin_acces_fichier` est une chaîne de caractères précisant le nom du fichier accompagné du chemin d'accès (ce dernier point est important si le fichier n'est pas dans le dossier courant) ;\n",
    "* et `'rt'` précise que l'ouverture du canal se fait en lecture (`r` comme read) et que les données seront lues et interprétées comme du texte (`t`). \n",
    "\n",
    "La fonction `open` renvoie un objet qui est un canal de communication qui permet d'effectuer certaines opérations qui seront présentées ci-dessous."
   ]
  },
  {
   "cell_type": "code",
   "execution_count": 3,
   "metadata": {},
   "outputs": [],
   "source": [
    "entree = open('cigaleUTF8.txt', 'rt')"
   ]
  },
  {
   "cell_type": "code",
   "execution_count": 4,
   "metadata": {},
   "outputs": [
    {
     "data": {
      "text/plain": [
       "_io.TextIOWrapper"
      ]
     },
     "execution_count": 4,
     "metadata": {},
     "output_type": "execute_result"
    }
   ],
   "source": [
    "type(entree)"
   ]
  },
  {
   "cell_type": "markdown",
   "metadata": {},
   "source": [
    "**Remarques** \n",
    "\n",
    "* le type d'un canal de communication vers un fichier texte est nommé en Python `_io.TextIOWrapper`. Les deux premières lettres (`io`) sont les initiales de *input/output* autrement dit *entrées/sorties*.\n",
    "* toute tentative d'ouvrir un canal depuis un fichier inexistant déclenche l'exception `FileNotFoundError`."
   ]
  },
  {
   "cell_type": "code",
   "execution_count": 5,
   "metadata": {},
   "outputs": [
    {
     "ename": "FileNotFoundError",
     "evalue": "[Errno 2] No such file or directory: 'timoleon.calbuth'",
     "output_type": "error",
     "traceback": [
      "\u001b[0;31m---------------------------------------------------------------------------\u001b[0m",
      "\u001b[0;31mFileNotFoundError\u001b[0m                         Traceback (most recent call last)",
      "\u001b[0;32m<ipython-input-5-7c2fa1a36281>\u001b[0m in \u001b[0;36m<module>\u001b[0;34m()\u001b[0m\n\u001b[0;32m----> 1\u001b[0;31m \u001b[0mopen\u001b[0m\u001b[0;34m(\u001b[0m\u001b[0;34m'timoleon.calbuth'\u001b[0m\u001b[0;34m,\u001b[0m \u001b[0;34m'rt'\u001b[0m\u001b[0;34m)\u001b[0m\u001b[0;34m\u001b[0m\u001b[0m\n\u001b[0m",
      "\u001b[0;31mFileNotFoundError\u001b[0m: [Errno 2] No such file or directory: 'timoleon.calbuth'"
     ]
    }
   ],
   "source": [
    "open('timoleon.calbuth', 'rt')"
   ]
  },
  {
   "cell_type": "markdown",
   "metadata": {
    "toc-hr-collapsed": true
   },
   "source": [
    "## Lecture de données"
   ]
  },
  {
   "cell_type": "markdown",
   "metadata": {},
   "source": [
    "En Python il y a plusieurs façons de lire des données depuis un fichier texte qui diffèrent selon qu'on veut lire la totalité du contenu ou non, et selon qu'on souhaite conserver le découpage en lignes ou non.\n",
    "\n",
    "Quoiqu'il en soit, toute opération de lecture effectuée via un canal ouvert en mode texte donne une chaîne de caractères ou une liste de chaînes de caractères. "
   ]
  },
  {
   "cell_type": "markdown",
   "metadata": {},
   "source": [
    "### Itération sur un canal de lecture"
   ]
  },
  {
   "cell_type": "markdown",
   "metadata": {},
   "source": [
    "Les canaux de lecture sont itérables. Lors d'une itération la variable d'itération prend successivement pour valeurs chacune des lignes contenues dans le fichier."
   ]
  },
  {
   "cell_type": "code",
   "execution_count": 6,
   "metadata": {},
   "outputs": [
    {
     "name": "stdout",
     "output_type": "stream",
     "text": [
      "La Cigale et la Fourmi\n",
      "\n",
      "\n",
      "\n",
      "La Cigale, ayant chanté\n",
      "\n",
      "Tout l'été,\n",
      "\n",
      "Se trouva fort dépourvue\n",
      "\n",
      "Quand la bise fut venue :\n",
      "\n",
      "Pas un seul petit morceau\n",
      "\n",
      "De mouche ou de vermisseau.\n",
      "\n",
      "Elle alla crier famine\n",
      "\n",
      "Chez la Fourmi sa voisine,\n",
      "\n",
      "La priant de lui prêter\n",
      "\n",
      "Quelque grain pour subsister\n",
      "\n",
      "Jusqu'à la saison nouvelle.\n",
      "\n",
      "Je vous paierai, lui dit-elle,\n",
      "\n",
      "Avant l'Oût, foi d'animal,\n",
      "\n",
      "Intérêt et principal. \n",
      "\n",
      "La Fourmi n'est pas prêteuse :\n",
      "\n",
      "C'est là son moindre défaut.\n",
      "\n",
      "Que faisiez-vous au temps chaud ?\n",
      "\n",
      "Dit-elle à cette emprunteuse.\n",
      "\n",
      "Nuit et jour à tout venant\n",
      "\n",
      "Je chantais, ne vous déplaise.\n",
      "\n",
      "Vous chantiez ? j'en suis fort aise.\n",
      "\n",
      "Eh bien! dansez maintenant.\n",
      "\n"
     ]
    }
   ],
   "source": [
    "for ligne in entree:\n",
    "    print(ligne)"
   ]
  },
  {
   "cell_type": "markdown",
   "metadata": {},
   "source": [
    "Une fois un fichier entièrement parcouru, il n'y a plus rien à lire.\n",
    "Une nouvelle tentative de parcourt ne donne rien :"
   ]
  },
  {
   "cell_type": "code",
   "execution_count": 7,
   "metadata": {},
   "outputs": [],
   "source": [
    "for ligne in entree:\n",
    "    print(ligne)"
   ]
  },
  {
   "cell_type": "markdown",
   "metadata": {},
   "source": [
    "La méthode `seek` permet de positionner la « tête de lecture » à un endroit particulier du fichier. Par exemple en donnant 0 en argument on revient au début du fichier."
   ]
  },
  {
   "cell_type": "code",
   "execution_count": 8,
   "metadata": {},
   "outputs": [
    {
     "name": "stdout",
     "output_type": "stream",
     "text": [
      "La Cigale et la Fourmi\n",
      "\n",
      "La Cigale, ayant chanté\n",
      "Tout l'été,\n",
      "Se trouva fort dépourvue\n",
      "Quand la bise fut venue :\n",
      "Pas un seul petit morceau\n",
      "De mouche ou de vermisseau.\n",
      "Elle alla crier famine\n",
      "Chez la Fourmi sa voisine,\n",
      "La priant de lui prêter\n",
      "Quelque grain pour subsister\n",
      "Jusqu'à la saison nouvelle.\n",
      "Je vous paierai, lui dit-elle,\n",
      "Avant l'Oût, foi d'animal,\n",
      "Intérêt et principal. \n",
      "La Fourmi n'est pas prêteuse :\n",
      "C'est là son moindre défaut.\n",
      "Que faisiez-vous au temps chaud ?\n",
      "Dit-elle à cette emprunteuse.\n",
      "Nuit et jour à tout venant\n",
      "Je chantais, ne vous déplaise.\n",
      "Vous chantiez ? j'en suis fort aise.\n",
      "Eh bien! dansez maintenant.\n"
     ]
    }
   ],
   "source": [
    "entree.seek(0)\n",
    "for ligne in entree:\n",
    "    print(ligne, end='')"
   ]
  },
  {
   "cell_type": "markdown",
   "metadata": {},
   "source": [
    "**Remarque :** l'attribution de la valeur `''` au paramètre optionnel `end` de la fonction `print`, évite les lignes vides entre les vers de la fable qu'on observe dans l'exemple précédent, et qui proviennent du fait que les lignes lues dans un fichier texte se terminent toutes par un marqueur de fin de ligne."
   ]
  },
  {
   "cell_type": "markdown",
   "metadata": {},
   "source": [
    "### Lecture de caractères"
   ]
  },
  {
   "cell_type": "markdown",
   "metadata": {},
   "source": [
    "On peut lire quelques caractères ou la totalité des caractères avec la méthode `read`."
   ]
  },
  {
   "cell_type": "markdown",
   "metadata": {},
   "source": [
    "Par exemple les huit premiers caractères :"
   ]
  },
  {
   "cell_type": "code",
   "execution_count": 9,
   "metadata": {},
   "outputs": [
    {
     "data": {
      "text/plain": [
       "'La Cigal'"
      ]
     },
     "execution_count": 9,
     "metadata": {},
     "output_type": "execute_result"
    }
   ],
   "source": [
    "entree.seek(0)\n",
    "entree.read(8)"
   ]
  },
  {
   "cell_type": "markdown",
   "metadata": {},
   "source": [
    "puis les 15 suivants :"
   ]
  },
  {
   "cell_type": "code",
   "execution_count": 10,
   "metadata": {},
   "outputs": [
    {
     "data": {
      "text/plain": [
       "'e et la Fourmi\\n'"
      ]
     },
     "execution_count": 10,
     "metadata": {},
     "output_type": "execute_result"
    }
   ],
   "source": [
    "entree.read(15)"
   ]
  },
  {
   "cell_type": "markdown",
   "metadata": {},
   "source": [
    "À noter que chaque opération de lecture fait avancer la « tête de lecture ».\n",
    "\n",
    "À noter aussi la présence du marqueur de fin de ligne `\\n`."
   ]
  },
  {
   "cell_type": "markdown",
   "metadata": {},
   "source": [
    "Sans paramètre, la méthode `read` fournit tous les caractères non encore lus."
   ]
  },
  {
   "cell_type": "code",
   "execution_count": 11,
   "metadata": {},
   "outputs": [
    {
     "data": {
      "text/plain": [
       "\"\\nLa Cigale, ayant chanté\\nTout l'été,\\nSe trouva fort dépourvue\\nQuand la bise fut venue :\\nPas un seul petit morceau\\nDe mouche ou de vermisseau.\\nElle alla crier famine\\nChez la Fourmi sa voisine,\\nLa priant de lui prêter\\nQuelque grain pour subsister\\nJusqu'à la saison nouvelle.\\nJe vous paierai, lui dit-elle,\\nAvant l'Oût, foi d'animal,\\nIntérêt et principal. \\nLa Fourmi n'est pas prêteuse :\\nC'est là son moindre défaut.\\nQue faisiez-vous au temps chaud ?\\nDit-elle à cette emprunteuse.\\nNuit et jour à tout venant\\nJe chantais, ne vous déplaise.\\nVous chantiez ? j'en suis fort aise.\\nEh bien! dansez maintenant.\\n\""
      ]
     },
     "execution_count": 11,
     "metadata": {},
     "output_type": "execute_result"
    }
   ],
   "source": [
    "entree.read()"
   ]
  },
  {
   "cell_type": "markdown",
   "metadata": {},
   "source": [
    "Et s'il n'y a plus rien à lire, `read` donne une chaîne vide."
   ]
  },
  {
   "cell_type": "code",
   "execution_count": 12,
   "metadata": {},
   "outputs": [
    {
     "data": {
      "text/plain": [
       "''"
      ]
     },
     "execution_count": 12,
     "metadata": {},
     "output_type": "execute_result"
    }
   ],
   "source": [
    "entree.read()"
   ]
  },
  {
   "cell_type": "markdown",
   "metadata": {},
   "source": [
    "### Lecture de lignes"
   ]
  },
  {
   "cell_type": "markdown",
   "metadata": {},
   "source": [
    "Deux méthodes permettent de lire ligne par ligne un fichier texte. Ce sont les méthodes `readline` et `readlines`."
   ]
  },
  {
   "cell_type": "markdown",
   "metadata": {},
   "source": [
    "La méthode `readline` lit et renvoie une ligne."
   ]
  },
  {
   "cell_type": "code",
   "execution_count": 13,
   "metadata": {},
   "outputs": [
    {
     "data": {
      "text/plain": [
       "'La Cigale et la Fourmi\\n'"
      ]
     },
     "execution_count": 13,
     "metadata": {},
     "output_type": "execute_result"
    }
   ],
   "source": [
    "entree.seek(0)\n",
    "entree.readline()"
   ]
  },
  {
   "cell_type": "markdown",
   "metadata": {},
   "source": [
    "À noter que la ligne renvoyée par la méthode `readline` se termine par le marqueur de fin de ligne `\\n`."
   ]
  },
  {
   "cell_type": "code",
   "execution_count": 14,
   "metadata": {},
   "outputs": [
    {
     "data": {
      "text/plain": [
       "'\\n'"
      ]
     },
     "execution_count": 14,
     "metadata": {},
     "output_type": "execute_result"
    }
   ],
   "source": [
    "entree.readline()"
   ]
  },
  {
   "cell_type": "markdown",
   "metadata": {},
   "source": [
    "La deuxième ligne lue dans le fichier par `readline` ne contient que le seul caractère `\\n`. Cela correspond à une ligne vide dans le texte, c'est à dire une ligne ne contenant aucun texte. Cependant la chaîne de caractères obtenue n'est elle pas vide."
   ]
  },
  {
   "cell_type": "markdown",
   "metadata": {},
   "source": [
    "La seconde méthode, `readlines`, donne la liste des lignes restant à lire."
   ]
  },
  {
   "cell_type": "code",
   "execution_count": 15,
   "metadata": {},
   "outputs": [
    {
     "data": {
      "text/plain": [
       "['La Cigale, ayant chanté\\n',\n",
       " \"Tout l'été,\\n\",\n",
       " 'Se trouva fort dépourvue\\n',\n",
       " 'Quand la bise fut venue :\\n',\n",
       " 'Pas un seul petit morceau\\n',\n",
       " 'De mouche ou de vermisseau.\\n',\n",
       " 'Elle alla crier famine\\n',\n",
       " 'Chez la Fourmi sa voisine,\\n',\n",
       " 'La priant de lui prêter\\n',\n",
       " 'Quelque grain pour subsister\\n',\n",
       " \"Jusqu'à la saison nouvelle.\\n\",\n",
       " 'Je vous paierai, lui dit-elle,\\n',\n",
       " \"Avant l'Oût, foi d'animal,\\n\",\n",
       " 'Intérêt et principal. \\n',\n",
       " \"La Fourmi n'est pas prêteuse :\\n\",\n",
       " \"C'est là son moindre défaut.\\n\",\n",
       " 'Que faisiez-vous au temps chaud ?\\n',\n",
       " 'Dit-elle à cette emprunteuse.\\n',\n",
       " 'Nuit et jour à tout venant\\n',\n",
       " 'Je chantais, ne vous déplaise.\\n',\n",
       " \"Vous chantiez ? j'en suis fort aise.\\n\",\n",
       " 'Eh bien! dansez maintenant.\\n']"
      ]
     },
     "execution_count": 15,
     "metadata": {},
     "output_type": "execute_result"
    }
   ],
   "source": [
    "entree.readlines()"
   ]
  },
  {
   "cell_type": "markdown",
   "metadata": {},
   "source": [
    "Lorsqu'il n'y a plus rien à lire, `readline` donne une chaîne vide, et `readlines` une liste vide."
   ]
  },
  {
   "cell_type": "code",
   "execution_count": 16,
   "metadata": {},
   "outputs": [
    {
     "data": {
      "text/plain": [
       "''"
      ]
     },
     "execution_count": 16,
     "metadata": {},
     "output_type": "execute_result"
    }
   ],
   "source": [
    "entree.readline()"
   ]
  },
  {
   "cell_type": "code",
   "execution_count": 17,
   "metadata": {},
   "outputs": [
    {
     "data": {
      "text/plain": [
       "[]"
      ]
     },
     "execution_count": 17,
     "metadata": {},
     "output_type": "execute_result"
    }
   ],
   "source": [
    "entree.readlines()"
   ]
  },
  {
   "cell_type": "markdown",
   "metadata": {},
   "source": [
    "## Fermeture d'un canal"
   ]
  },
  {
   "cell_type": "markdown",
   "metadata": {},
   "source": [
    "Tout canal de communication consomme des ressources sur le système. Les canaux ne peuvent pas être en nombre illimité. C'est pourquoi il est important de *fermer* un canal lorsqu'on en a plus besoin. Cette fermeture libère des ressources qui peuvent être utilisées par le système pour l'ouverture d'autres canaux."
   ]
  },
  {
   "cell_type": "markdown",
   "metadata": {},
   "source": [
    "C'est la méthode `close` qui ferme un canal."
   ]
  },
  {
   "cell_type": "code",
   "execution_count": 18,
   "metadata": {},
   "outputs": [],
   "source": [
    "entree.close()"
   ]
  },
  {
   "cell_type": "markdown",
   "metadata": {},
   "source": [
    "Bien évidemment, une fois fermé, toute opération de lecture sur un canal est vouée à l'échec et se traduit par le déclenchement d'une exception `ValueError`."
   ]
  },
  {
   "cell_type": "code",
   "execution_count": 19,
   "metadata": {},
   "outputs": [
    {
     "ename": "ValueError",
     "evalue": "I/O operation on closed file.",
     "output_type": "error",
     "traceback": [
      "\u001b[0;31m---------------------------------------------------------------------------\u001b[0m",
      "\u001b[0;31mValueError\u001b[0m                                Traceback (most recent call last)",
      "\u001b[0;32m<ipython-input-19-889a2cd40655>\u001b[0m in \u001b[0;36m<module>\u001b[0;34m()\u001b[0m\n\u001b[0;32m----> 1\u001b[0;31m \u001b[0mentree\u001b[0m\u001b[0;34m.\u001b[0m\u001b[0mreadline\u001b[0m\u001b[0;34m(\u001b[0m\u001b[0;34m)\u001b[0m\u001b[0;34m\u001b[0m\u001b[0m\n\u001b[0m",
      "\u001b[0;31mValueError\u001b[0m: I/O operation on closed file."
     ]
    }
   ],
   "source": [
    "entree.readline()"
   ]
  },
  {
   "cell_type": "markdown",
   "metadata": {
    "toc-hr-collapsed": true
   },
   "source": [
    "# Comment écrire des données dans un fichier texte avec Python ?"
   ]
  },
  {
   "cell_type": "markdown",
   "metadata": {},
   "source": [
    "## Ouverture d'un canal d'écriture"
   ]
  },
  {
   "cell_type": "markdown",
   "metadata": {},
   "source": [
    "De la même façon que pour les canaux de lecture, il est nécessaire d'ouvrir tout canal en écriture. Et c'est toujours la fonction `open` qui permet cette ouverture.\n",
    "\n",
    "~~~python\n",
    "open(chemin_du_fichier, mode)\n",
    "~~~\n",
    "\n",
    "La différence est qu'on peut choisir l'un des trois modes `w`, `x` ou `a` :\n",
    "\n",
    "* mode `w` : l'ouverture du canal crée un nouveau fichier. Attention s'il existe déjà un fichier de même nom, l'ouverture efface le contenu du fichier préexistant. Ce mode d'ouverture est donc dangereux car il peut occasionner la perte de données.\n",
    "* mode `x` : crée un nouveau fichier s'il n'existe pas déjà. Dans le cas contraire, ce mode d'ouverture déclenche l'exception `FileExistsError`. C'est un mode prudent qui permet l'inconvénient du mode précédent.\n",
    "* mode `a` : l'ouverture du canal se fait en ajout (ou append) à la fin d'un fichier existant. Si le fichier n'existe pas, il est créé.\n",
    "\n",
    "À la suite de l'une de ces trois lettres désignant un mode, on ajoute `t` pour préciser que le canal doit être ouvert en mode texte."
   ]
  },
  {
   "cell_type": "markdown",
   "metadata": {},
   "source": [
    "À titre de premier exemple, voici une ouverture qui échoue puisque le fichier existe et que le mode choisi est le mode prudent `x`."
   ]
  },
  {
   "cell_type": "code",
   "execution_count": 20,
   "metadata": {},
   "outputs": [
    {
     "ename": "FileExistsError",
     "evalue": "[Errno 17] File exists: 'cigaleUTF8.txt'",
     "output_type": "error",
     "traceback": [
      "\u001b[0;31m---------------------------------------------------------------------------\u001b[0m",
      "\u001b[0;31mFileExistsError\u001b[0m                           Traceback (most recent call last)",
      "\u001b[0;32m<ipython-input-20-dc6a6ba49aca>\u001b[0m in \u001b[0;36m<module>\u001b[0;34m()\u001b[0m\n\u001b[0;32m----> 1\u001b[0;31m \u001b[0msortie\u001b[0m \u001b[0;34m=\u001b[0m \u001b[0mopen\u001b[0m\u001b[0;34m(\u001b[0m\u001b[0;34m'cigaleUTF8.txt'\u001b[0m\u001b[0;34m,\u001b[0m \u001b[0;34m'xt'\u001b[0m\u001b[0;34m)\u001b[0m\u001b[0;34m\u001b[0m\u001b[0m\n\u001b[0m",
      "\u001b[0;31mFileExistsError\u001b[0m: [Errno 17] File exists: 'cigaleUTF8.txt'"
     ]
    }
   ],
   "source": [
    "sortie = open('cigaleUTF8.txt', 'xt')"
   ]
  },
  {
   "cell_type": "markdown",
   "metadata": {},
   "source": [
    "L'exemple suivant utilise le mode `w`. Si le fichier donné en premier argument existe, les données qu'il contient seront perdues."
   ]
  },
  {
   "cell_type": "code",
   "execution_count": 21,
   "metadata": {},
   "outputs": [],
   "source": [
    "sortie = open('essai_ecriture.txt', 'wt')"
   ]
  },
  {
   "cell_type": "markdown",
   "metadata": {},
   "source": [
    "## Écriture de données"
   ]
  },
  {
   "cell_type": "markdown",
   "metadata": {},
   "source": [
    "Comme les fichier texte peuvent être considérés comme des suites de caractères, les seules données qu'il est possible d'écrire sont des (chaînes de) caractères.\n",
    "\n",
    "Si on veut écrire des données d'autres types, il faut préalablement les convertir en chaînes de caractères. Par exemple la fonction `str` permet cela pour plusieurs types de base en Python.  "
   ]
  },
  {
   "cell_type": "markdown",
   "metadata": {},
   "source": [
    "Nous ne présentons qu'une seule méthode d'écriture : `write`. Cette méthode prend une chaîne de caractères en paramètre et renvoie un nombre entier qui est la longueur de la chaîne écrite."
   ]
  },
  {
   "cell_type": "code",
   "execution_count": 22,
   "metadata": {},
   "outputs": [
    {
     "data": {
      "text/plain": [
       "14"
      ]
     },
     "execution_count": 22,
     "metadata": {},
     "output_type": "execute_result"
    }
   ],
   "source": [
    "sortie.write('premiere ligne')"
   ]
  },
  {
   "cell_type": "code",
   "execution_count": 23,
   "metadata": {},
   "outputs": [
    {
     "data": {
      "text/plain": [
       "28"
      ]
     },
     "execution_count": 23,
     "metadata": {},
     "output_type": "execute_result"
    }
   ],
   "source": [
    "sortie.write(' suite de la première ligne\\n')"
   ]
  },
  {
   "cell_type": "code",
   "execution_count": 24,
   "metadata": {},
   "outputs": [
    {
     "data": {
      "text/plain": [
       "14"
      ]
     },
     "execution_count": 24,
     "metadata": {},
     "output_type": "execute_result"
    }
   ],
   "source": [
    "sortie.write('Seconde ligne\\n')"
   ]
  },
  {
   "cell_type": "markdown",
   "metadata": {},
   "source": [
    "## Fermeture"
   ]
  },
  {
   "cell_type": "markdown",
   "metadata": {},
   "source": [
    "Arrivé à ce stade nous avons écrit deux lignes dans le fichier `essai_ecriture.txt`. Observons quelques informations sur ce fichier du point de vue du système."
   ]
  },
  {
   "cell_type": "code",
   "execution_count": 25,
   "metadata": {},
   "outputs": [
    {
     "name": "stdout",
     "output_type": "stream",
     "text": [
      "-rw-r--r-- 1 eric eric 0 mars  22 13:50 essai_ecriture.txt\n"
     ]
    }
   ],
   "source": [
    "%%bash\n",
    "\n",
    "ls -l essai_ecriture.txt"
   ]
  },
  {
   "cell_type": "markdown",
   "metadata": {},
   "source": [
    "Nous pouvons lire de gauche à droite \n",
    "* des informations sur les permissions sur le fichier : `-rw-r--r--`\n",
    "* des informations sur le propriétaire du fichier : `eric` et son groupe : `eric`\n",
    "* la taille du fichier (en octets) : `0`\n",
    "* la date et l'heure de création ou de dernière modification\n",
    "* et enfin le nom du fichier.\n",
    "\n",
    "Ce qui est étonnant c'est la taille : le fichier semble vide alors que nous avons effectué trois opérations d'écriture avec quelques dizaines de caractères au total."
   ]
  },
  {
   "cell_type": "markdown",
   "metadata": {},
   "source": [
    "Comme pour les canaux en lecture, il ne faut pas oublier de fermer les canaux en écriture. C'est d'autant plus important que leur non fermeture peut faire perdre des données."
   ]
  },
  {
   "cell_type": "code",
   "execution_count": 26,
   "metadata": {},
   "outputs": [],
   "source": [
    "sortie.close()"
   ]
  },
  {
   "cell_type": "code",
   "execution_count": 27,
   "metadata": {},
   "outputs": [
    {
     "name": "stdout",
     "output_type": "stream",
     "text": [
      "-rw-r--r-- 1 eric eric 57 mars  22 13:50 essai_ecriture.txt\n"
     ]
    }
   ],
   "source": [
    "%%bash\n",
    "ls -l essai_ecriture.txt"
   ]
  },
  {
   "cell_type": "markdown",
   "metadata": {},
   "source": [
    "Une fois fermé le fichier n'a plus une taille nulle. \n",
    "\n",
    "**Remarque :** on peut observer une différence entre la taille en octets et le nombre total de caractères écrits. Cela provient de l'encodage utilisé qui encode certains caractères avec plusieurs octets. Cf plus bas. "
   ]
  },
  {
   "cell_type": "markdown",
   "metadata": {},
   "source": [
    "Visualisons le contenu du fichier que nous venons de créer :"
   ]
  },
  {
   "cell_type": "code",
   "execution_count": 28,
   "metadata": {},
   "outputs": [
    {
     "name": "stdout",
     "output_type": "stream",
     "text": [
      "premiere ligne suite de la première ligne\n",
      "Seconde ligne\n"
     ]
    }
   ],
   "source": [
    "%%bash\n",
    "cat essai_ecriture.txt"
   ]
  },
  {
   "cell_type": "markdown",
   "metadata": {},
   "source": [
    "Ce fichier est constitué de deux lignes. Un examen des chaînes passées en paramètre à la méthode `write` dans les trois commandes précédentes révèle qu'il y a bien deux lignes seulement puisque deux caractères `\\n` seulement."
   ]
  },
  {
   "cell_type": "markdown",
   "metadata": {},
   "source": [
    "## Forme syntaxique `with`"
   ]
  },
  {
   "cell_type": "markdown",
   "metadata": {},
   "source": [
    "Python offre une structure syntaxique permettant d’ommettre la commande explicite de fermeture d’un canal (et ainsi l’oubli de cette commande).\n",
    "\n",
    "Cette forme débute par le mot clé `with` et utilise le mot clé `as` :\n",
    "\n",
    "~~~python\n",
    "# instr avant\n",
    "with open(..., ...) as f:\n",
    "   # traitement sur f\n",
    "# instr après\n",
    "~~~"
   ]
  },
  {
   "cell_type": "markdown",
   "metadata": {},
   "source": [
    "L’identificateur placé après le mot-clé `as` est le nom donné au canal ouvert par la fonction `open`. La portée de cette variable est le bloc (indenté) qui suit le `with`. À la fin de ce bloc, le canal est automatiquement fermé, sans qu’il ne soit nécessaire d’invoquer la méthode close.\n",
    "\n",
    "De cette façon, les lignes précédentes sont équivalentes aux suivantes :\n",
    "\n",
    "~~~python\n",
    "# instr avant\n",
    "f = open(..., ...)\n",
    "# traitement sur f\n",
    "f.close()\n",
    "# instr après\n",
    "~~~"
   ]
  },
  {
   "cell_type": "markdown",
   "metadata": {},
   "source": [
    "Voici un exemple d'utilisation de cette forme."
   ]
  },
  {
   "cell_type": "code",
   "execution_count": 29,
   "metadata": {},
   "outputs": [
    {
     "name": "stdout",
     "output_type": "stream",
     "text": [
      "La Cigale et la Fourmi\n",
      "\n"
     ]
    }
   ],
   "source": [
    "with open('cigaleUTF8.txt', 'rt') as entree:\n",
    "    print(entree.readline())"
   ]
  },
  {
   "cell_type": "markdown",
   "metadata": {},
   "source": [
    "Et on peut vérifier que le canal est bien fermé ensuite."
   ]
  },
  {
   "cell_type": "code",
   "execution_count": 30,
   "metadata": {},
   "outputs": [
    {
     "ename": "ValueError",
     "evalue": "I/O operation on closed file.",
     "output_type": "error",
     "traceback": [
      "\u001b[0;31m---------------------------------------------------------------------------\u001b[0m",
      "\u001b[0;31mValueError\u001b[0m                                Traceback (most recent call last)",
      "\u001b[0;32m<ipython-input-30-889a2cd40655>\u001b[0m in \u001b[0;36m<module>\u001b[0;34m()\u001b[0m\n\u001b[0;32m----> 1\u001b[0;31m \u001b[0mentree\u001b[0m\u001b[0;34m.\u001b[0m\u001b[0mreadline\u001b[0m\u001b[0;34m(\u001b[0m\u001b[0;34m)\u001b[0m\u001b[0;34m\u001b[0m\u001b[0m\n\u001b[0m",
      "\u001b[0;31mValueError\u001b[0m: I/O operation on closed file."
     ]
    }
   ],
   "source": [
    "entree.readline()"
   ]
  },
  {
   "cell_type": "markdown",
   "metadata": {
    "toc-hr-collapsed": true
   },
   "source": [
    "# Fichiers csv"
   ]
  },
  {
   "cell_type": "markdown",
   "metadata": {
    "toc-hr-collapsed": false
   },
   "source": [
    "Les fichiers au format [CSV](https://fr.wikipedia.org/wiki/Comma-separated_values) sont des fichiers texte représentant des données tabulaires sous forme de valeurs séparées par des virgules ou tout autre caractère convenu (d'où le sigle CSV pour Comma Separated Values). \n",
    "Ces fichiers sont faciles à exploiter pour le traitement ou l'analyse de données. Ils peuvent être produits ou lus par les tableurs usuels.\n"
   ]
  },
  {
   "cell_type": "markdown",
   "metadata": {},
   "source": [
    "Voici à titre d'exemple le début d'un fichier au format CSV :\n",
    "\n",
    "    taille;tri select;tri insert\n",
    "    0;0.00;0.00\n",
    "    1;0.00;0.00\n",
    "    2;1.00;1.00\n",
    "    3;3.00;2.68\n",
    "    4;6.00;4.66\n",
    "    5;10.00;7.48\n",
    "    6;15.00;11.34\n",
    "    7;21.00;14.64\n",
    "    8;28.00;19.80\n",
    "    \n",
    "Dans cet exemple chaque ligne comprend trois valeurs séparées ici par des points-virgules. La première ligne donne une signification de chacune des trois valeurs des lignes qui suivent. (Manifestement, il doit s'agir de données récoltées au sujet des tri par sélection et par inserion.)"
   ]
  },
  {
   "cell_type": "markdown",
   "metadata": {
    "toc-hr-collapsed": false
   },
   "source": [
    "## Production d'un fichier csv"
   ]
  },
  {
   "cell_type": "markdown",
   "metadata": {},
   "source": [
    "Nous allons produire un fichier CSV contenant les résultats expérimentaux que nous avons établis dans le chapitre sur les tris.\n",
    "\n",
    "Plus précisément l'objectif est de créer un fichier dont chaque ligne sera au format\n",
    "\n",
    "     taille;nbre moyen comp tri select;nbre moyen comp tri insert\n",
    "\n",
    "* La première valeur contiendra les tailles des listes que l'on fera varier de 0 à 99. Ce sont des nombres entiers.\n",
    "* La seconde valeur contiendra le nombre moyen de comparaisons mesuré pour trier une liste selon le tri sélection. Ces nombres sont des nombres flottants qu'on écrira avec deux chiffres après la virgule.\n",
    "* La troisième valeur a la même description que la précédente, mais pour le tri par insertion.\n",
    "\n",
    "La première ligne contiendra une description des champs des lignes suivantes."
   ]
  },
  {
   "cell_type": "markdown",
   "metadata": {},
   "source": [
    "Il faut commencer par produire les données à écrire."
   ]
  },
  {
   "cell_type": "code",
   "execution_count": 31,
   "metadata": {},
   "outputs": [],
   "source": [
    "import random\n",
    "from ap2_decorators import count\n",
    "from compare import compare\n",
    "from tris import tri_select, tri_insert"
   ]
  },
  {
   "cell_type": "code",
   "execution_count": 32,
   "metadata": {},
   "outputs": [],
   "source": [
    "compare2 = count(compare)\n",
    "LONG_MAX = 100\n",
    "LONGUEURS = tuple(range(LONG_MAX))\n",
    "NBRE_EXPERIENCES = 50\n",
    "nbre_comp_tri_select = []\n",
    "nbre_comp_tri_insert = []\n",
    "for n in LONGUEURS:\n",
    "    for tri, l_compteurs in ((tri_select, nbre_comp_tri_select),\n",
    "                             (tri_insert, nbre_comp_tri_insert)):\n",
    "        compare2.counter = 0\n",
    "        l = list(range(n))\n",
    "        for _ in range(NBRE_EXPERIENCES):\n",
    "            random.shuffle(l)\n",
    "            tri(l, comp=compare2)\n",
    "        l_compteurs.append(compare2.counter / NBRE_EXPERIENCES)"
   ]
  },
  {
   "cell_type": "markdown",
   "metadata": {},
   "source": [
    "Maintenant que les données sont calculées, il reste à les écrire.\n",
    "\n",
    "On commence par définir le format d'une ligne de données qui doit contenir trois nombres séparés par des points-virgules. Le premier nombre est un nombre entier, les deux autres des nombres flottants. \n",
    "\n",
    "On définit une constante chaîne de caractères nommée `LIGNE` qui contient trois emplacements séparés par des points-virgules correspondant à un nombre entier `{:d}`, et deux nombres flottants avec deux chiffres après la virgule (ou plutôt le point décimal) `{:.2f}`. À la fin de cette chaîne de caractères on place le marqueur de fin de ligne `\\n'."
   ]
  },
  {
   "cell_type": "code",
   "execution_count": 33,
   "metadata": {},
   "outputs": [],
   "source": [
    "LIGNE = '{:d};{:.2f};{:.2f}\\n'"
   ]
  },
  {
   "cell_type": "markdown",
   "metadata": {},
   "source": [
    "Avec la méthode `format`, il est facile de construire une vraie ligne de données."
   ]
  },
  {
   "cell_type": "code",
   "execution_count": 34,
   "metadata": {},
   "outputs": [
    {
     "data": {
      "text/plain": [
       "'0;0.00;0.00\\n'"
      ]
     },
     "execution_count": 34,
     "metadata": {},
     "output_type": "execute_result"
    }
   ],
   "source": [
    "n = 0\n",
    "LIGNE.format(n, nbre_comp_tri_select[n], nbre_comp_tri_insert[n])"
   ]
  },
  {
   "cell_type": "markdown",
   "metadata": {},
   "source": [
    "Voilà ! Tout est prêt pour créer un fichier que nous nommerons `analyse_tris.csv` contenant toutes les données calculées."
   ]
  },
  {
   "cell_type": "code",
   "execution_count": 35,
   "metadata": {},
   "outputs": [],
   "source": [
    "with open('analyse_tris.csv', 'wt') as sortie:\n",
    "    sortie.write('taille;tri select;tri insert\\n')\n",
    "    for n in LONGUEURS:\n",
    "        sortie.write(LIGNE.format(n, nbre_comp_tri_select[n], nbre_comp_tri_insert[n]))"
   ]
  },
  {
   "cell_type": "markdown",
   "metadata": {},
   "source": [
    "Vérifions en examinant les premières lignes du fichier :"
   ]
  },
  {
   "cell_type": "code",
   "execution_count": 36,
   "metadata": {},
   "outputs": [
    {
     "name": "stdout",
     "output_type": "stream",
     "text": [
      "taille;tri select;tri insert\n",
      "0;0.00;0.00\n",
      "1;0.00;0.00\n",
      "2;1.00;1.00\n",
      "3;3.00;2.66\n",
      "4;6.00;4.78\n",
      "5;10.00;7.58\n",
      "6;15.00;10.96\n",
      "7;21.00;15.18\n",
      "8;28.00;19.50\n"
     ]
    }
   ],
   "source": [
    "%%bash\n",
    "\n",
    "head analyse_tris.csv"
   ]
  },
  {
   "cell_type": "markdown",
   "metadata": {},
   "source": [
    "## Exploitation des données"
   ]
  },
  {
   "cell_type": "markdown",
   "metadata": {},
   "source": [
    "Nous voulons maintenant à partir d'un fichier construire des données en mémoire sur lesquels nous pourrons effectuer tout traitement souhaité.\n",
    "\n",
    "Par exemple à partir des données du fichier `analyse_tris.csv`, nous allons construire trois listes : une pour les longueurs de listes et les deux autres pour les nombres de comparaison."
   ]
  },
  {
   "cell_type": "markdown",
   "metadata": {},
   "source": [
    "Mais ce qu'on lit dans un fichier texte ... c'est du texte. Ou plus exactement des chaînes de caractères. "
   ]
  },
  {
   "cell_type": "code",
   "execution_count": 37,
   "metadata": {},
   "outputs": [],
   "source": [
    "with open('analyse_tris.csv', 'rt')  as entree:\n",
    "    _ = entree.readline() # on passe la première ligne\n",
    "    ligne = entree.readline()"
   ]
  },
  {
   "cell_type": "code",
   "execution_count": 38,
   "metadata": {},
   "outputs": [
    {
     "data": {
      "text/plain": [
       "'0;0.00;0.00\\n'"
      ]
     },
     "execution_count": 38,
     "metadata": {},
     "output_type": "execute_result"
    }
   ],
   "source": [
    "ligne"
   ]
  },
  {
   "cell_type": "markdown",
   "metadata": {},
   "source": [
    "Pour chacune des lignes lues dans le fichier csv, il va falloir\n",
    "\n",
    "* se débarrasser du marqueur de fin de ligne situé à droite (méthode `rstrip`) ;\n",
    "* découper la ligne afin d'obtenir les trois composants (méthode `split`) ;\n",
    "* convertir chacun de ces composants en nombre du bon type (fonctions `int` et  `float`)."
   ]
  },
  {
   "cell_type": "code",
   "execution_count": 39,
   "metadata": {},
   "outputs": [
    {
     "data": {
      "text/plain": [
       "(0, 0.0, 0.0)"
      ]
     },
     "execution_count": 39,
     "metadata": {},
     "output_type": "execute_result"
    }
   ],
   "source": [
    "donnees = ligne.rstrip().split(';') \n",
    "longueur = int(donnees[0])\n",
    "nbr_comp_select = float(donnees[1])\n",
    "nbr_comp_insert = float(donnees[2])\n",
    "(longueur, nbr_comp_select, nbr_comp_insert)"
   ]
  },
  {
   "cell_type": "markdown",
   "metadata": {},
   "source": [
    "On construit les trois listes souhaitées :"
   ]
  },
  {
   "cell_type": "code",
   "execution_count": 40,
   "metadata": {},
   "outputs": [],
   "source": [
    "longueurs = list()\n",
    "nbre_comp_tri_select = list()\n",
    "nbre_comp_tri_insert = list()\n",
    "with open('analyse_tris.csv', 'rt') as entree:\n",
    "    _ = entree.readline()\n",
    "    for ligne in entree:\n",
    "        donnees = ligne.rstrip().split(';')\n",
    "        longueurs.append(int(donnees[0]))\n",
    "        nbre_comp_tri_select.append(float(donnees[1]))\n",
    "        nbre_comp_tri_insert.append(float(donnees[2]))"
   ]
  },
  {
   "cell_type": "markdown",
   "metadata": {},
   "source": [
    "Maintenant que les données sont lues, nous pouvons faire les exploiter. Par exemple, les visualiser."
   ]
  },
  {
   "cell_type": "code",
   "execution_count": 42,
   "metadata": {},
   "outputs": [
    {
     "data": {
      "image/png": "[encoded data removed]",
      "text/plain": [
       "<Figure size 432x288 with 1 Axes>"
      ]
     },
     "metadata": {
      "needs_background": "light"
     },
     "output_type": "display_data"
    }
   ],
   "source": [
    "import pylab\n",
    "pylab.plot(longueurs, nbre_comp_tri_select, '.',\n",
    "           longueurs, nbre_comp_tri_insert, '.')\n",
    "pylab.xlabel('Longueurs des listes')\n",
    "pylab.ylabel('Nbres comp.')\n",
    "pylab.legend(['tri sélection', 'tri insertion'])\n",
    "pylab.title('Nombre moyen de comparaisons pour les tris sélection et insertion')\n",
    "pylab.show()"
   ]
  },
  {
   "cell_type": "markdown",
   "metadata": {},
   "source": [
    "# Encodage des fichiers texte"
   ]
  },
  {
   "cell_type": "markdown",
   "metadata": {},
   "source": [
    "Il existe plusieurs encodages possibles des textes. La figure ci-dessous montre une vue sur deux fichiers texte contenant tous deux le même texte (une célèbre fable de La Fontaine) mais encodés de façon différente. L'éditeur de textes (emacs) qui montre le contenu de ces deux fichiers permet de vérifier visuellement qu'il s'agit du même texte. Mais il masque le fait que les encodages sont différents (ce qui intéresse finalement assez peu de monde, en dehors des informaticiens). Dans la vue de gauche, l'encodage du fichier est l'[ISO-8859-1](https://fr.wikipedia.org/wiki/ISO/CEI_8859-1) tandis que dans la vue de droite c'est l'[UTF-8](https://fr.wikipedia.org/wiki/UTF-8).\n",
    "\n",
    "<img src=\"codages_cigale.png\" width=\"50%\"/>"
   ]
  },
  {
   "cell_type": "markdown",
   "metadata": {},
   "source": [
    "Si on ne le précise pas, le codage employé par la fonction `open` est celui par défaut de la plateforme sur laquelle le programme s’exécute. Aujourd’hui, sur un grand nombre de systèmes c'est : UTF-8."
   ]
  },
  {
   "cell_type": "markdown",
   "metadata": {},
   "source": [
    "Voici ce qui se passe si on tente de lire un fichier texte non encodé en UTF-8."
   ]
  },
  {
   "cell_type": "code",
   "execution_count": 43,
   "metadata": {},
   "outputs": [
    {
     "ename": "UnicodeDecodeError",
     "evalue": "'utf-8' codec can't decode byte 0xe9 in position 46: invalid continuation byte",
     "output_type": "error",
     "traceback": [
      "\u001b[0;31m---------------------------------------------------------------------------\u001b[0m",
      "\u001b[0;31mUnicodeDecodeError\u001b[0m                        Traceback (most recent call last)",
      "\u001b[0;32m<ipython-input-43-d3006196ba64>\u001b[0m in \u001b[0;36m<module>\u001b[0;34m()\u001b[0m\n\u001b[1;32m      1\u001b[0m \u001b[0;32mwith\u001b[0m \u001b[0mopen\u001b[0m\u001b[0;34m(\u001b[0m\u001b[0;34m'cigaleISO-8859.txt'\u001b[0m\u001b[0;34m,\u001b[0m \u001b[0;34m'rt'\u001b[0m\u001b[0;34m)\u001b[0m \u001b[0;32mas\u001b[0m \u001b[0mentree\u001b[0m\u001b[0;34m:\u001b[0m\u001b[0;34m\u001b[0m\u001b[0m\n\u001b[0;32m----> 2\u001b[0;31m     \u001b[0;32mfor\u001b[0m \u001b[0mligne\u001b[0m \u001b[0;32min\u001b[0m \u001b[0mentree\u001b[0m\u001b[0;34m:\u001b[0m\u001b[0;34m\u001b[0m\u001b[0m\n\u001b[0m\u001b[1;32m      3\u001b[0m         \u001b[0mprint\u001b[0m\u001b[0;34m(\u001b[0m\u001b[0mligne\u001b[0m\u001b[0;34m,\u001b[0m \u001b[0mend\u001b[0m\u001b[0;34m=\u001b[0m\u001b[0;34m''\u001b[0m\u001b[0;34m)\u001b[0m\u001b[0;34m\u001b[0m\u001b[0m\n",
      "\u001b[0;32m/usr/lib/python3.5/codecs.py\u001b[0m in \u001b[0;36mdecode\u001b[0;34m(self, input, final)\u001b[0m\n\u001b[1;32m    319\u001b[0m         \u001b[0;31m# decode input (taking the buffer into account)\u001b[0m\u001b[0;34m\u001b[0m\u001b[0;34m\u001b[0m\u001b[0m\n\u001b[1;32m    320\u001b[0m         \u001b[0mdata\u001b[0m \u001b[0;34m=\u001b[0m \u001b[0mself\u001b[0m\u001b[0;34m.\u001b[0m\u001b[0mbuffer\u001b[0m \u001b[0;34m+\u001b[0m \u001b[0minput\u001b[0m\u001b[0;34m\u001b[0m\u001b[0m\n\u001b[0;32m--> 321\u001b[0;31m         \u001b[0;34m(\u001b[0m\u001b[0mresult\u001b[0m\u001b[0;34m,\u001b[0m \u001b[0mconsumed\u001b[0m\u001b[0;34m)\u001b[0m \u001b[0;34m=\u001b[0m \u001b[0mself\u001b[0m\u001b[0;34m.\u001b[0m\u001b[0m_buffer_decode\u001b[0m\u001b[0;34m(\u001b[0m\u001b[0mdata\u001b[0m\u001b[0;34m,\u001b[0m \u001b[0mself\u001b[0m\u001b[0;34m.\u001b[0m\u001b[0merrors\u001b[0m\u001b[0;34m,\u001b[0m \u001b[0mfinal\u001b[0m\u001b[0;34m)\u001b[0m\u001b[0;34m\u001b[0m\u001b[0m\n\u001b[0m\u001b[1;32m    322\u001b[0m         \u001b[0;31m# keep undecoded input until the next call\u001b[0m\u001b[0;34m\u001b[0m\u001b[0;34m\u001b[0m\u001b[0m\n\u001b[1;32m    323\u001b[0m         \u001b[0mself\u001b[0m\u001b[0;34m.\u001b[0m\u001b[0mbuffer\u001b[0m \u001b[0;34m=\u001b[0m \u001b[0mdata\u001b[0m\u001b[0;34m[\u001b[0m\u001b[0mconsumed\u001b[0m\u001b[0;34m:\u001b[0m\u001b[0;34m]\u001b[0m\u001b[0;34m\u001b[0m\u001b[0m\n",
      "\u001b[0;31mUnicodeDecodeError\u001b[0m: 'utf-8' codec can't decode byte 0xe9 in position 46: invalid continuation byte"
     ]
    }
   ],
   "source": [
    "with open('cigaleISO-8859.txt', 'rt') as entree:\n",
    "    for ligne in entree:\n",
    "        print(ligne, end='')"
   ]
  },
  {
   "cell_type": "markdown",
   "metadata": {},
   "source": [
    "Une exception `UnicodeDecodeError` est déclenchée."
   ]
  },
  {
   "cell_type": "markdown",
   "metadata": {},
   "source": [
    "La fonction `open` possède un paramètre optionnel nommé `encoding` qui permet de préciser le codage voulu."
   ]
  },
  {
   "cell_type": "code",
   "execution_count": 44,
   "metadata": {},
   "outputs": [
    {
     "name": "stdout",
     "output_type": "stream",
     "text": [
      "La Cigale et la Fourmi\n",
      "\n",
      "La Cigale, ayant chanté\n",
      "Tout l'été,\n",
      "Se trouva fort dépourvue\n",
      "Quand la bise fut venue :\n",
      "Pas un seul petit morceau\n",
      "De mouche ou de vermisseau.\n",
      "Elle alla crier famine\n",
      "Chez la Fourmi sa voisine,\n",
      "La priant de lui prêter\n",
      "Quelque grain pour subsister\n",
      "Jusqu'à la saison nouvelle.\n",
      "Je vous paierai, lui dit-elle,\n",
      "Avant l'Oût, foi d'animal,\n",
      "Intérêt et principal. \n",
      "La Fourmi n'est pas prêteuse :\n",
      "C'est là son moindre défaut.\n",
      "Que faisiez-vous au temps chaud ?\n",
      "Dit-elle à cette emprunteuse.\n",
      "Nuit et jour à tout venant\n",
      "Je chantais, ne vous déplaise.\n",
      "Vous chantiez ? j'en suis fort aise.\n",
      "Eh bien! dansez maintenant.\n"
     ]
    }
   ],
   "source": [
    "with open('cigaleISO-8859.txt', 'rt', encoding='ISO8859_1') as entree:\n",
    "    for ligne in entree:\n",
    "        print(ligne, end='')"
   ]
  },
  {
   "cell_type": "markdown",
   "metadata": {},
   "source": [
    "De la même manière, si on veut préciser l'encodage UTF-8, il suffit d'écrire\n",
    "\n",
    "~~~python\n",
    "open(chemin_acces_fichier, mode, encoding='UTF-8')\n",
    "~~~"
   ]
  },
  {
   "cell_type": "markdown",
   "metadata": {},
   "source": [
    "Le paramètre optionnel `encoding` peut aussi être utilisé pour l'écriture de fichiers texte. "
   ]
  },
  {
   "cell_type": "markdown",
   "metadata": {
    "toc-hr-collapsed": true
   },
   "source": [
    "# Traitement des données lues"
   ]
  },
  {
   "cell_type": "markdown",
   "metadata": {},
   "source": [
    "Si les opérations d’écriture ne posent en général pas trop de problèmes, il n’en va pas de même pour les opérations de lecture.\n",
    "\n",
    "Lorsque dans un programme des données sont lues, c’est pour qu’elles soient l’objet d’un certain traitement. Quelle certitude pouvons nous avoir sur la conformité ou validité de ces données, surtout lorsqu’elles proviennent d’une saisie par un opérateur humain ?\n",
    "\n",
    "Cette problématique va nous amener à examiner d'un peu plus près les exceptions."
   ]
  },
  {
   "cell_type": "markdown",
   "metadata": {},
   "source": [
    "## Retour sur les exceptions"
   ]
  },
  {
   "cell_type": "markdown",
   "metadata": {},
   "source": [
    "Nous le savons bien, certaines instructions, bien que syntaxiquement correctes, peuvent déclencher des erreurs pendant leur exécution, erreurs qui interrompent cette exécution en déclenchant ce qu’en programmation on nomme *exception*. Cela aarrive souvent lorsque des conditions d'utilisation d'une opération, méthode ou fonction ne sont par remplies."
   ]
  },
  {
   "cell_type": "markdown",
   "metadata": {},
   "source": [
    "En voici quelques exemples."
   ]
  },
  {
   "cell_type": "code",
   "execution_count": 45,
   "metadata": {},
   "outputs": [
    {
     "ename": "ZeroDivisionError",
     "evalue": "integer division or modulo by zero",
     "output_type": "error",
     "traceback": [
      "\u001b[0;31m---------------------------------------------------------------------------\u001b[0m",
      "\u001b[0;31mZeroDivisionError\u001b[0m                         Traceback (most recent call last)",
      "\u001b[0;32m<ipython-input-45-7fc8a4784866>\u001b[0m in \u001b[0;36m<module>\u001b[0;34m()\u001b[0m\n\u001b[0;32m----> 1\u001b[0;31m \u001b[0;36m1\u001b[0m \u001b[0;34m//\u001b[0m \u001b[0;36m0\u001b[0m\u001b[0;34m\u001b[0m\u001b[0m\n\u001b[0m",
      "\u001b[0;31mZeroDivisionError\u001b[0m: integer division or modulo by zero"
     ]
    }
   ],
   "source": [
    "1 // 0"
   ]
  },
  {
   "cell_type": "code",
   "execution_count": 46,
   "metadata": {},
   "outputs": [
    {
     "ename": "IndexError",
     "evalue": "list index out of range",
     "output_type": "error",
     "traceback": [
      "\u001b[0;31m---------------------------------------------------------------------------\u001b[0m",
      "\u001b[0;31mIndexError\u001b[0m                                Traceback (most recent call last)",
      "\u001b[0;32m<ipython-input-46-4f288821c9ca>\u001b[0m in \u001b[0;36m<module>\u001b[0;34m()\u001b[0m\n\u001b[1;32m      1\u001b[0m \u001b[0ml\u001b[0m \u001b[0;34m=\u001b[0m \u001b[0mlist\u001b[0m\u001b[0;34m(\u001b[0m\u001b[0;34m)\u001b[0m\u001b[0;34m\u001b[0m\u001b[0m\n\u001b[0;32m----> 2\u001b[0;31m \u001b[0ml\u001b[0m\u001b[0;34m[\u001b[0m\u001b[0;36m0\u001b[0m\u001b[0;34m]\u001b[0m\u001b[0;34m\u001b[0m\u001b[0m\n\u001b[0m",
      "\u001b[0;31mIndexError\u001b[0m: list index out of range"
     ]
    }
   ],
   "source": [
    "l = list()\n",
    "l[0]"
   ]
  },
  {
   "cell_type": "code",
   "execution_count": 47,
   "metadata": {},
   "outputs": [
    {
     "ename": "TypeError",
     "evalue": "can only concatenate list (not \"int\") to list",
     "output_type": "error",
     "traceback": [
      "\u001b[0;31m---------------------------------------------------------------------------\u001b[0m",
      "\u001b[0;31mTypeError\u001b[0m                                 Traceback (most recent call last)",
      "\u001b[0;32m<ipython-input-47-154280c4c1f4>\u001b[0m in \u001b[0;36m<module>\u001b[0;34m()\u001b[0m\n\u001b[0;32m----> 1\u001b[0;31m \u001b[0ml\u001b[0m \u001b[0;34m+\u001b[0m \u001b[0;36m1\u001b[0m\u001b[0;34m\u001b[0m\u001b[0m\n\u001b[0m",
      "\u001b[0;31mTypeError\u001b[0m: can only concatenate list (not \"int\") to list"
     ]
    }
   ],
   "source": [
    "l + 1"
   ]
  },
  {
   "cell_type": "code",
   "execution_count": 48,
   "metadata": {},
   "outputs": [
    {
     "ename": "ValueError",
     "evalue": "invalid literal for int() with base 10: 'timoleon'",
     "output_type": "error",
     "traceback": [
      "\u001b[0;31m---------------------------------------------------------------------------\u001b[0m",
      "\u001b[0;31mValueError\u001b[0m                                Traceback (most recent call last)",
      "\u001b[0;32m<ipython-input-48-87351a0737cb>\u001b[0m in \u001b[0;36m<module>\u001b[0;34m()\u001b[0m\n\u001b[0;32m----> 1\u001b[0;31m \u001b[0mint\u001b[0m\u001b[0;34m(\u001b[0m\u001b[0;34m'timoleon'\u001b[0m\u001b[0;34m)\u001b[0m\u001b[0;34m\u001b[0m\u001b[0m\n\u001b[0m",
      "\u001b[0;31mValueError\u001b[0m: invalid literal for int() with base 10: 'timoleon'"
     ]
    }
   ],
   "source": [
    "int('timoleon')"
   ]
  },
  {
   "cell_type": "code",
   "execution_count": 49,
   "metadata": {},
   "outputs": [
    {
     "ename": "FileNotFoundError",
     "evalue": "[Errno 2] No such file or directory: 'timoleon.calbuth'",
     "output_type": "error",
     "traceback": [
      "\u001b[0;31m---------------------------------------------------------------------------\u001b[0m",
      "\u001b[0;31mFileNotFoundError\u001b[0m                         Traceback (most recent call last)",
      "\u001b[0;32m<ipython-input-49-7c2fa1a36281>\u001b[0m in \u001b[0;36m<module>\u001b[0;34m()\u001b[0m\n\u001b[0;32m----> 1\u001b[0;31m \u001b[0mopen\u001b[0m\u001b[0;34m(\u001b[0m\u001b[0;34m'timoleon.calbuth'\u001b[0m\u001b[0;34m,\u001b[0m \u001b[0;34m'rt'\u001b[0m\u001b[0;34m)\u001b[0m\u001b[0;34m\u001b[0m\u001b[0m\n\u001b[0m",
      "\u001b[0;31mFileNotFoundError\u001b[0m: [Errno 2] No such file or directory: 'timoleon.calbuth'"
     ]
    }
   ],
   "source": [
    "open('timoleon.calbuth', 'rt')"
   ]
  },
  {
   "cell_type": "code",
   "execution_count": 50,
   "metadata": {},
   "outputs": [
    {
     "ename": "FileExistsError",
     "evalue": "[Errno 17] File exists: 'cigaleUTF8.txt'",
     "output_type": "error",
     "traceback": [
      "\u001b[0;31m---------------------------------------------------------------------------\u001b[0m",
      "\u001b[0;31mFileExistsError\u001b[0m                           Traceback (most recent call last)",
      "\u001b[0;32m<ipython-input-50-a070ffe6a464>\u001b[0m in \u001b[0;36m<module>\u001b[0;34m()\u001b[0m\n\u001b[0;32m----> 1\u001b[0;31m \u001b[0mopen\u001b[0m\u001b[0;34m(\u001b[0m\u001b[0;34m'cigaleUTF8.txt'\u001b[0m\u001b[0;34m,\u001b[0m \u001b[0;34m'xt'\u001b[0m\u001b[0;34m)\u001b[0m\u001b[0;34m\u001b[0m\u001b[0m\n\u001b[0m",
      "\u001b[0;31mFileExistsError\u001b[0m: [Errno 17] File exists: 'cigaleUTF8.txt'"
     ]
    }
   ],
   "source": [
    "open('cigaleUTF8.txt', 'xt')"
   ]
  },
  {
   "cell_type": "markdown",
   "metadata": {
    "toc-hr-collapsed": true
   },
   "source": [
    "## Déclencher une exception"
   ]
  },
  {
   "cell_type": "markdown",
   "metadata": {},
   "source": [
    "Les exceptions sont déclenchées par certaines opérations prédéfinies. Mais il est possible de programmer le déclenchement d'exceptions, avec par exemple\n",
    "* l'instruction  `assert`\n",
    "* ou bien l'instruction `raise`."
   ]
  },
  {
   "cell_type": "markdown",
   "metadata": {},
   "source": [
    "### L'instruction `assert`"
   ]
  },
  {
   "cell_type": "markdown",
   "metadata": {},
   "source": [
    "L'instruction `assert` s'accompagne toujours d'une expression booléenne, et éventuellement d'une chaîne de caractères.\n",
    "\n",
    "     assert <expr bool> [, <chaine de caractère>]"
   ]
  },
  {
   "cell_type": "markdown",
   "metadata": {},
   "source": [
    "Lorsqu'elle est exécutée, cette instruction ne fait rien si l'expression booléenne est vraie. Par exemple :"
   ]
  },
  {
   "cell_type": "code",
   "execution_count": 51,
   "metadata": {},
   "outputs": [],
   "source": [
    "x = 0\n",
    "assert  x == 0, 'x doit être nul'"
   ]
  },
  {
   "cell_type": "markdown",
   "metadata": {},
   "source": [
    "En revanche, si l'expression booléenne est fausse, alors elle déclenche l'exception `AssertionError`, éventuellement accompagnée du message contenu dans la chaîne de caractères si elle est présente. Par exemple :"
   ]
  },
  {
   "cell_type": "code",
   "execution_count": 52,
   "metadata": {},
   "outputs": [
    {
     "ename": "AssertionError",
     "evalue": "x doit être nul",
     "output_type": "error",
     "traceback": [
      "\u001b[0;31m---------------------------------------------------------------------------\u001b[0m",
      "\u001b[0;31mAssertionError\u001b[0m                            Traceback (most recent call last)",
      "\u001b[0;32m<ipython-input-52-c2b238fa5de5>\u001b[0m in \u001b[0;36m<module>\u001b[0;34m()\u001b[0m\n\u001b[1;32m      1\u001b[0m \u001b[0mx\u001b[0m \u001b[0;34m=\u001b[0m \u001b[0;36m1\u001b[0m\u001b[0;34m\u001b[0m\u001b[0m\n\u001b[0;32m----> 2\u001b[0;31m \u001b[0;32massert\u001b[0m  \u001b[0mx\u001b[0m \u001b[0;34m==\u001b[0m \u001b[0;36m0\u001b[0m\u001b[0;34m,\u001b[0m \u001b[0;34m'x doit être nul'\u001b[0m\u001b[0;34m\u001b[0m\u001b[0m\n\u001b[0m",
      "\u001b[0;31mAssertionError\u001b[0m: x doit être nul"
     ]
    }
   ],
   "source": [
    "x = 1\n",
    "assert  x == 0, 'x doit être nul'"
   ]
  },
  {
   "cell_type": "markdown",
   "metadata": {},
   "source": [
    "### L'instruction `raise`"
   ]
  },
  {
   "cell_type": "markdown",
   "metadata": {},
   "source": [
    "L'instruction `raise` déclenche l'exception qui l'accompagne. Par exemple :"
   ]
  },
  {
   "cell_type": "code",
   "execution_count": 53,
   "metadata": {},
   "outputs": [
    {
     "ename": "ValueError",
     "evalue": "ceci est une exception déclenchée par moi",
     "output_type": "error",
     "traceback": [
      "\u001b[0;31m---------------------------------------------------------------------------\u001b[0m",
      "\u001b[0;31mValueError\u001b[0m                                Traceback (most recent call last)",
      "\u001b[0;32m<ipython-input-53-e6ec0b7abbd9>\u001b[0m in \u001b[0;36m<module>\u001b[0;34m()\u001b[0m\n\u001b[0;32m----> 1\u001b[0;31m \u001b[0;32mraise\u001b[0m \u001b[0mValueError\u001b[0m\u001b[0;34m(\u001b[0m\u001b[0;34m'ceci est une exception déclenchée par moi'\u001b[0m\u001b[0;34m)\u001b[0m\u001b[0;34m\u001b[0m\u001b[0m\n\u001b[0m",
      "\u001b[0;31mValueError\u001b[0m: ceci est une exception déclenchée par moi"
     ]
    }
   ],
   "source": [
    "raise ValueError('ceci est une exception déclenchée par moi')"
   ]
  },
  {
   "cell_type": "markdown",
   "metadata": {},
   "source": [
    "## Le loup dans la bergerie"
   ]
  },
  {
   "cell_type": "markdown",
   "metadata": {},
   "source": [
    "Prenons pour exemple, le cas de la saisie au clavier d’une date. Concevons donc une fonction sans paramètre dont le travail consiste à lire une date dans un format j/m/a, composé de trois nombres désignant le jour, le mois et l’année, séparés par des /."
   ]
  },
  {
   "cell_type": "markdown",
   "metadata": {},
   "source": [
    "La fonction qui suit donne une réalisation possible d’une telle fonction. Elle consiste\n",
    "\n",
    "* à saisir les données à l’aide de la fonction `input` ;\n",
    "* à découper la réponse à l’aide de la méthode `split` ;\n",
    "* et enfin à construire un triplet d’entiers avec les trois composantes de la réponse (qui sont des chaînes de caractères)."
   ]
  },
  {
   "cell_type": "code",
   "execution_count": 54,
   "metadata": {},
   "outputs": [],
   "source": [
    "def lire_date1():\n",
    "    \"\"\"\n",
    "    :return: (dict) une date sous la forme d'un dictionnaire à trois clés jour, mois, annee \n",
    "    :effet de bord: lecture d'une donnée sur l'entrée standard\n",
    "    :CU: validité des données lues\n",
    "    \"\"\"\n",
    "    reponse = input('j/m/a ? ')\n",
    "    reponse = reponse.split('/')\n",
    "    date = {'jour' : int(reponse[0]), 'mois' : int(reponse[1]), 'annee' : int(reponse[2])}\n",
    "    return date"
   ]
  },
  {
   "cell_type": "markdown",
   "metadata": {},
   "source": [
    "Cette fonction convient parfaitement pour des données correctement saisies."
   ]
  },
  {
   "cell_type": "code",
   "execution_count": 55,
   "metadata": {},
   "outputs": [
    {
     "name": "stdin",
     "output_type": "stream",
     "text": [
      "j/m/a ?  23/03/2020\n"
     ]
    },
    {
     "data": {
      "text/plain": [
       "{'annee': 2020, 'jour': 23, 'mois': 3}"
      ]
     },
     "execution_count": 55,
     "metadata": {},
     "output_type": "execute_result"
    }
   ],
   "source": [
    "lire_date1()"
   ]
  },
  {
   "cell_type": "markdown",
   "metadata": {},
   "source": [
    "Mais elle déclenche des exceptions si les données sont saisies dans un format incorrect."
   ]
  },
  {
   "cell_type": "code",
   "execution_count": 56,
   "metadata": {},
   "outputs": [
    {
     "name": "stdin",
     "output_type": "stream",
     "text": [
      "j/m/a ?  23/mars/2020\n"
     ]
    },
    {
     "ename": "ValueError",
     "evalue": "invalid literal for int() with base 10: 'mars'",
     "output_type": "error",
     "traceback": [
      "\u001b[0;31m---------------------------------------------------------------------------\u001b[0m",
      "\u001b[0;31mValueError\u001b[0m                                Traceback (most recent call last)",
      "\u001b[0;32m<ipython-input-56-80ebe3ec038f>\u001b[0m in \u001b[0;36m<module>\u001b[0;34m()\u001b[0m\n\u001b[0;32m----> 1\u001b[0;31m \u001b[0mlire_date1\u001b[0m\u001b[0;34m(\u001b[0m\u001b[0;34m)\u001b[0m\u001b[0;34m\u001b[0m\u001b[0m\n\u001b[0m",
      "\u001b[0;32m<ipython-input-54-4af11200a34b>\u001b[0m in \u001b[0;36mlire_date1\u001b[0;34m()\u001b[0m\n\u001b[1;32m      7\u001b[0m     \u001b[0mreponse\u001b[0m \u001b[0;34m=\u001b[0m \u001b[0minput\u001b[0m\u001b[0;34m(\u001b[0m\u001b[0;34m'j/m/a ? '\u001b[0m\u001b[0;34m)\u001b[0m\u001b[0;34m\u001b[0m\u001b[0m\n\u001b[1;32m      8\u001b[0m     \u001b[0mreponse\u001b[0m \u001b[0;34m=\u001b[0m \u001b[0mreponse\u001b[0m\u001b[0;34m.\u001b[0m\u001b[0msplit\u001b[0m\u001b[0;34m(\u001b[0m\u001b[0;34m'/'\u001b[0m\u001b[0;34m)\u001b[0m\u001b[0;34m\u001b[0m\u001b[0m\n\u001b[0;32m----> 9\u001b[0;31m     \u001b[0mdate\u001b[0m \u001b[0;34m=\u001b[0m \u001b[0;34m{\u001b[0m\u001b[0;34m'jour'\u001b[0m \u001b[0;34m:\u001b[0m \u001b[0mint\u001b[0m\u001b[0;34m(\u001b[0m\u001b[0mreponse\u001b[0m\u001b[0;34m[\u001b[0m\u001b[0;36m0\u001b[0m\u001b[0;34m]\u001b[0m\u001b[0;34m)\u001b[0m\u001b[0;34m,\u001b[0m \u001b[0;34m'mois'\u001b[0m \u001b[0;34m:\u001b[0m \u001b[0mint\u001b[0m\u001b[0;34m(\u001b[0m\u001b[0mreponse\u001b[0m\u001b[0;34m[\u001b[0m\u001b[0;36m1\u001b[0m\u001b[0;34m]\u001b[0m\u001b[0;34m)\u001b[0m\u001b[0;34m,\u001b[0m \u001b[0;34m'annee'\u001b[0m \u001b[0;34m:\u001b[0m \u001b[0mint\u001b[0m\u001b[0;34m(\u001b[0m\u001b[0mreponse\u001b[0m\u001b[0;34m[\u001b[0m\u001b[0;36m2\u001b[0m\u001b[0;34m]\u001b[0m\u001b[0;34m)\u001b[0m\u001b[0;34m}\u001b[0m\u001b[0;34m\u001b[0m\u001b[0m\n\u001b[0m\u001b[1;32m     10\u001b[0m     \u001b[0;32mreturn\u001b[0m \u001b[0mdate\u001b[0m\u001b[0;34m\u001b[0m\u001b[0m\n",
      "\u001b[0;31mValueError\u001b[0m: invalid literal for int() with base 10: 'mars'"
     ]
    }
   ],
   "source": [
    "lire_date1()"
   ]
  },
  {
   "cell_type": "markdown",
   "metadata": {},
   "source": [
    "Ou pire elle peut donner des résultats incohérents."
   ]
  },
  {
   "cell_type": "code",
   "execution_count": 57,
   "metadata": {},
   "outputs": [
    {
     "name": "stdin",
     "output_type": "stream",
     "text": [
      "j/m/a ?  2020/03/23\n"
     ]
    },
    {
     "data": {
      "text/plain": [
       "{'annee': 23, 'jour': 2020, 'mois': 3}"
      ]
     },
     "execution_count": 57,
     "metadata": {},
     "output_type": "execute_result"
    }
   ],
   "source": [
    "lire_date1()"
   ]
  },
  {
   "cell_type": "markdown",
   "metadata": {},
   "source": [
    "Le loup est entré dans la bergerie !\n",
    "\n",
    "Le loup est l’utilisateur du programme. Le programmeur ne le connaît le plus souvent pas. Et cet utilisateur est très certainement un être humain qui peut commettre des erreurs comme celles mentionnées ci-dessus."
   ]
  },
  {
   "cell_type": "markdown",
   "metadata": {},
   "source": [
    "## L'instruction `try ... except ...` "
   ]
  },
  {
   "cell_type": "markdown",
   "metadata": {},
   "source": [
    "Lorsqu'une exception est déclenchée, l'exécution du programme est interrompue. Ce n'est pas toujours souhaitable, en particulier dans le cas d'une mauvaise saisie (d'une date par exemple)."
   ]
  },
  {
   "cell_type": "markdown",
   "metadata": {},
   "source": [
    "L’instruction `try: ... except...` permet au programmeur de programmer des situations normales (partie `try`) et (tenter de) prévoir des situations anormales ou exceptionnelles (partie `except`).\n",
    "\n",
    "Une telle forme d’instruction est appelée traitement d’exceptions. En Python elle s’écrit toujours :\n",
    "\n",
    "~~~python\n",
    "try:\n",
    "   # instructions du traitement normal\n",
    "except <exception> :\n",
    "   # instructions du traitement exceptionnel\n",
    "~~~\n",
    "\n",
    "Elle commence par le mot-clé `try` suivi des deux points (`:`), suivie d’un bloc (indenté) d’instructions à exécuter dans le cas où aucune exception n’est déclenchée. Elle est suivie par une (ou plusieurs) partie(s) débutant par le mot-clé `except` définissant les actions à réaliser dans le cas où l’exception précisée à la suite du mot-clé except est déclenchée."
   ]
  },
  {
   "cell_type": "markdown",
   "metadata": {},
   "source": [
    "Voici un premier exemple simple :"
   ]
  },
  {
   "cell_type": "code",
   "execution_count": 58,
   "metadata": {},
   "outputs": [
    {
     "name": "stdout",
     "output_type": "stream",
     "text": [
      "Tentative de division par zéro\n"
     ]
    }
   ],
   "source": [
    "x = 1\n",
    "try:\n",
    "    x = x + 10 // 0\n",
    "except ZeroDivisionError:\n",
    "    print('Tentative de division par zéro')"
   ]
  },
  {
   "cell_type": "markdown",
   "metadata": {},
   "source": [
    "La division par zéro dans l'instruction du bloc qui suit le mot `try:` déclenche une  exception `ZeroDivisionError`, mais cette exception n'a pas interrompu le déroulement du programme puisque la partie `except` qui suit est justement consacré à décrire ce qu'il convient que le programme exécute lorsque cette exception est déclenchée. Ici c'est juste l'impression d'un message, et le programme a pu se terminer sans erreur.\n",
    "\n",
    "L'instruction de la partie `try` n'a pas pu s'achever normalement, et la variable `x` n'a pas changé de valeur comme on peut le vérifier :"
   ]
  },
  {
   "cell_type": "code",
   "execution_count": 59,
   "metadata": {},
   "outputs": [
    {
     "data": {
      "text/plain": [
       "1"
      ]
     },
     "execution_count": 59,
     "metadata": {},
     "output_type": "execute_result"
    }
   ],
   "source": [
    "x"
   ]
  },
  {
   "cell_type": "markdown",
   "metadata": {},
   "source": [
    "Considérons ce second exemple :"
   ]
  },
  {
   "cell_type": "code",
   "execution_count": 60,
   "metadata": {},
   "outputs": [
    {
     "ename": "ValueError",
     "evalue": "invalid literal for int() with base 10: 'zero'",
     "output_type": "error",
     "traceback": [
      "\u001b[0;31m---------------------------------------------------------------------------\u001b[0m",
      "\u001b[0;31mValueError\u001b[0m                                Traceback (most recent call last)",
      "\u001b[0;32m<ipython-input-60-1a550d392250>\u001b[0m in \u001b[0;36m<module>\u001b[0;34m()\u001b[0m\n\u001b[1;32m      1\u001b[0m \u001b[0mx\u001b[0m \u001b[0;34m=\u001b[0m \u001b[0;36m1\u001b[0m\u001b[0;34m\u001b[0m\u001b[0m\n\u001b[1;32m      2\u001b[0m \u001b[0;32mtry\u001b[0m\u001b[0;34m:\u001b[0m\u001b[0;34m\u001b[0m\u001b[0m\n\u001b[0;32m----> 3\u001b[0;31m     \u001b[0mx\u001b[0m \u001b[0;34m=\u001b[0m \u001b[0mx\u001b[0m \u001b[0;34m+\u001b[0m \u001b[0;36m10\u001b[0m \u001b[0;34m//\u001b[0m \u001b[0mint\u001b[0m\u001b[0;34m(\u001b[0m\u001b[0;34m'zero'\u001b[0m\u001b[0;34m)\u001b[0m\u001b[0;34m\u001b[0m\u001b[0m\n\u001b[0m\u001b[1;32m      4\u001b[0m \u001b[0;32mexcept\u001b[0m \u001b[0mZeroDivisionError\u001b[0m\u001b[0;34m:\u001b[0m\u001b[0;34m\u001b[0m\u001b[0m\n\u001b[1;32m      5\u001b[0m     \u001b[0mprint\u001b[0m\u001b[0;34m(\u001b[0m\u001b[0;34m'Tentative de division par zéro'\u001b[0m\u001b[0;34m)\u001b[0m\u001b[0;34m\u001b[0m\u001b[0m\n",
      "\u001b[0;31mValueError\u001b[0m: invalid literal for int() with base 10: 'zero'"
     ]
    }
   ],
   "source": [
    "x = 1\n",
    "try:\n",
    "    x = x + 10 // int('zero')\n",
    "except ZeroDivisionError:\n",
    "    print('Tentative de division par zéro')"
   ]
  },
  {
   "cell_type": "markdown",
   "metadata": {},
   "source": [
    "La fonction int est appliquée à une chaîne de caractères qui ne correspond pas à l’écriture décimale d’un nombre entier : elle déclenche donc une exception `ValueError`. Celle-ci n’est pas traitée puisque seule `ZeroDivisionError` l’est. \n",
    "\n",
    "Voici donc un traitement de deux exceptions :"
   ]
  },
  {
   "cell_type": "code",
   "execution_count": 61,
   "metadata": {},
   "outputs": [
    {
     "name": "stdout",
     "output_type": "stream",
     "text": [
      "Écriture du nombre incorrecte\n"
     ]
    }
   ],
   "source": [
    "x = 1\n",
    "try:\n",
    "    x = x + 10 // int ('zero')\n",
    "except ZeroDivisionError:\n",
    "    print('Tentative de division par zéro')\n",
    "except ValueError:\n",
    "    print('Écriture du nombre incorrecte')"
   ]
  },
  {
   "cell_type": "markdown",
   "metadata": {
    "toc-hr-collapsed": true
   },
   "source": [
    "## Le loup chassé de la bergerie"
   ]
  },
  {
   "cell_type": "markdown",
   "metadata": {},
   "source": [
    "Nous allons chasser le loup de la bergerie, en proposant des versions successives de la fonction lire_date qui prennent en compte divers problèmes."
   ]
  },
  {
   "cell_type": "markdown",
   "metadata": {},
   "source": [
    "### `lire_date2`"
   ]
  },
  {
   "cell_type": "markdown",
   "metadata": {},
   "source": [
    "La version `lire_date2` contrôle la saisie en refusant toute saisie ne comportant pas deux caractères / séparant les trois nombres. Une boucle infinie (`while True:`) répète inlassablement la saisie tant qu’elle ne contient pas les deux séparateurs requis. On sort de cette boucle infinie via l’instruction `return`."
   ]
  },
  {
   "cell_type": "code",
   "execution_count": 62,
   "metadata": {},
   "outputs": [],
   "source": [
    "def lire_date2():\n",
    "    \"\"\"\n",
    "    :return: (dict) une date sous la forme d'un dictionnaire à trois clés jour, mois, annee \n",
    "    :effet de bord: lecture d'une donnée sur l'entrée standard\n",
    "    :CU: validité des données lues\n",
    "    \"\"\"\n",
    "    while True:\n",
    "        reponse = input('j/m/a ? ')\n",
    "        reponse = reponse.split('/')\n",
    "        try:\n",
    "            assert len(reponse) == 3, 'il faut 2 /'          \n",
    "            date = {'jour' : int(reponse[0]), 'mois' : int(reponse[1]), 'annee' : int(reponse[2])}\n",
    "            return date\n",
    "        except AssertionError:\n",
    "            print('il faut 2 /')"
   ]
  },
  {
   "cell_type": "markdown",
   "metadata": {},
   "source": [
    "Voici un appel à cette fonction dans lequel il faut trois tentatives à l’utilisateur pour fournir une saisie avec deux / :"
   ]
  },
  {
   "cell_type": "code",
   "execution_count": 63,
   "metadata": {},
   "outputs": [
    {
     "name": "stdin",
     "output_type": "stream",
     "text": [
      "j/m/a ?  23-03-2020\n"
     ]
    },
    {
     "name": "stdout",
     "output_type": "stream",
     "text": [
      "il faut 2 /\n"
     ]
    },
    {
     "name": "stdin",
     "output_type": "stream",
     "text": [
      "j/m/a ?  23/3-2020\n"
     ]
    },
    {
     "name": "stdout",
     "output_type": "stream",
     "text": [
      "il faut 2 /\n"
     ]
    },
    {
     "name": "stdin",
     "output_type": "stream",
     "text": [
      "j/m/a ?  23/03/2020\n"
     ]
    },
    {
     "data": {
      "text/plain": [
       "{'annee': 2020, 'jour': 23, 'mois': 3}"
      ]
     },
     "execution_count": 63,
     "metadata": {},
     "output_type": "execute_result"
    }
   ],
   "source": [
    "lire_date2()"
   ]
  },
  {
   "cell_type": "markdown",
   "metadata": {},
   "source": [
    "La fonction `int` étant assez souple avec les espaces entourant les nombres, la saisie qui suit se passe très bien :"
   ]
  },
  {
   "cell_type": "code",
   "execution_count": 64,
   "metadata": {},
   "outputs": [
    {
     "name": "stdin",
     "output_type": "stream",
     "text": [
      "j/m/a ?  23   /  3  / 2020\n"
     ]
    },
    {
     "data": {
      "text/plain": [
       "{'annee': 2020, 'jour': 23, 'mois': 3}"
      ]
     },
     "execution_count": 64,
     "metadata": {},
     "output_type": "execute_result"
    }
   ],
   "source": [
    "lire_date2()"
   ]
  },
  {
   "cell_type": "markdown",
   "metadata": {},
   "source": [
    "La fonction `lire_date2` assure que la saisie des informations de l’utilisateur comprend bien deux séparateurs /. Mais elle ne contrôle absolument pas le contenu des trois champs séparés qui pourraient très bien ne pas contenir de représentation de nombres entiers :"
   ]
  },
  {
   "cell_type": "code",
   "execution_count": 65,
   "metadata": {},
   "outputs": [
    {
     "name": "stdin",
     "output_type": "stream",
     "text": [
      "j/m/a ?  23/mars/2020\n"
     ]
    },
    {
     "ename": "ValueError",
     "evalue": "invalid literal for int() with base 10: 'mars'",
     "output_type": "error",
     "traceback": [
      "\u001b[0;31m---------------------------------------------------------------------------\u001b[0m",
      "\u001b[0;31mValueError\u001b[0m                                Traceback (most recent call last)",
      "\u001b[0;32m<ipython-input-65-40426126adbb>\u001b[0m in \u001b[0;36m<module>\u001b[0;34m()\u001b[0m\n\u001b[0;32m----> 1\u001b[0;31m \u001b[0mlire_date2\u001b[0m\u001b[0;34m(\u001b[0m\u001b[0;34m)\u001b[0m\u001b[0;34m\u001b[0m\u001b[0m\n\u001b[0m",
      "\u001b[0;32m<ipython-input-62-877eadea8dfc>\u001b[0m in \u001b[0;36mlire_date2\u001b[0;34m()\u001b[0m\n\u001b[1;32m     10\u001b[0m         \u001b[0;32mtry\u001b[0m\u001b[0;34m:\u001b[0m\u001b[0;34m\u001b[0m\u001b[0m\n\u001b[1;32m     11\u001b[0m             \u001b[0;32massert\u001b[0m \u001b[0mlen\u001b[0m\u001b[0;34m(\u001b[0m\u001b[0mreponse\u001b[0m\u001b[0;34m)\u001b[0m \u001b[0;34m==\u001b[0m \u001b[0;36m3\u001b[0m\u001b[0;34m,\u001b[0m \u001b[0;34m'il faut 2 /'\u001b[0m\u001b[0;34m\u001b[0m\u001b[0m\n\u001b[0;32m---> 12\u001b[0;31m             \u001b[0mdate\u001b[0m \u001b[0;34m=\u001b[0m \u001b[0;34m{\u001b[0m\u001b[0;34m'jour'\u001b[0m \u001b[0;34m:\u001b[0m \u001b[0mint\u001b[0m\u001b[0;34m(\u001b[0m\u001b[0mreponse\u001b[0m\u001b[0;34m[\u001b[0m\u001b[0;36m0\u001b[0m\u001b[0;34m]\u001b[0m\u001b[0;34m)\u001b[0m\u001b[0;34m,\u001b[0m \u001b[0;34m'mois'\u001b[0m \u001b[0;34m:\u001b[0m \u001b[0mint\u001b[0m\u001b[0;34m(\u001b[0m\u001b[0mreponse\u001b[0m\u001b[0;34m[\u001b[0m\u001b[0;36m1\u001b[0m\u001b[0;34m]\u001b[0m\u001b[0;34m)\u001b[0m\u001b[0;34m,\u001b[0m \u001b[0;34m'annee'\u001b[0m \u001b[0;34m:\u001b[0m \u001b[0mint\u001b[0m\u001b[0;34m(\u001b[0m\u001b[0mreponse\u001b[0m\u001b[0;34m[\u001b[0m\u001b[0;36m2\u001b[0m\u001b[0;34m]\u001b[0m\u001b[0;34m)\u001b[0m\u001b[0;34m}\u001b[0m\u001b[0;34m\u001b[0m\u001b[0m\n\u001b[0m\u001b[1;32m     13\u001b[0m             \u001b[0;32mreturn\u001b[0m \u001b[0mdate\u001b[0m\u001b[0;34m\u001b[0m\u001b[0m\n\u001b[1;32m     14\u001b[0m         \u001b[0;32mexcept\u001b[0m \u001b[0mAssertionError\u001b[0m\u001b[0;34m:\u001b[0m\u001b[0;34m\u001b[0m\u001b[0m\n",
      "\u001b[0;31mValueError\u001b[0m: invalid literal for int() with base 10: 'mars'"
     ]
    }
   ],
   "source": [
    "lire_date2()"
   ]
  },
  {
   "cell_type": "markdown",
   "metadata": {},
   "source": [
    "### `lire_date3`"
   ]
  },
  {
   "cell_type": "markdown",
   "metadata": {},
   "source": [
    "La fonction `lire_date3` traite aussi l’exeption `ValueError` :"
   ]
  },
  {
   "cell_type": "code",
   "execution_count": 66,
   "metadata": {},
   "outputs": [],
   "source": [
    "def lire_date3():\n",
    "    \"\"\"\n",
    "    :return: (dict) une date sous la forme d'un dictionnaire à trois clés jour, mois, annee \n",
    "    :effet de bord: lecture d'une donnée sur l'entrée standard\n",
    "    :CU: validité des données lues\n",
    "    \"\"\"\n",
    "    while True:\n",
    "        reponse = input('j/m/a ? ')\n",
    "        reponse = reponse.split('/')\n",
    "        try:\n",
    "            assert len(reponse) == 3, 'il faut 2 /'          \n",
    "            date = {'jour' : int(reponse[0]), 'mois' : int(reponse[1]), 'annee' : int(reponse[2])}\n",
    "            return date\n",
    "        except AssertionError:\n",
    "            print('il faut 2 /')\n",
    "        except ValueError:\n",
    "            print('Date exprimée avec trois nombres svp !')"
   ]
  },
  {
   "cell_type": "code",
   "execution_count": 67,
   "metadata": {},
   "outputs": [
    {
     "name": "stdin",
     "output_type": "stream",
     "text": [
      "j/m/a ?  23-mars-2020\n"
     ]
    },
    {
     "name": "stdout",
     "output_type": "stream",
     "text": [
      "il faut 2 /\n"
     ]
    },
    {
     "name": "stdin",
     "output_type": "stream",
     "text": [
      "j/m/a ?  23/mars/2020\n"
     ]
    },
    {
     "name": "stdout",
     "output_type": "stream",
     "text": [
      "Date exprimée avec trois nombres svp !\n"
     ]
    },
    {
     "name": "stdin",
     "output_type": "stream",
     "text": [
      "j/m/a ?  23/3/2020\n"
     ]
    },
    {
     "data": {
      "text/plain": [
       "{'annee': 2020, 'jour': 23, 'mois': 3}"
      ]
     },
     "execution_count": 67,
     "metadata": {},
     "output_type": "execute_result"
    }
   ],
   "source": [
    "lire_date3()"
   ]
  },
  {
   "cell_type": "markdown",
   "metadata": {},
   "source": [
    "Mais cette fonction ne contrôle pas la validité de la date donnée :"
   ]
  },
  {
   "cell_type": "code",
   "execution_count": 68,
   "metadata": {},
   "outputs": [
    {
     "name": "stdin",
     "output_type": "stream",
     "text": [
      "j/m/a ?  2020/03/23\n"
     ]
    },
    {
     "data": {
      "text/plain": [
       "{'annee': 23, 'jour': 2020, 'mois': 3}"
      ]
     },
     "execution_count": 68,
     "metadata": {},
     "output_type": "execute_result"
    }
   ],
   "source": [
    "lire_date3()"
   ]
  },
  {
   "cell_type": "markdown",
   "metadata": {},
   "source": [
    "### `lire_date4`"
   ]
  },
  {
   "cell_type": "markdown",
   "metadata": {},
   "source": [
    "Voici une quatrième version de la fonction `lire_date`. Elle suppose défini un prédicat `est_date_valide` qui renvoie `True` ou `False` en fonction de la validité du triplet d’entiers passé en paramètre pour représenter une date."
   ]
  },
  {
   "cell_type": "markdown",
   "metadata": {},
   "source": [
    "À noter que l’exception `AssertionError` peut être déclenchée par deux instructions `assert`, et qu’il n’y a qu’une seule clause de traitement de cette exception. Le message imprimé à destination de l’utilisateur est mis dans une variable `err`."
   ]
  },
  {
   "cell_type": "code",
   "execution_count": 69,
   "metadata": {},
   "outputs": [],
   "source": [
    "from autour_calendrier import est_date_valide\n",
    "def lire_date4():\n",
    "    \"\"\"\n",
    "    :return: (dict) une date sous la forme d'un dictionnaire à trois clés jour, mois, annee \n",
    "    :effet de bord: lecture d'une donnée sur l'entrée standard\n",
    "    :CU: validité des données lues\n",
    "    \"\"\"\n",
    "    while True:\n",
    "        reponse = input('j/m/a ? ')\n",
    "        reponse = reponse.split('/')\n",
    "        try:\n",
    "            assert len(reponse) == 3, 'il faut 2 /'          \n",
    "            date = {'jour' : int(reponse[0]), 'mois' : int(reponse[1]), 'annee' : int(reponse[2])}\n",
    "            assert est_date_valide(date['jour'], date['mois'], date['annee']), 'date non valide'\n",
    "            return date\n",
    "        except AssertionError as err:\n",
    "            print(err)\n",
    "        except ValueError:\n",
    "            print('Date exprimée avec trois nombres svp !')"
   ]
  },
  {
   "cell_type": "code",
   "execution_count": 70,
   "metadata": {},
   "outputs": [
    {
     "name": "stdin",
     "output_type": "stream",
     "text": [
      "j/m/a ?  2020-3-23\n"
     ]
    },
    {
     "name": "stdout",
     "output_type": "stream",
     "text": [
      "il faut 2 /\n"
     ]
    },
    {
     "name": "stdin",
     "output_type": "stream",
     "text": [
      "j/m/a ?  2020/3/23\n"
     ]
    },
    {
     "name": "stdout",
     "output_type": "stream",
     "text": [
      "date non valide\n"
     ]
    },
    {
     "name": "stdin",
     "output_type": "stream",
     "text": [
      "j/m/a ?  23/3/2020\n"
     ]
    },
    {
     "data": {
      "text/plain": [
       "{'annee': 2020, 'jour': 23, 'mois': 3}"
      ]
     },
     "execution_count": 70,
     "metadata": {},
     "output_type": "execute_result"
    }
   ],
   "source": [
    "lire_date4()"
   ]
  },
  {
   "cell_type": "markdown",
   "metadata": {},
   "source": [
    "### Pourquoi pas `lire_date5` ?"
   ]
  },
  {
   "cell_type": "markdown",
   "metadata": {},
   "source": [
    "La gestion des exceptions peut être très complexe.\n",
    "\n",
    "Il peut être tentant de ne pas distingueur les cas d'exceptions et de faire un traitement unique pour toute exception comme dans la fonction suivante."
   ]
  },
  {
   "cell_type": "code",
   "execution_count": null,
   "metadata": {},
   "outputs": [],
   "source": [
    "def lire_date5():\n",
    "    \"\"\"\n",
    "    :return: (dict) une date sous la forme d'un dictionnaire à trois clés jour, mois, annee \n",
    "    :effet de bord: lecture d'une donnée sur l'entrée standard\n",
    "    :CU: validité des données lues\n",
    "    \"\"\"\n",
    "    while True:\n",
    "        reponse = input('j/m/a ? ')\n",
    "        reponse = reponse.split('/')\n",
    "        try:\n",
    "            assert len(reponse) == 3, 'il faut 2 /'          \n",
    "            date = {'jour' : int(reponse[0]), 'mois' : int(reponse[1]), 'annee' : int(reponse[2])}\n",
    "            assert est_date_valide(date['jour'], date['mois'], date['annee']), 'date non valide'\n",
    "            return date\n",
    "        except:\n",
    "            print('Date au format j/m/a svp !')"
   ]
  },
  {
   "cell_type": "markdown",
   "metadata": {},
   "source": [
    "Cet exemple n'est pas à suivre car\n",
    "\n",
    "* il ne permet pas le traitement différencié des exceptions selon leur nature ;\n",
    "* il ne permet même plus d'interrompre l'exécution par la combinaison de touches ctrl+c."
   ]
  },
  {
   "cell_type": "markdown",
   "metadata": {},
   "source": [
    "## Du code dangereux ?"
   ]
  },
  {
   "cell_type": "markdown",
   "metadata": {},
   "source": [
    "Python offre une fonction `exec` qui exécute la commande passée en paramètre. Cette commande doit être une chaîne de caractères contenant du code Python valide."
   ]
  },
  {
   "cell_type": "markdown",
   "metadata": {},
   "source": [
    "Voici quelques exemples :"
   ]
  },
  {
   "cell_type": "code",
   "execution_count": 71,
   "metadata": {},
   "outputs": [
    {
     "name": "stdout",
     "output_type": "stream",
     "text": [
      "5\n"
     ]
    }
   ],
   "source": [
    "exec('print(2 + 3)')"
   ]
  },
  {
   "cell_type": "code",
   "execution_count": 72,
   "metadata": {},
   "outputs": [
    {
     "ename": "SyntaxError",
     "evalue": "unexpected EOF while parsing (<string>, line 1)",
     "output_type": "error",
     "traceback": [
      "Traceback \u001b[0;36m(most recent call last)\u001b[0m:\n",
      "  File \u001b[1;32m\"/usr/local/lib/python3.5/dist-packages/IPython/core/interactiveshell.py\"\u001b[0m, line \u001b[1;32m2910\u001b[0m, in \u001b[1;35mrun_code\u001b[0m\n    exec(code_obj, self.user_global_ns, self.user_ns)\n",
      "\u001b[0;36m  File \u001b[0;32m\"<ipython-input-72-6160f3cf6a9b>\"\u001b[0;36m, line \u001b[0;32m1\u001b[0;36m, in \u001b[0;35m<module>\u001b[0;36m\u001b[0m\n\u001b[0;31m    exec('for i in range(10):')\u001b[0m\n",
      "\u001b[0;36m  File \u001b[0;32m\"<string>\"\u001b[0;36m, line \u001b[0;32m1\u001b[0m\n\u001b[0;31m    for i in range(10):\u001b[0m\n\u001b[0m                       ^\u001b[0m\n\u001b[0;31mSyntaxError\u001b[0m\u001b[0;31m:\u001b[0m unexpected EOF while parsing\n"
     ]
    }
   ],
   "source": [
    "exec('for i in range(10):')"
   ]
  },
  {
   "cell_type": "markdown",
   "metadata": {},
   "source": [
    "L'instruction transmise à `exec` doit être syntaxiquement correcte."
   ]
  },
  {
   "cell_type": "code",
   "execution_count": 74,
   "metadata": {},
   "outputs": [
    {
     "name": "stdout",
     "output_type": "stream",
     "text": [
      "0\n",
      "2\n",
      "4\n",
      "6\n",
      "8\n",
      "10\n",
      "12\n",
      "14\n",
      "16\n",
      "18\n"
     ]
    }
   ],
   "source": [
    "exec('''\n",
    "for i in range(10): \n",
    "   print(2*i)\n",
    "''')"
   ]
  },
  {
   "cell_type": "code",
   "execution_count": 75,
   "metadata": {},
   "outputs": [
    {
     "name": "stdout",
     "output_type": "stream",
     "text": [
      "32\n"
     ]
    }
   ],
   "source": [
    "exec('import random; print(random.randrange(100))')"
   ]
  },
  {
   "cell_type": "markdown",
   "metadata": {},
   "source": [
    "L'utilisation de cette fonction conjointement avec la fonction `input` permet d'écrire\n",
    "\n",
    "~~~python\n",
    "commande = input('?- ')\n",
    "exec(commande)\n",
    "~~~"
   ]
  },
  {
   "cell_type": "markdown",
   "metadata": {},
   "source": [
    "Mais ce code peut s'avérer désastreux si la commande passée par l'utilisateur est\n",
    "\n",
    "~~~python\n",
    "import os; os.system('rm -rf *')\n",
    "~~~\n",
    "\n",
    "Attention à cette commande car, sur un système de type Unix, elle détruit tous les fichiers situées dans le dossier courant ainsi que dans les sous-dossiers. \n",
    "En cas d'essai, à manipuler avec précaution !"
   ]
  },
  {
   "cell_type": "markdown",
   "metadata": {},
   "source": [
    "**Moralité de cet exemple :** Ne jamais exécuter de code provenant de l'extérieur !"
   ]
  }
 ],
 "metadata": {
  "kernelspec": {
   "display_name": "Python 3",
   "language": "python",
   "name": "python3"
  },
  "language_info": {
   "codemirror_mode": {
    "name": "ipython",
    "version": 3
   },
   "file_extension": ".py",
   "mimetype": "text/x-python",
   "name": "python",
   "nbconvert_exporter": "python",
   "pygments_lexer": "ipython3",
   "version": "3.5.3"
  },
  "toc-autonumbering": true,
  "toc-showcode": false,
  "toc-showmarkdowntxt": false,
  "widgets": {
   "application/vnd.jupyter.widget-state+json": {
    "state": {},
    "version_major": 2,
    "version_minor": 0
   }
  }
 },
 "nbformat": 4,
 "nbformat_minor": 4
}
