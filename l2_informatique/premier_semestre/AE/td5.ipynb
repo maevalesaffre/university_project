{
 "cells": [
  {
   "cell_type": "markdown",
   "metadata": {},
   "source": [
    "Q11 : il y en a existe $\\binom{2n}{n}$"
   ]
  },
  {
   "cell_type": "markdown",
   "metadata": {},
   "source": [
    "avec les anagrammes, il y en a $\\binom{2n}{n,n}$"
   ]
  },
  {
   "cell_type": "markdown",
   "metadata": {},
   "source": [
    "**Q1.2**"
   ]
  },
  {
   "cell_type": "markdown",
   "metadata": {},
   "source": [
    "**Q1.3** $$\\binom{2n}{n+1}$$"
   ]
  },
  {
   "cell_type": "markdown",
   "metadata": {},
   "source": [
    "avec les anagrammes, il y en a $\\binom{2n}{n+1,n-1}$"
   ]
  },
  {
   "cell_type": "code",
   "execution_count": 2,
   "metadata": {},
   "outputs": [],
   "source": [
    "def premier_defaut(m):\n",
    "    \"\"\"détermine l’indice du premier défaut de bon parenthésage\n",
    "    :param m: la chaine à tester\n",
    "    :type m: str\n",
    "    :return: l’indice du premier défaut\n",
    "    :rtype: int\n",
    "    CU. m est une chaîne ne contenant que des parenthèses\n",
    "    >>> premier_defaut(')')\n",
    "    0\n",
    "    >>> premier_defaut('()())(')\n",
    "    4\n",
    "    >>> premier_defaut('()()(')\n",
    "    4\n",
    "    \"\"\"\n",
    "    assert type(m) == str , \"m doit être une chaîne\"\n",
    "    assert set(m).issubset({ '(' , ')' }) , \"m ne doit contenir que des parenthèses\"\n",
    "    compteur = 0\n",
    "    i = 0\n",
    "    while i<len(m) and compteur>=0:\n",
    "        if m[i]=='(':\n",
    "                   compteur += 1\n",
    "        else:\n",
    "                   compteur -= 1\n",
    "        i += 1\n",
    "    assert compteur != 0 , \"m est bien parenthésé\"\n",
    "    return i-1"
   ]
  },
  {
   "cell_type": "code",
   "execution_count": 3,
   "metadata": {},
   "outputs": [
    {
     "ename": "AssertionError",
     "evalue": "m est bien parenthésé",
     "output_type": "error",
     "traceback": [
      "\u001b[0;31m---------------------------------------------------------------------------\u001b[0m",
      "\u001b[0;31mAssertionError\u001b[0m                            Traceback (most recent call last)",
      "\u001b[0;32m<ipython-input-3-872d841e5342>\u001b[0m in \u001b[0;36m<module>\u001b[0;34m\u001b[0m\n\u001b[0;32m----> 1\u001b[0;31m \u001b[0mpremier_defaut\u001b[0m\u001b[0;34m(\u001b[0m\u001b[0;34m\"(()())\"\u001b[0m\u001b[0;34m)\u001b[0m\u001b[0;34m\u001b[0m\u001b[0;34m\u001b[0m\u001b[0m\n\u001b[0m",
      "\u001b[0;32m<ipython-input-2-7b247e22b11d>\u001b[0m in \u001b[0;36mpremier_defaut\u001b[0;34m(m)\u001b[0m\n\u001b[1;32m     23\u001b[0m                    \u001b[0mcompteur\u001b[0m \u001b[0;34m-=\u001b[0m \u001b[0;36m1\u001b[0m\u001b[0;34m\u001b[0m\u001b[0;34m\u001b[0m\u001b[0m\n\u001b[1;32m     24\u001b[0m         \u001b[0mi\u001b[0m \u001b[0;34m+=\u001b[0m \u001b[0;36m1\u001b[0m\u001b[0;34m\u001b[0m\u001b[0;34m\u001b[0m\u001b[0m\n\u001b[0;32m---> 25\u001b[0;31m     \u001b[0;32massert\u001b[0m \u001b[0mcompteur\u001b[0m \u001b[0;34m!=\u001b[0m \u001b[0;36m0\u001b[0m \u001b[0;34m,\u001b[0m \u001b[0;34m\"m est bien parenthésé\"\u001b[0m\u001b[0;34m\u001b[0m\u001b[0;34m\u001b[0m\u001b[0m\n\u001b[0m\u001b[1;32m     26\u001b[0m     \u001b[0;32mreturn\u001b[0m \u001b[0mi\u001b[0m\u001b[0;34m-\u001b[0m\u001b[0;36m1\u001b[0m\u001b[0;34m\u001b[0m\u001b[0;34m\u001b[0m\u001b[0m\n",
      "\u001b[0;31mAssertionError\u001b[0m: m est bien parenthésé"
     ]
    }
   ],
   "source": [
    "premier_defaut(\"(()())\")"
   ]
  },
  {
   "cell_type": "code",
   "execution_count": 5,
   "metadata": {},
   "outputs": [
    {
     "data": {
      "text/plain": [
       "0"
      ]
     },
     "execution_count": 5,
     "metadata": {},
     "output_type": "execute_result"
    }
   ],
   "source": [
    "premier_defaut(\")()()\")"
   ]
  },
  {
   "cell_type": "code",
   "execution_count": 6,
   "metadata": {},
   "outputs": [],
   "source": [
    "ASSOCIATION= { '(' : ')', ')':'(' }\n",
    "def complement(m):\n",
    "    \"\"\" ... doc omise volontairement \"\"\"\n",
    "    return \"\".join([ASSOCIATION[c] for c in m])\n",
    "\n",
    "def transforme(m):\n",
    "    \"\"\" ... doc omise volontairement \"\"\"\n",
    "    i=premier_defaut(m)\n",
    "    return m[:i+1]+complement(m[i+1:])"
   ]
  },
  {
   "cell_type": "code",
   "execution_count": 7,
   "metadata": {
    "collapsed": true,
    "jupyter": {
     "outputs_hidden": true
    }
   },
   "outputs": [
    {
     "ename": "AssertionError",
     "evalue": "m est bien parenthésé",
     "output_type": "error",
     "traceback": [
      "\u001b[0;31m---------------------------------------------------------------------------\u001b[0m",
      "\u001b[0;31mAssertionError\u001b[0m                            Traceback (most recent call last)",
      "\u001b[0;32m<ipython-input-7-5d2315b9a65a>\u001b[0m in \u001b[0;36m<module>\u001b[0;34m\u001b[0m\n\u001b[0;32m----> 1\u001b[0;31m \u001b[0mtransforme\u001b[0m\u001b[0;34m(\u001b[0m\u001b[0;34m\"()\"\u001b[0m\u001b[0;34m)\u001b[0m\u001b[0;34m\u001b[0m\u001b[0;34m\u001b[0m\u001b[0m\n\u001b[0m",
      "\u001b[0;32m<ipython-input-6-c00959cd2083>\u001b[0m in \u001b[0;36mtransforme\u001b[0;34m(m)\u001b[0m\n\u001b[1;32m      6\u001b[0m \u001b[0;32mdef\u001b[0m \u001b[0mtransforme\u001b[0m\u001b[0;34m(\u001b[0m\u001b[0mm\u001b[0m\u001b[0;34m)\u001b[0m\u001b[0;34m:\u001b[0m\u001b[0;34m\u001b[0m\u001b[0;34m\u001b[0m\u001b[0m\n\u001b[1;32m      7\u001b[0m     \u001b[0;34m\"\"\" ... doc omise volontairement \"\"\"\u001b[0m\u001b[0;34m\u001b[0m\u001b[0;34m\u001b[0m\u001b[0m\n\u001b[0;32m----> 8\u001b[0;31m     \u001b[0mi\u001b[0m\u001b[0;34m=\u001b[0m\u001b[0mpremier_defaut\u001b[0m\u001b[0;34m(\u001b[0m\u001b[0mm\u001b[0m\u001b[0;34m)\u001b[0m\u001b[0;34m\u001b[0m\u001b[0;34m\u001b[0m\u001b[0m\n\u001b[0m\u001b[1;32m      9\u001b[0m     \u001b[0;32mreturn\u001b[0m \u001b[0mm\u001b[0m\u001b[0;34m[\u001b[0m\u001b[0;34m:\u001b[0m\u001b[0mi\u001b[0m\u001b[0;34m+\u001b[0m\u001b[0;36m1\u001b[0m\u001b[0;34m]\u001b[0m\u001b[0;34m+\u001b[0m\u001b[0mcomplement\u001b[0m\u001b[0;34m(\u001b[0m\u001b[0mm\u001b[0m\u001b[0;34m[\u001b[0m\u001b[0mi\u001b[0m\u001b[0;34m+\u001b[0m\u001b[0;36m1\u001b[0m\u001b[0;34m:\u001b[0m\u001b[0;34m]\u001b[0m\u001b[0;34m)\u001b[0m\u001b[0;34m\u001b[0m\u001b[0;34m\u001b[0m\u001b[0m\n",
      "\u001b[0;32m<ipython-input-2-7b247e22b11d>\u001b[0m in \u001b[0;36mpremier_defaut\u001b[0;34m(m)\u001b[0m\n\u001b[1;32m     23\u001b[0m                    \u001b[0mcompteur\u001b[0m \u001b[0;34m-=\u001b[0m \u001b[0;36m1\u001b[0m\u001b[0;34m\u001b[0m\u001b[0;34m\u001b[0m\u001b[0m\n\u001b[1;32m     24\u001b[0m         \u001b[0mi\u001b[0m \u001b[0;34m+=\u001b[0m \u001b[0;36m1\u001b[0m\u001b[0;34m\u001b[0m\u001b[0;34m\u001b[0m\u001b[0m\n\u001b[0;32m---> 25\u001b[0;31m     \u001b[0;32massert\u001b[0m \u001b[0mcompteur\u001b[0m \u001b[0;34m!=\u001b[0m \u001b[0;36m0\u001b[0m \u001b[0;34m,\u001b[0m \u001b[0;34m\"m est bien parenthésé\"\u001b[0m\u001b[0;34m\u001b[0m\u001b[0;34m\u001b[0m\u001b[0m\n\u001b[0m\u001b[1;32m     26\u001b[0m     \u001b[0;32mreturn\u001b[0m \u001b[0mi\u001b[0m\u001b[0;34m-\u001b[0m\u001b[0;36m1\u001b[0m\u001b[0;34m\u001b[0m\u001b[0;34m\u001b[0m\u001b[0m\n",
      "\u001b[0;31mAssertionError\u001b[0m: m est bien parenthésé"
     ]
    }
   ],
   "source": [
    "transforme(\"()\")"
   ]
  },
  {
   "cell_type": "code",
   "execution_count": 8,
   "metadata": {},
   "outputs": [
    {
     "data": {
      "text/plain": [
       "'))()'"
      ]
     },
     "execution_count": 8,
     "metadata": {},
     "output_type": "execute_result"
    }
   ],
   "source": [
    "transforme(\")()(\")"
   ]
  },
  {
   "cell_type": "markdown",
   "metadata": {},
   "source": [
    "`m` et `transforme(m)` ont même longueur"
   ]
  },
  {
   "cell_type": "markdown",
   "metadata": {},
   "source": [
    "`m` et `transforme(m)` ont même `premier_defaut`."
   ]
  },
  {
   "cell_type": "code",
   "execution_count": 10,
   "metadata": {},
   "outputs": [
    {
     "data": {
      "text/plain": [
       "')()('"
      ]
     },
     "execution_count": 10,
     "metadata": {},
     "output_type": "execute_result"
    }
   ],
   "source": [
    "transforme(transforme(\")()(\"))"
   ]
  },
  {
   "cell_type": "code",
   "execution_count": 11,
   "metadata": {},
   "outputs": [
    {
     "data": {
      "text/plain": [
       "'((())))('"
      ]
     },
     "execution_count": 11,
     "metadata": {},
     "output_type": "execute_result"
    }
   ],
   "source": [
    "transforme(transforme(\"((())))(\"))"
   ]
  },
  {
   "cell_type": "markdown",
   "metadata": {},
   "source": [
    "Pour toute chaine mal parenthésée `m`, `transforme(transforme(m)) == m`"
   ]
  },
  {
   "cell_type": "code",
   "execution_count": 12,
   "metadata": {},
   "outputs": [],
   "source": [
    "m = \"(())))\""
   ]
  },
  {
   "cell_type": "code",
   "execution_count": 13,
   "metadata": {},
   "outputs": [
    {
     "data": {
      "text/plain": [
       "'(()))('"
      ]
     },
     "execution_count": 13,
     "metadata": {},
     "output_type": "execute_result"
    }
   ],
   "source": [
    "transforme(m)"
   ]
  },
  {
   "cell_type": "markdown",
   "metadata": {},
   "source": [
    "On a lu précédemment $k$ parenthèses ouvrantes et $k+1$ parenthèses fermantes au moment de tomber sur le premier défaut."
   ]
  },
  {
   "cell_type": "markdown",
   "metadata": {},
   "source": [
    "Il reste donc $n-1-k$ parenthèses ouvrantes, et $n + 1 - (k+1) = n - k$ parenthèses fermantes après le premier défaut."
   ]
  },
  {
   "cell_type": "markdown",
   "metadata": {},
   "source": [
    "Quand on utilise `complément`, les  $n-1-k$ `(` deviennent `)` et les $n-k$ `)` deviennent `(`."
   ]
  },
  {
   "cell_type": "markdown",
   "metadata": {},
   "source": [
    "Il y a donc $k + n - k = n$ `(` et $k+1 + n - 1 - k = n$ `)`."
   ]
  },
  {
   "cell_type": "markdown",
   "metadata": {},
   "source": [
    "Si $m \\in M_m$, alors `transforme(m)` possède $n$ `(` et $n$ `)`."
   ]
  },
  {
   "cell_type": "markdown",
   "metadata": {},
   "source": [
    "Montrons que `transforme`  est bijective."
   ]
  },
  {
   "cell_type": "markdown",
   "metadata": {},
   "source": [
    "Si `transforme(m) == transforme(m')` alors  `transform(transforme(m)) == transforme(transforme(m'))`.\n",
    "\n",
    "Or d'après une question précédente , `transform(transforme(m)) == m` et  `transform(transforme(m')) == m'` donc `m == m'` ."
   ]
  },
  {
   "cell_type": "markdown",
   "metadata": {},
   "source": [
    "`transforme` est donc une fonction injective."
   ]
  },
  {
   "cell_type": "markdown",
   "metadata": {},
   "source": [
    "Soit $y$ mal parenthésée avec $n$ `(` et $n$ `)`"
   ]
  },
  {
   "cell_type": "markdown",
   "metadata": {},
   "source": [
    "Soit $x = transforme(y)$."
   ]
  },
  {
   "cell_type": "markdown",
   "metadata": {},
   "source": [
    "Alors `transforme(x) == transforme(transforme(y)) == y`."
   ]
  },
  {
   "cell_type": "markdown",
   "metadata": {},
   "source": [
    "`y` et `x` on même premier défaut `i`."
   ]
  },
  {
   "cell_type": "markdown",
   "metadata": {},
   "source": [
    "On a lu précédemment $k$ parenthèses ouvrantes et $k+1$ parenthèses fermantes au moment de tomber sur le premier défaut."
   ]
  },
  {
   "cell_type": "markdown",
   "metadata": {},
   "source": [
    "Il reste donc $n-k$ parenthèses ouvrantes, et $n  - (k+1) = n - k - 1 $ parenthèses fermantes après le premier défaut."
   ]
  },
  {
   "cell_type": "markdown",
   "metadata": {},
   "source": [
    "Quand on utilise `complément`, les  $n-k$ `(` deviennent `)` et les $n-k-1$ `)` deviennent `(`."
   ]
  },
  {
   "cell_type": "markdown",
   "metadata": {},
   "source": [
    "Il y a donc $k + n - k - 1 = n - 1$ `(` et $k+1 + n - k = n + 1$ `)`."
   ]
  },
  {
   "cell_type": "markdown",
   "metadata": {},
   "source": [
    "$$x \\in M_n$$"
   ]
  },
  {
   "cell_type": "markdown",
   "metadata": {},
   "source": [
    "transforme est donc surjective."
   ]
  },
  {
   "cell_type": "markdown",
   "metadata": {},
   "source": [
    "$transforme$ est une bijection de $M_n$ dasn $MP_n$ l'ensembles des mots mal parenthésés avec $n$ `(` et $n$ `)`."
   ]
  },
  {
   "cell_type": "markdown",
   "metadata": {},
   "source": [
    "Le cardinale de $BP_n$ est le cardinal des mots avec $n$ `(` et $n$ `)` - le cardinal de $MP_n$."
   ]
  },
  {
   "cell_type": "markdown",
   "metadata": {},
   "source": [
    "Or dans la question précédente, on a mopntré que $|MP_n| = |M_n|$"
   ]
  },
  {
   "cell_type": "markdown",
   "metadata": {},
   "source": [
    "$$|BP_n | = \\binom{2n}{n} - \\binom{2n}{n+1} = \\frac{\\binom{2n}{n}}{n+1}$$"
   ]
  },
  {
   "cell_type": "markdown",
   "metadata": {},
   "source": [
    "# Exercice 2\n",
    "\n",
    "**Q2.1** Il y en a $8^n$."
   ]
  },
  {
   "cell_type": "markdown",
   "metadata": {},
   "source": [
    "**Q2.2** Il y a $C_k = \\frac{\\binom{2k}{k}}{k+1}$ (cours)"
   ]
  },
  {
   "cell_type": "markdown",
   "metadata": {},
   "source": [
    "**Q2.3** $6^{n-2k}$."
   ]
  },
  {
   "cell_type": "markdown",
   "metadata": {},
   "source": [
    "**Q2.4** On commence par choisir les $2k$ emplacements des crochets ouvrants et fermants. Puis on remplit ces emplacements avec un mot bien parenthésé. Puis on complète les $n - 2k$ emplacements restants avec un mot utilisant les 6 symboles restants."
   ]
  },
  {
   "cell_type": "markdown",
   "metadata": {},
   "source": [
    "$$\\binom{n}{2k} \\times C_k \\times 6^{n-2k} $$"
   ]
  },
  {
   "cell_type": "markdown",
   "metadata": {},
   "source": [
    "**Q2.5** Un programme BF de $n$ symboles peut avoir 0, 1, 2, ... n//2 `[`."
   ]
  },
  {
   "cell_type": "markdown",
   "metadata": {},
   "source": [
    "$$\\sum_{k = 0}^{\\lfloor \\frac{n}{2} \\rfloor}  \\binom{n}{2k} \\times C_k \\times 6^{n-2k}$$"
   ]
  },
  {
   "cell_type": "markdown",
   "metadata": {},
   "source": [
    "# Exercice 3"
   ]
  },
  {
   "cell_type": "code",
   "execution_count": 22,
   "metadata": {},
   "outputs": [],
   "source": [
    "mot1 = \"DDDDHHHH\""
   ]
  },
  {
   "cell_type": "code",
   "execution_count": 23,
   "metadata": {},
   "outputs": [],
   "source": [
    "mot2 = \"DDDHDHHH\""
   ]
  },
  {
   "cell_type": "code",
   "execution_count": 24,
   "metadata": {},
   "outputs": [],
   "source": [
    "mot_14 = \"DHDHDHDH\""
   ]
  },
  {
   "cell_type": "code",
   "execution_count": 25,
   "metadata": {},
   "outputs": [
    {
     "data": {
      "text/plain": [
       "'DDHH DHDH'"
      ]
     },
     "execution_count": 25,
     "metadata": {},
     "output_type": "execute_result"
    }
   ],
   "source": [
    "\"DDHH DHDH\""
   ]
  },
  {
   "cell_type": "markdown",
   "metadata": {},
   "source": [
    "Si on choisit de représenter `(` pour aller vers la droite et `)` pour aller vers le haut, les chemins sous la diagonale sont représentés par des mots de Dyck"
   ]
  },
  {
   "cell_type": "markdown",
   "metadata": {},
   "source": [
    "Prouvons qu'un mot de Dyck représente un chemin sous la diagonale :\n",
    "- un préfixe doit avoir au moins autant de parenthèses ouvrantes que de fermantes : un point du chemin on a du aller plus souvent vers la droite que vers le haut donc on est resté sous la diagomnale."
   ]
  },
  {
   "cell_type": "markdown",
   "metadata": {},
   "source": [
    "Prouvons la réciprque : un chemin sous la diagonale peut etre représenté par un mot."
   ]
  },
  {
   "cell_type": "markdown",
   "metadata": {},
   "source": [
    "Soit un point $(i,j)$ du chemin. Pour atteindre $(i,j)$, on a eu $i$ `(` et $j$ `)`. Comme le point est sous la diagonale, on $i \\geq j$."
   ]
  },
  {
   "cell_type": "markdown",
   "metadata": {},
   "source": [
    "Donc tous les préfixes du mot ont au moins autant de parenthèses ouvrantes que fermantes.\n"
   ]
  },
  {
   "cell_type": "markdown",
   "metadata": {},
   "source": [
    "De plus, le chemin ser termine par $(n,n)$. On a donc $n$ `(` et $n$ `)` : il y a donc autant d'ouvrantes que de fermantes."
   ]
  },
  {
   "cell_type": "markdown",
   "metadata": {},
   "source": [
    "C'est donc un mot de Dyck."
   ]
  },
  {
   "cell_type": "markdown",
   "metadata": {},
   "source": [
    "On a donc autant de chemins sous la diagonale que de mots de Dyck : $C_n = \\frac{\\binom{2n}{n}}{n+1}$."
   ]
  },
  {
   "cell_type": "markdown",
   "metadata": {},
   "source": [
    "# Exercice 4\n",
    "\n",
    "**Q4.1** Il y en a $C_5$."
   ]
  },
  {
   "cell_type": "markdown",
   "metadata": {},
   "source": [
    "**Q4.2** On numérote les noeuds dans l'ordre infixe, puis on choisit un opérateur parmi 4 pour le noeud interne 1, PUIS on choisit un opérateur parmi 4 pour le noeud interne 2, etc..."
   ]
  },
  {
   "cell_type": "markdown",
   "metadata": {},
   "source": [
    "Comme on a 5 noeuds internes, on a donc $4^5$ façons possibles de décorer les noeuds internes."
   ]
  },
  {
   "cell_type": "markdown",
   "metadata": {},
   "source": [
    "**Q4.3** On choisit l'arbre PUIS les décorations : en utilisant la loi du produit, on a donc : $C_5 \\times 4^5$ arbres localements complets décorés avec les opérateurs."
   ]
  },
  {
   "cell_type": "markdown",
   "metadata": {},
   "source": [
    "**Q4.4** Pn choisit un arbre localement complet PUIS on choisit une décoration des noeuds internes, PUIS on choisit une décoration des feuilles par une permutation des 6 entiers."
   ]
  },
  {
   "cell_type": "markdown",
   "metadata": {},
   "source": [
    "On alors $C_5 \\times 4^5 \\times 6!$ arbres décorés."
   ]
  },
  {
   "cell_type": "markdown",
   "metadata": {},
   "source": [
    "$\\frac{\\binom{10}{5}}{6 } 4^5 . 6!$"
   ]
  },
  {
   "cell_type": "markdown",
   "metadata": {},
   "source": [
    "$\\frac{10!}{6!5!}4^5.6!$"
   ]
  },
  {
   "cell_type": "markdown",
   "metadata": {},
   "source": [
    "$10.9.8.7.6.4^5$"
   ]
  },
  {
   "cell_type": "code",
   "execution_count": 3,
   "metadata": {},
   "outputs": [
    {
     "data": {
      "text/plain": [
       "293865615360"
      ]
     },
     "execution_count": 3,
     "metadata": {},
     "output_type": "execute_result"
    }
   ],
   "source": [
    "10*9**7*6*4**5"
   ]
  },
  {
   "cell_type": "code",
   "execution_count": 18,
   "metadata": {},
   "outputs": [],
   "source": [
    "associes = {'(':')', '[':']'}\n",
    "\n",
    "def bien_parenthese(s):\n",
    "    i = 0\n",
    "    bien = True\n",
    "    pile = []\n",
    "    while i < len(s) and bien:\n",
    "        if s[i] == '(' or s[i] == '[':\n",
    "            pile.append(s[i])\n",
    "        elif s[i] == ')' or s[i] == ']':\n",
    "            if pile != []:\n",
    "                carac = pile.pop(-1)\n",
    "                bien = associes[carac] == s[i]\n",
    "            else:\n",
    "                bien = False\n",
    "        i = i + 1\n",
    "    return pile == [] and bien"
   ]
  },
  {
   "cell_type": "code",
   "execution_count": 21,
   "metadata": {},
   "outputs": [
    {
     "data": {
      "text/plain": [
       "False"
      ]
     },
     "execution_count": 21,
     "metadata": {},
     "output_type": "execute_result"
    }
   ],
   "source": [
    "bien_parenthese(\"[(])\")"
   ]
  },
  {
   "cell_type": "markdown",
   "metadata": {},
   "source": [
    "**Q5.1** Il y en a $C_n$."
   ]
  },
  {
   "cell_type": "markdown",
   "metadata": {},
   "source": [
    "**Q5.2** On choisit un mot bien parenthésé avec uniquement des parenthèses ouvrantes et on choisit $k$ `(` qu'on transforme en `[`. On transforme alors les $k$ `)` associées en `]`. Le mot obtenu reste bien parenthésé."
   ]
  },
  {
   "cell_type": "markdown",
   "metadata": {},
   "source": [
    "On a alors $B_{n,k} = C_n \\binom{n}{k}$"
   ]
  },
  {
   "cell_type": "code",
   "execution_count": 44,
   "metadata": {},
   "outputs": [],
   "source": [
    "def transforme_1(s, ind):\n",
    "    compteur = 0\n",
    "    i = 0\n",
    "    res = \"\"\n",
    "    while compteur < ind:\n",
    "        if ind > compteur:\n",
    "            res = res + s[i]\n",
    "        else:\n",
    "            res = res + '['\n",
    "        if s[i] == '(' or s[i] == '[':\n",
    "            compteur = compteur + 1\n",
    "        else:\n",
    "            compteur = compteur - 1\n",
    "        i = i + 1\n",
    "\n",
    "\n",
    "    compteur = 0\n",
    "    while compteur > 0:\n",
    "        if s[i] == '(' or s[i] == '[':\n",
    "            compteur = compteur + 1\n",
    "        else:\n",
    "            compteur = compteur - 1\n",
    "        if compteur > 0:\n",
    "            res = res + s[i]\n",
    "        else:\n",
    "            res = res + ']'\n",
    "        i = i + 1\n",
    "    return res + s[i:]\n",
    "    \n",
    "    \n",
    "def transforme(s, l):\n",
    "    \"\"\"\n",
    "    >>> transforme(\"(()(())())\", [0,2,3])\n",
    "    '[()[[]]()]'\n",
    "    \"\"\"\n",
    "    res = s\n",
    "    while l != []:\n",
    "        indice = l.pop()\n",
    "        res = transforme_1(s, indice)\n",
    "    return res "
   ]
  },
  {
   "cell_type": "code",
   "execution_count": 45,
   "metadata": {},
   "outputs": [
    {
     "data": {
      "text/plain": [
       "'(()(())())'"
      ]
     },
     "execution_count": 45,
     "metadata": {},
     "output_type": "execute_result"
    }
   ],
   "source": [
    "transforme_1(\"(()(())())\", 0)"
   ]
  },
  {
   "cell_type": "code",
   "execution_count": 38,
   "metadata": {},
   "outputs": [
    {
     "data": {
      "text/plain": [
       "'()(())()]'"
      ]
     },
     "execution_count": 38,
     "metadata": {},
     "output_type": "execute_result"
    }
   ],
   "source": [
    "transforme(\"(()(())())\", [0,2,3])"
   ]
  },
  {
   "cell_type": "markdown",
   "metadata": {},
   "source": [
    "**Q1.3**\n",
    "$$B_n = \\sum_k B_{n,k} = \\sum_{k=0}^{n} C_n \\times \\binom{n}{k}$$"
   ]
  },
  {
   "cell_type": "markdown",
   "metadata": {},
   "source": [
    "car un mot de $B_n$ peut avoir $k = 0$ `[` ou $k=1$ `[`, etc... ou $k= n$ `[`."
   ]
  },
  {
   "cell_type": "markdown",
   "metadata": {},
   "source": [
    "**Q5.8**\n",
    "\n",
    "On procède par raisonnent combinatoire.\n",
    "\n",
    "On note $BP_n$ l'ensemble des mots bien parenthésés avec $n$ symboles ouvrants (`[` ou `(`)"
   ]
  },
  {
   "cell_type": "markdown",
   "metadata": {},
   "source": [
    "On sait que $|BP_{n+1}| = B_{n+1}$"
   ]
  },
  {
   "cell_type": "markdown",
   "metadata": {},
   "source": [
    "w = `[` +  w_1 + `]` + w_2 ou w = `(` +  w_1 + `)` + w2"
   ]
  },
  {
   "cell_type": "markdown",
   "metadata": {},
   "source": [
    "w_1 et w_2 sont bien parenthésés."
   ]
  },
  {
   "cell_type": "code",
   "execution_count": 52,
   "metadata": {},
   "outputs": [],
   "source": [
    "associes = {'(':')', '[':']'}\n",
    "\n",
    "def decompose(s):\n",
    "    i = 0\n",
    "    bien = True\n",
    "    pile = []\n",
    "    fin_w1 = -1\n",
    "    while i < len(s) and bien:\n",
    "        if s[i] == '(' or s[i] == '[':\n",
    "            pile.append(s[i])\n",
    "        elif s[i] == ')' or s[i] == ']':\n",
    "            if pile != []:\n",
    "                carac = pile.pop(-1)\n",
    "                bien = associes[carac] == s[i]\n",
    "            else:\n",
    "                bien = False\n",
    "            if pile == [] and fin_w1 < 0:\n",
    "                fin_w1 = i\n",
    "        i = i + 1\n",
    "    return (s[1:fin_w1],s[fin_w1+1:])"
   ]
  },
  {
   "cell_type": "code",
   "execution_count": 53,
   "metadata": {},
   "outputs": [
    {
     "data": {
      "text/plain": [
       "('()', '[[]]()')"
      ]
     },
     "execution_count": 53,
     "metadata": {},
     "output_type": "execute_result"
    }
   ],
   "source": [
    "decompose('[()][[]]()')"
   ]
  },
  {
   "cell_type": "markdown",
   "metadata": {},
   "source": [
    "Soit $k$ le nb de symboles ouvrants de $w_1$, le nb de symboles ouvrants de $w_2$ est $n-k$"
   ]
  },
  {
   "cell_type": "markdown",
   "metadata": {},
   "source": [
    "Choisir $w$, revient à choisir un $k$, puis un type de symbole ouvrant, puis un mot w_1 dans $BP_k$, puis un mot w_2 dans $BP_{n-k}$."
   ]
  },
  {
   "cell_type": "markdown",
   "metadata": {},
   "source": [
    "Donc $|BP_{n+1}| = \\sum_k 2 |BP_k| |BP_{n-k}|$"
   ]
  },
  {
   "cell_type": "code",
   "execution_count": null,
   "metadata": {},
   "outputs": [],
   "source": []
  }
 ],
 "metadata": {
  "kernelspec": {
   "display_name": "Python 3",
   "language": "python",
   "name": "python3"
  },
  "language_info": {
   "codemirror_mode": {
    "name": "ipython",
    "version": 3
   },
   "file_extension": ".py",
   "mimetype": "text/x-python",
   "name": "python",
   "nbconvert_exporter": "python",
   "pygments_lexer": "ipython3",
   "version": "3.8.5"
  }
 },
 "nbformat": 4,
 "nbformat_minor": 4
}
