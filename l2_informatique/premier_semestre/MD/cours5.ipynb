{
 "cells": [
  {
   "cell_type": "markdown",
   "metadata": {},
   "source": [
    "Rappels\n",
    "=======\n",
    "\n",
    "-   Règle de la somme\n",
    "-   Règle du produit\n",
    "\n",
    "Mots bien parenthésés\n",
    "=====================\n",
    "\n",
    "Définition\n",
    "----------\n",
    "\n",
    "Soit $X = \\{ (, ) \\}$ l’ensemble a deux éléments, l’un appelé\n",
    "*parenthèse ouvrante*, l’autre *parenthèse fermante*."
   ]
  },
  {
   "cell_type": "code",
   "execution_count": null,
   "metadata": {},
   "outputs": [],
   "source": [
    "X = {'(', ')'}"
   ]
  },
  {
   "cell_type": "code",
   "execution_count": null,
   "metadata": {},
   "outputs": [],
   "source": [
    "X_n(3)"
   ]
  },
  {
   "cell_type": "code",
   "execution_count": null,
   "metadata": {},
   "outputs": [],
   "source": [
    "import itertools\n",
    "\n",
    "def X_n_paresseux(n):\n",
    "    return map(lambda it : ''.join(it), itertools.product(\"()\", repeat=n))\n",
    "def X_etoile():\n",
    "    return itertools.chain.from_iterable(map(X_n_paresseux, itertools.count(0)))"
   ]
  },
  {
   "cell_type": "code",
   "execution_count": null,
   "metadata": {},
   "outputs": [],
   "source": [
    "list(itertools.islice(X_etoile(), 100))"
   ]
  },
  {
   "cell_type": "markdown",
   "metadata": {},
   "source": [
    "On dit qu’un mot $w$ de $X^*$ est bien parenthésé si et seulement si :\n",
    "\n",
    "-   dans tout préfixe $p$ de $w$, le nombre d’occurrences de parenthèses\n",
    "    ouvrantes est supérieur ou égal au nombre d’occurences de\n",
    "    parenthèses fermantes ;\n",
    "-   le nombre d’occurrences de parenthèses ouvrantes dans $w$ est égal\n",
    "    au nombre d’occurrences de parenthèses fermantes."
   ]
  },
  {
   "cell_type": "code",
   "execution_count": null,
   "metadata": {},
   "outputs": [],
   "source": [
    "def bon_prefixe(p):\n",
    "\n",
    "\n",
    "def est_bien_parenthese_naif(w):\n"
   ]
  },
  {
   "cell_type": "code",
   "execution_count": null,
   "metadata": {},
   "outputs": [],
   "source": [
    "est_bien_parenthese_naif('()')"
   ]
  },
  {
   "cell_type": "code",
   "execution_count": null,
   "metadata": {},
   "outputs": [],
   "source": [
    "est_bien_parenthese_naif('())(()')"
   ]
  },
  {
   "cell_type": "code",
   "execution_count": null,
   "metadata": {},
   "outputs": [],
   "source": [
    "def est_bien_parenthese(w):\n"
   ]
  },
  {
   "cell_type": "code",
   "execution_count": null,
   "metadata": {},
   "outputs": [],
   "source": [
    "est_bien_parenthese('()')"
   ]
  },
  {
   "cell_type": "code",
   "execution_count": null,
   "metadata": {},
   "outputs": [],
   "source": [
    "est_bien_parenthese('())(()')"
   ]
  },
  {
   "cell_type": "markdown",
   "metadata": {},
   "source": [
    "On note $\\mathbb{B}$ l’ensemble des mots bien parenthésés, et\n",
    "$\\mathbb{B}_n$ l’ensemble des mots bien parenthésés de longueur $2n$."
   ]
  },
  {
   "cell_type": "code",
   "execution_count": null,
   "metadata": {},
   "outputs": [],
   "source": [
    "def B_n(n):\n",
    "    "
   ]
  },
  {
   "cell_type": "code",
   "execution_count": null,
   "metadata": {},
   "outputs": [],
   "source": [
    "B_n(0)"
   ]
  },
  {
   "cell_type": "code",
   "execution_count": null,
   "metadata": {},
   "outputs": [],
   "source": [
    "B_n(1)"
   ]
  },
  {
   "cell_type": "code",
   "execution_count": null,
   "metadata": {},
   "outputs": [],
   "source": [
    "B_n(2)"
   ]
  },
  {
   "cell_type": "code",
   "execution_count": null,
   "metadata": {},
   "outputs": [],
   "source": [
    "B_n(3)"
   ]
  },
  {
   "cell_type": "code",
   "execution_count": null,
   "metadata": {},
   "outputs": [],
   "source": [
    "B_n(4)"
   ]
  },
  {
   "cell_type": "markdown",
   "metadata": {},
   "source": [
    "Propriétés\n",
    "----------\n",
    "\n",
    "-   Le mot vide $\\epsilon$ est bien parenthésé.\n",
    "-   Si $w_1$ et $w_2$ sont bien parenthésés, alors leur concaténation\n",
    "    $w_1w_2$ aussi.\n",
    "-   Si $w$ est bien parenthésé, alors $(w)$ aussi.\n",
    "\n",
    "$\\mathbb{B}$ est le plus petit ensemble (au sens de l’inclusion)\n",
    "vérifiant ces 3 propriétés."
   ]
  },
  {
   "cell_type": "code",
   "execution_count": null,
   "metadata": {},
   "outputs": [],
   "source": [
    "# À ne pas utiliser...\n",
    "def B_n_v2(n):\n",
    "    "
   ]
  },
  {
   "cell_type": "code",
   "execution_count": null,
   "metadata": {},
   "outputs": [],
   "source": [
    "B_n_v2(1)"
   ]
  },
  {
   "cell_type": "code",
   "execution_count": null,
   "metadata": {},
   "outputs": [],
   "source": [
    "B_n_v2(3)"
   ]
  },
  {
   "cell_type": "markdown",
   "metadata": {},
   "source": [
    "Cette construction n’est pas satisfaisante : `()()()` peut être\n",
    "construit de plusieurs façons :\n",
    "\n",
    "-   `'()' + '()()'`\n",
    "-   `'()()' + '()'`\n",
    "\n",
    "On utilise alors des nouvelles propriétes :\n",
    "\n",
    "-   le mot vide $\\epsilon$ est bien parenthésé ;\n",
    "-   si $w_1$ et $w_2$ sont bien parenthésés, alors $(w_1)w_2$ aussi."
   ]
  },
  {
   "cell_type": "code",
   "execution_count": null,
   "metadata": {},
   "outputs": [],
   "source": [
    "def premiere_partie(w):\n",
    "    # premier_prefixe [w[:n] for n in range(1,len(w)+1) if est_bien_parenthese(w[:n])][0]\n",
    "    # return premier_prefixe[1:len(premier_prefixe)]\n",
    "    "
   ]
  },
  {
   "cell_type": "code",
   "execution_count": null,
   "metadata": {},
   "outputs": [],
   "source": [
    "premiere_partie('(()())()()')"
   ]
  },
  {
   "cell_type": "code",
   "execution_count": null,
   "metadata": {},
   "outputs": [],
   "source": [
    "def B_n_v3(n):\n",
    "    \n"
   ]
  },
  {
   "cell_type": "code",
   "execution_count": null,
   "metadata": {},
   "outputs": [],
   "source": [
    "B_n_v3(3)"
   ]
  },
  {
   "cell_type": "markdown",
   "metadata": {},
   "source": [
    "Arbres binaires\n",
    "===============\n",
    "\n",
    "Définitions : arbres binaires\n",
    "-----------------------------\n",
    "\n",
    "Soit $V$ un ensemble (de valeurs).\n",
    "\n",
    "On note $Δ$ l’*arbre vide*. (en python, ce sera `None`…)\n",
    "\n",
    "On note $AB(V)$ le plus petit ensemble (au sens de l’inclusion) tel que\n",
    ":\n",
    "\n",
    "-   cet ensemble contient $Δ$ ;\n",
    "-   si cet ensemble contient $fg$ et $fd$, et si $v \\in V$, alors cet\n",
    "    ensemble contient aussi $(v, fg, fd)$.\n",
    "\n",
    "$AB(V)$ est appelé l’ensemble des *arbres binaires*."
   ]
  },
  {
   "cell_type": "code",
   "execution_count": null,
   "metadata": {},
   "outputs": [],
   "source": [
    "# pour visualiser les arbres\n",
    "from graphviz import Digraph\n",
    "\n",
    "class TreeNode(object):\n",
    "    def __init__(self):\n",
    "        self.val = None\n",
    "        self.left = None\n",
    "        self.right = None\n",
    "\n",
    "def arbre_vers_tree(t):\n",
    "    if t:\n",
    "        tree = TreeNode()\n",
    "        (v, fg, fd) = t\n",
    "        tg = arbre_vers_tree(fg)\n",
    "        td = arbre_vers_tree(fd)\n",
    "        tree.val = v\n",
    "        tree.left = tg\n",
    "        tree.right = td\n",
    "    else :\n",
    "        tree = None\n",
    "    return tree\n",
    "        \n",
    "\n",
    "# code volé sur : https://h1ros.github.io/posts/introduction-to-graphviz-in-jupyter-notebook/\n",
    "def visualize_tree(t):\n",
    "    def add_nodes_edges(tree, dot=None):\n",
    "        # Create Digraph object\n",
    "        if dot is None:\n",
    "            dot = Digraph()\n",
    "            dot.node(name=str(tree), label=str(tree.val))\n",
    "\n",
    "        # Add nodes\n",
    "        if tree.left:\n",
    "            dot.node(name=str(tree.left) ,label=str(tree.left.val))\n",
    "            dot.edge(str(tree), str(tree.left))\n",
    "            dot = add_nodes_edges(tree.left, dot=dot)\n",
    "            \n",
    "        if tree.right:\n",
    "            dot.node(name=str(tree.right) ,label=str(tree.right.val))\n",
    "            dot.edge(str(tree), str(tree.right))\n",
    "            dot = add_nodes_edges(tree.right, dot=dot)\n",
    "\n",
    "        return dot\n",
    "    \n",
    "    # Add nodes recursively and create a list of edges\n",
    "    tree = arbre_vers_tree(t)\n",
    "    dot = add_nodes_edges(tree)\n",
    "\n",
    "    # Visualize the graph\n",
    "    # display(dot)\n",
    "    \n",
    "    return dot"
   ]
  },
  {
   "cell_type": "code",
   "execution_count": null,
   "metadata": {},
   "outputs": [],
   "source": [
    "visualize_tree((0,None,None))"
   ]
  },
  {
   "cell_type": "code",
   "execution_count": null,
   "metadata": {},
   "outputs": [],
   "source": [
    "visualize_tree((0,(1,(2,None,None),(3,None,None)),(4,None,None)))"
   ]
  },
  {
   "cell_type": "markdown",
   "metadata": {},
   "source": [
    "On peut construire naïvement par induction l’ensemble des arbres\n",
    "binaires."
   ]
  },
  {
   "cell_type": "code",
   "execution_count": null,
   "metadata": {},
   "outputs": [],
   "source": [
    "def Y_n(n, V):\n",
    "    "
   ]
  },
  {
   "cell_type": "markdown",
   "metadata": {},
   "source": [
    "Définitions : taille\n",
    "--------------------\n",
    "\n",
    "On définit une application $taille$ récursive de $AB(V)$ dans\n",
    "$\\mathbb{N}$ :\n",
    "\n",
    "$$\\left\\{\\begin{array}{rcl}\n",
    "taille(Δ) & = & 0 \\\\\n",
    "taille((v, fg, fd)) & = & 1 + taille(fg) + taille(fd)\n",
    "\\end{array}\\right.$$\n",
    "\n",
    "Cette fonction est bien définie."
   ]
  },
  {
   "cell_type": "code",
   "execution_count": null,
   "metadata": {},
   "outputs": [],
   "source": [
    "def taille(arbre):\n",
    "\n"
   ]
  },
  {
   "cell_type": "markdown",
   "metadata": {},
   "source": [
    "On note $AB_n(V)$ l’ensemble des arbres binaires de taille $n$."
   ]
  },
  {
   "cell_type": "code",
   "execution_count": null,
   "metadata": {},
   "outputs": [],
   "source": [
    "def AB_n(n, V):"
   ]
  },
  {
   "cell_type": "markdown",
   "metadata": {},
   "source": [
    "Dénombrement\n",
    "============\n",
    "\n",
    "Combien existe-t-il de mots bien parenthésés de taille $2n$ ?"
   ]
  },
  {
   "cell_type": "code",
   "execution_count": null,
   "metadata": {},
   "outputs": [],
   "source": []
  },
  {
   "cell_type": "code",
   "execution_count": null,
   "metadata": {},
   "outputs": [],
   "source": []
  },
  {
   "cell_type": "code",
   "execution_count": null,
   "metadata": {},
   "outputs": [],
   "source": []
  },
  {
   "cell_type": "code",
   "execution_count": null,
   "metadata": {},
   "outputs": [],
   "source": []
  },
  {
   "cell_type": "markdown",
   "metadata": {},
   "source": [
    "Combien existe-t-il d'arbres binaires de taille 2𝑛 ?"
   ]
  },
  {
   "cell_type": "code",
   "execution_count": null,
   "metadata": {},
   "outputs": [],
   "source": []
  },
  {
   "cell_type": "code",
   "execution_count": null,
   "metadata": {},
   "outputs": [],
   "source": []
  },
  {
   "cell_type": "code",
   "execution_count": null,
   "metadata": {},
   "outputs": [],
   "source": []
  },
  {
   "cell_type": "code",
   "execution_count": null,
   "metadata": {},
   "outputs": [],
   "source": []
  },
  {
   "cell_type": "markdown",
   "metadata": {},
   "source": [
    "Hum... Regardons l'[OEIS](https://oeis.org/)..."
   ]
  },
  {
   "cell_type": "markdown",
   "metadata": {},
   "source": [
    "$B_n$ et $AB_n(\\{0\\})$ ont même cardinal. Il sont donc en bijection."
   ]
  },
  {
   "cell_type": "code",
   "execution_count": null,
   "metadata": {},
   "outputs": [],
   "source": [
    "def dyck_vers_arbre(s):"
   ]
  },
  {
   "cell_type": "code",
   "execution_count": null,
   "metadata": {},
   "outputs": [],
   "source": []
  },
  {
   "cell_type": "code",
   "execution_count": null,
   "metadata": {},
   "outputs": [],
   "source": [
    "def arbre_vers_dyck(s):"
   ]
  },
  {
   "cell_type": "code",
   "execution_count": null,
   "metadata": {},
   "outputs": [],
   "source": []
  },
  {
   "cell_type": "markdown",
   "metadata": {},
   "source": [
    "On note $C_n$ et on appelle $n$ième nombre de Catalan le cardinal de $B_n$ (ou celui de $AB_n(\\{0\\})$)."
   ]
  },
  {
   "cell_type": "code",
   "execution_count": null,
   "metadata": {},
   "outputs": [],
   "source": []
  }
 ],
 "metadata": {
  "kernelspec": {
   "display_name": "Python 3",
   "language": "python",
   "name": "python3"
  },
  "language_info": {
   "codemirror_mode": {
    "name": "ipython",
    "version": 3
   },
   "file_extension": ".py",
   "mimetype": "text/x-python",
   "name": "python",
   "nbconvert_exporter": "python",
   "pygments_lexer": "ipython3",
   "version": "3.8.5"
  }
 },
 "nbformat": 4,
 "nbformat_minor": 5
}
